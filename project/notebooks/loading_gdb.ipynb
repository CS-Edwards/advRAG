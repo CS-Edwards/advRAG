{
 "cells": [
  {
   "cell_type": "code",
   "execution_count": 7,
   "metadata": {},
   "outputs": [
    {
     "data": {
      "text/plain": [
       "'3.10.6 (tags/v3.10.6:9c7b4bd, Aug  1 2022, 21:53:49) [MSC v.1932 64 bit (AMD64)]'"
      ]
     },
     "execution_count": 7,
     "metadata": {},
     "output_type": "execute_result"
    }
   ],
   "source": [
    "import sys\n",
    "sys.version"
   ]
  },
  {
   "cell_type": "code",
   "execution_count": 8,
   "metadata": {},
   "outputs": [
    {
     "name": "stderr",
     "output_type": "stream",
     "text": [
      "\n",
      "[notice] A new release of pip available: 22.2.1 -> 24.0\n",
      "[notice] To update, run: python.exe -m pip install --upgrade pip\n",
      "\n",
      "[notice] A new release of pip available: 22.2.1 -> 24.0\n",
      "[notice] To update, run: python.exe -m pip install --upgrade pip\n",
      "\n",
      "[notice] A new release of pip available: 22.2.1 -> 24.0\n",
      "[notice] To update, run: python.exe -m pip install --upgrade pip\n",
      "\n",
      "[notice] A new release of pip available: 22.2.1 -> 24.0\n",
      "[notice] To update, run: python.exe -m pip install --upgrade pip\n"
     ]
    }
   ],
   "source": [
    "! pip install -q python-dotenv\n",
    "! pip install -q neo4j\n",
    "! pip install -q langchain\n",
    "! pip install -q langchain-openai"
   ]
  },
  {
   "cell_type": "code",
   "execution_count": 9,
   "metadata": {},
   "outputs": [],
   "source": [
    "from neo4j import GraphDatabase\n",
    "import json\n",
    "\n",
    "from langchain_community.graphs import Neo4jGraph\n",
    "from langchain_community.vectorstores import Neo4jVector\n",
    "from langchain_openai import OpenAIEmbeddings\n",
    "\n",
    "\n",
    "\n",
    "\n",
    "import sys\n",
    "sys.path.append('../utils')  \n",
    "from helper import chunk_doc  "
   ]
  },
  {
   "cell_type": "code",
   "execution_count": 10,
   "metadata": {},
   "outputs": [],
   "source": [
    "import dotenv\n",
    "import os\n",
    "\n",
    "dotenv.load_dotenv()\n",
    "\n",
    "os.environ[\"NEO4J_URI\"] = os.getenv(\"URL\")\n",
    "os.environ[\"NEO4J_USERNAME\"]= os.getenv(\"USERNAME\")\n",
    "os.environ[\"NEO4J_PASSWORD\"] = os.getenv(\"PASSWORD\")\n",
    "os.environ[\"OPENAI_API_KEY\"] = os.getenv(\"OPENAIKEY\")"
   ]
  },
  {
   "cell_type": "code",
   "execution_count": null,
   "metadata": {},
   "outputs": [],
   "source": []
  },
  {
   "cell_type": "code",
   "execution_count": null,
   "metadata": {},
   "outputs": [],
   "source": []
  },
  {
   "cell_type": "code",
   "execution_count": null,
   "metadata": {},
   "outputs": [],
   "source": []
  },
  {
   "cell_type": "code",
   "execution_count": 12,
   "metadata": {},
   "outputs": [],
   "source": [
    "#\n",
    "# Neo4j with LangChain wrapper\n",
    "# [ERROR RESOLVED w/ APOC PLUGIN ENABLED]\n",
    "#\n",
    "\n",
    "graphDB = Neo4jGraph()"
   ]
  },
  {
   "cell_type": "code",
   "execution_count": null,
   "metadata": {},
   "outputs": [],
   "source": [
    "# graphDB.query(\"\"\"\n",
    "# MATCH (n)\n",
    "# RETURN COUNT(n)\n",
    "# \"\"\")"
   ]
  },
  {
   "cell_type": "code",
   "execution_count": 50,
   "metadata": {},
   "outputs": [],
   "source": [
    "#\n",
    "# ROOT NODES\n",
    "#\n",
    "\n",
    "root_aacsb_query =\"\"\" \n",
    "MERGE (r:Root {nodeCat: 'AACSB'})\n",
    "SET r.Title = 'AACSB',\n",
    "    r.nodeType = 'ROOT'\n",
    "RETURN r, ID(r) AS elementID\n",
    "\"\"\"\n",
    "\n",
    "root_institution_query =\"\"\" \n",
    "MERGE (r:Root {nodeCat: 'INSTITUTION'})\n",
    "SET r.Title = 'INSTITUTION',\n",
    "    r.nodeType = 'ROOT'\n",
    "RETURN r, ID(r) AS elementID\n",
    "\"\"\""
   ]
  },
  {
   "cell_type": "code",
   "execution_count": 49,
   "metadata": {},
   "outputs": [],
   "source": [
    "def create_root_nodes():\n",
    "    print('Initializing AACSB and INSTITUTION Root Nodes')\n",
    "    try:\n",
    "        graphDB.query(root_aacsb_query)\n",
    "        graphDB.query(root_institution_query)\n",
    "    \n",
    "    except Exception as e:\n",
    "        raise e\n"
   ]
  },
  {
   "cell_type": "code",
   "execution_count": 51,
   "metadata": {},
   "outputs": [
    {
     "name": "stdout",
     "output_type": "stream",
     "text": [
      "Initializing AACSB and INSTITUTION Root Nodes\n"
     ]
    }
   ],
   "source": [
    "create_root_nodes()"
   ]
  },
  {
   "cell_type": "code",
   "execution_count": 8,
   "metadata": {},
   "outputs": [],
   "source": [
    "#\n",
    "# STANDARDS NODES and child nodes\n",
    "# @TODO Link by -- parentStandardNum\n",
    "#\n",
    "\n",
    "standards_query = \"\"\"\n",
    "MERGE(s:Standard {standardNum: $standardsIn.Standard_num})\n",
    "    ON CREATE SET \n",
    "        s.parentSectionNum = $standardsIn.Section,\n",
    "        s.title =  $standardsIn.Standard_title,\n",
    "        s.text =  $standardsIn.Standard_formal, \n",
    "        s.nodeType = 'STANDARD', \n",
    "        s.nodeCat = 'AACSB',\n",
    "        s.source = 'https://www.aacsb.edu/educators/accreditation/business-accreditation/aacsb-business-accreditation-standards',\n",
    "        s.year = 2020\n",
    "        \n",
    "RETURN s, ID(s) as elementId\n",
    "\"\"\"\n",
    "\n",
    "definitions_query = \"\"\"\n",
    "MERGE(d:Definitions {parentStandardNum: $standardsIn.Standard_num})\n",
    "    ON CREATE SET \n",
    "        d.text = $standardsIn.Definitions,\n",
    "        d.standardTitle =  $standardsIn.Standard_title,\n",
    "        d.nodeType = 'DEFINITIONS', \n",
    "        d.nodeCat = 'AACSB'\n",
    "RETURN d, ID(d) as elementId\n",
    "\"\"\"\n",
    "\n",
    "basis_query = \"\"\"\n",
    "MERGE(b:Basis {parentStandardNum: $standardsIn.Standard_num})\n",
    "    ON CREATE SET \n",
    "        b.text = $standardsIn.Basis_for_judgement,\n",
    "        b.standardTitle =  $standardsIn.Standard_title,\n",
    "        b.nodeType = 'BASIS', \n",
    "        b.nodeCat = 'AACSB'\n",
    "RETURN b, ID(b) as elementId\n",
    "\"\"\"\n",
    "\n",
    "docs_query = \"\"\"\n",
    "MERGE(d:Documentation {parentStandardNum: $standardsIn.Standard_num})\n",
    "    ON CREATE SET \n",
    "        d.text = $standardsIn.Supporting_docs,\n",
    "        d.standardTitle =  $standardsIn.Standard_title,\n",
    "        d.nodeType = 'DOCUMENTATION', \n",
    "        d.nodeCat = 'AACSB'\n",
    "RETURN d, ID(d) as elementId\n",
    "\"\"\"\n",
    "\n"
   ]
  },
  {
   "cell_type": "code",
   "execution_count": 9,
   "metadata": {},
   "outputs": [
    {
     "name": "stdout",
     "output_type": "stream",
     "text": [
      "<class 'list'>\n"
     ]
    }
   ],
   "source": [
    "#\n",
    "# Read in Standards JSON\n",
    "#\n",
    "\n",
    "path =r'..\\data\\aacsb\\processed\\STANDARDS_2024-04-04_13-21-46.json'\n",
    "json_file = json.load(open(path))\n",
    "print(type(json_file)) #list"
   ]
  },
  {
   "cell_type": "code",
   "execution_count": null,
   "metadata": {},
   "outputs": [],
   "source": [
    "# standard_1 = json_file[0]\n",
    "# print(type(standard_1))\n",
    "\n",
    "# for k,v in standard_1.items():\n",
    "#     print(k,type(v))"
   ]
  },
  {
   "cell_type": "code",
   "execution_count": null,
   "metadata": {},
   "outputs": [],
   "source": [
    "# print(standard_1['Standard_num'])"
   ]
  },
  {
   "cell_type": "code",
   "execution_count": null,
   "metadata": {},
   "outputs": [],
   "source": [
    "# basis = standard_1['Basis_for_judgement']\n",
    "# print(type(basis))\n",
    "# print(basis)\n",
    "# print(len(basis))"
   ]
  },
  {
   "cell_type": "code",
   "execution_count": 10,
   "metadata": {},
   "outputs": [],
   "source": [
    "#\n",
    "# testing split function\n",
    "#\n",
    "\n",
    "\n",
    "#result = split_text_from_node(basis)\n",
    "# result = chunk_doc(json_file[0])\n",
    "\n",
    "# print(type(result))\n",
    "# print(result)"
   ]
  },
  {
   "cell_type": "code",
   "execution_count": null,
   "metadata": {},
   "outputs": [],
   "source": [
    "# for k,v in result.items():\n",
    "#     print(k,v)"
   ]
  },
  {
   "cell_type": "code",
   "execution_count": 39,
   "metadata": {},
   "outputs": [],
   "source": [
    "#\n",
    "# General queries \n",
    "#\n",
    "\n",
    "datachunk_query = \"\"\"\n",
    "UNWIND $chunksIn AS chunk\n",
    "MERGE (c:Chunk {\n",
    "    parentStandardNum: $standardsIn.Standard_num,\n",
    "    text: chunk.text,\n",
    "    standardTitle: $standardsIn.Standard_title,\n",
    "    nodeType: 'DATACHUNK',\n",
    "    parentType: chunk.parentType,\n",
    "    parentId: $parentId,\n",
    "    nodeCat: 'AACSB',\n",
    "    chunkSeqNum: chunk.chunk_sequence_id\n",
    "})\n",
    "RETURN c\n",
    "\"\"\"\n",
    "\n",
    "# Create Links\n",
    "linking_query = \"\"\"\n",
    "  MATCH (from_same_section:Chunk)\n",
    "  WHERE from_same_section.parentId = $parentId\n",
    "    AND from_same_section.parentType = $parentType\n",
    "  WITH from_same_section\n",
    "    ORDER BY from_same_section.chunkSeqNum ASC\n",
    "  WITH collect(from_same_section) as section_chunk_list\n",
    "    CALL apoc.nodes.link(\n",
    "        section_chunk_list, \n",
    "        \"NEXT\", \n",
    "        {avoidDuplicates: true}\n",
    "    )  // NEW!!!\n",
    "  RETURN size(section_chunk_list)\n",
    "\"\"\""
   ]
  },
  {
   "cell_type": "code",
   "execution_count": null,
   "metadata": {},
   "outputs": [],
   "source": [
    "#\n",
    "# Standard\n",
    "#\n",
    "\n",
    "\n",
    "# db_result = graphDB.query(standards_query,\n",
    "#               params={'standardsIn':standard_1})"
   ]
  },
  {
   "cell_type": "code",
   "execution_count": null,
   "metadata": {},
   "outputs": [],
   "source": [
    "#db_result[0]['s']['nodeType']\n",
    "#db_result"
   ]
  },
  {
   "cell_type": "code",
   "execution_count": null,
   "metadata": {},
   "outputs": [],
   "source": [
    "# #\n",
    "# # Standard: Data Chunking\n",
    "# #\n",
    "# graphDB.query(datachunk_query,\n",
    "#                 params={\n",
    "#                     'standardsIn':standard_1,\n",
    "#                     'chunksIn':result['Standard_formal'],\n",
    "#                     'parentId':db_result[0]['elementId']\n",
    "#                 })"
   ]
  },
  {
   "cell_type": "code",
   "execution_count": 12,
   "metadata": {},
   "outputs": [],
   "source": [
    "\n",
    "\n",
    "#\n",
    "# Standard: Link Chunks to Parent\n",
    "#\n",
    "\n",
    "link_to_parent_standard = \"\"\"\n",
    "MATCH (c:Chunk), (n: Standard)\n",
    "WHERE c.parentId = $parentId\n",
    "    AND c.parentType = n.nodeType\n",
    "    AND c.parentStandardNum = n.standardNum //new\n",
    "MERGE (c)-[newRelationship:PART_OF]->(n)\n",
    "RETURN count(newRelationship) AS num_links_created\n",
    "\"\"\"\n",
    "\n",
    "#\n",
    "# Link first chunk node as head\n",
    "#\n",
    "\n",
    "\n",
    "link_first_to_parent_standard = \"\"\"\n",
    "MATCH (c:Chunk), (n:Standard)\n",
    "WHERE c.parentId = $parentId\n",
    "  AND c.parentType = n.nodeType\n",
    "  AND c.chunkSeqNum = 0\n",
    "  AND c.parentStandardNum = n.standardNum //new to fix\n",
    "MERGE (c)-[newRelationship:FIRST_CHUNK_NODE]->(n)\n",
    "RETURN count(newRelationship) AS num_links_created\n",
    "\"\"\""
   ]
  },
  {
   "cell_type": "code",
   "execution_count": null,
   "metadata": {},
   "outputs": [],
   "source": [
    "#\n",
    "# Standard Chunk Linking\n",
    "#\n",
    "\n",
    "\n",
    "# graphDB.query(linking_query, \n",
    "#               params={\n",
    "#                   'parentId':db_result[0]['elementId'],\n",
    "#                   'parentType':db_result[0]['s']['nodeType']\n",
    "#               })"
   ]
  },
  {
   "cell_type": "code",
   "execution_count": null,
   "metadata": {},
   "outputs": [],
   "source": [
    "# graphDB.query(link_to_parent_standard, \n",
    "#               params={\n",
    "#                   'parentId':db_result[0]['elementId']\n",
    "#               })"
   ]
  },
  {
   "cell_type": "code",
   "execution_count": null,
   "metadata": {},
   "outputs": [],
   "source": [
    "# graphDB.query(link_first_to_parent_standard,params={\n",
    "#     'parentId':db_result[0]['elementId']\n",
    "# } )"
   ]
  },
  {
   "cell_type": "code",
   "execution_count": null,
   "metadata": {},
   "outputs": [],
   "source": [
    "#\n",
    "# Create Standard Child Node 1: \n",
    "#\n",
    "\n",
    "# def_result = graphDB.query(definitions_query,\n",
    "#               params={'standardsIn':standard_1})"
   ]
  },
  {
   "cell_type": "code",
   "execution_count": null,
   "metadata": {},
   "outputs": [],
   "source": [
    "# print(len(result['Definitions']))\n",
    "# print(def_result[0]['elementId'])"
   ]
  },
  {
   "cell_type": "code",
   "execution_count": null,
   "metadata": {},
   "outputs": [],
   "source": [
    "# graphDB.query(datachunk_query,\n",
    "#                 params={\n",
    "#                     'standardsIn':standard_1,\n",
    "#                     'chunksIn':result['Definitions'],\n",
    "#                     'parentId':def_result[0]['elementId']\n",
    "#                 })"
   ]
  },
  {
   "cell_type": "code",
   "execution_count": null,
   "metadata": {},
   "outputs": [],
   "source": [
    "# print(def_result[0]['elementId'])\n",
    "# print(def_result[0]['d']['nodeType'])"
   ]
  },
  {
   "cell_type": "code",
   "execution_count": null,
   "metadata": {},
   "outputs": [],
   "source": [
    "# #\n",
    "# # Definitions Chunk Linking\n",
    "# #\n",
    "\n",
    "# graphDB.query(linking_query, \n",
    "#               params={\n",
    "#                   'parentId':def_result[0]['elementId'],\n",
    "#                   'parentType':def_result[0]['d']['nodeType']\n",
    "#               })"
   ]
  },
  {
   "cell_type": "code",
   "execution_count": 23,
   "metadata": {},
   "outputs": [],
   "source": [
    "#\n",
    "# Definition Queries\n",
    "#\n",
    "\n",
    "\n",
    "\n",
    "link_to_parent_def = \"\"\"\n",
    "MATCH (c:Chunk), (n: Definitions)\n",
    "WHERE c.parentId = $parentId \n",
    "    AND c.parentType = n.nodeType\n",
    "    AND c.parentStandardNum = n.parentStandardNum //new\n",
    "MERGE (c)-[newRelationship:PART_OF_DEF]->(n)\n",
    "RETURN count(newRelationship) AS num_links_created\n",
    "\"\"\"\n",
    "\n",
    "#\n",
    "# Link first chunk node as head to definiton\n",
    "#\n",
    "\n",
    "\n",
    "link_first_to_parent_def = \"\"\"\n",
    "MATCH (c:Chunk), (n:Definitions)\n",
    "WHERE c.parentId = $parentId\n",
    "  AND c.parentType = n.nodeType\n",
    "  AND c.chunkSeqNum = 0\n",
    "  AND c.parentStandardNum = n.parentStandardNum //new\n",
    "MERGE (c)-[newRelationship:FIRST_CHUNK_NODE]->(n)\n",
    "RETURN count(newRelationship) AS num_links_created\n",
    "\"\"\"\n",
    "\n",
    "#\n",
    "# Link Def to Standard\n",
    "#\n",
    "\n",
    "link_def_to_standard = \"\"\"\n",
    "MATCH (d: Definitions), (s:Standard)\n",
    "WHERE d.parentStandardNum = s.standardNum\n",
    "    AND d.standardTitle = s.title\n",
    "MERGE (d)-[newRelationship: DEFINES]->(s)\n",
    "RETURN count(newRelationship) AS num_links_created\n",
    "\"\"\""
   ]
  },
  {
   "cell_type": "code",
   "execution_count": null,
   "metadata": {},
   "outputs": [],
   "source": [
    "# #\n",
    "# # Link chunks to Definitions (parent)\n",
    "# #\n",
    "\n",
    "\n",
    "# graphDB.query(link_to_parent_def, \n",
    "#               params={\n",
    "#                   'parentId':def_result[0]['elementId']\n",
    "#               })"
   ]
  },
  {
   "cell_type": "code",
   "execution_count": null,
   "metadata": {},
   "outputs": [],
   "source": [
    "# graphDB.query(link_first_to_parent_def,params={\n",
    "#     'parentId':def_result[0]['elementId']\n",
    "# } )"
   ]
  },
  {
   "cell_type": "code",
   "execution_count": null,
   "metadata": {},
   "outputs": [],
   "source": [
    "# graphDB.query(link_def_to_standard)"
   ]
  },
  {
   "cell_type": "code",
   "execution_count": 42,
   "metadata": {},
   "outputs": [],
   "source": [
    "#\n",
    "# Basis Queries\n",
    "#\n",
    "\n",
    "link_to_parent_basis = \"\"\"\n",
    "MATCH (c:Chunk), (n: Basis)\n",
    "WHERE c.parentId = $parentId \n",
    "    AND c.parentType = n.nodeType\n",
    "    AND c.parentStandardNum = n.parentStandardNum //new\n",
    "MERGE (c)-[newRelationship:PART_OF_BASIS]->(n)\n",
    "RETURN count(newRelationship) AS num_links_created\n",
    "\"\"\"\n",
    "\n",
    "\n",
    "link_first_to_parent_basis = \"\"\"\n",
    "MATCH (c:Chunk), (n:Basis)\n",
    "WHERE c.parentId = $parentId\n",
    "  AND c.parentType = n.nodeType\n",
    "  AND c.chunkSeqNum = 0\n",
    "  AND c.parentStandardNum = n.parentStandardNum //new\n",
    "MERGE (c)-[newRelationship:FIRST_CHUNK_NODE]->(n)\n",
    "RETURN count(newRelationship) AS num_links_created\n",
    "\"\"\"\n",
    "\n",
    "link_basis_to_standard = \"\"\"\n",
    "MATCH (d: Basis), (s:Standard)\n",
    "WHERE d.parentStandardNum = s.standardNum\n",
    "  AND d.standardTitle = s.title\n",
    "MERGE (d)-[newRelationship: BASIS_OF]->(s)\n",
    "RETURN count(newRelationship) AS num_links_created\n",
    "\"\"\""
   ]
  },
  {
   "cell_type": "code",
   "execution_count": 2,
   "metadata": {},
   "outputs": [],
   "source": [
    "# #\n",
    "# # Basis Process\n",
    "# #\n",
    "\n",
    "# basis_result = graphDB.query(basis_query,\n",
    "#               params={'standardsIn':standard_1})\n",
    "\n",
    "# graphDB.query(datachunk_query,\n",
    "#                 params={\n",
    "#                     'standardsIn':standard_1,\n",
    "#                     'chunksIn':result['Basis_for_judgement'],\n",
    "#                     'parentId':basis_result[0]['elementId']\n",
    "#                 })\n",
    "\n",
    "# graphDB.query(linking_query, \n",
    "#               params={\n",
    "#                   'parentId':basis_result[0]['elementId'],\n",
    "#                   'parentType':basis_result[0]['b']['nodeType']\n",
    "#               })\n",
    "\n",
    "\n",
    "# #make custom query\n",
    "# graphDB.query(link_to_parent_basis, \n",
    "#               params={\n",
    "#                   'parentId':basis_result[0]['elementId']\n",
    "#               })\n",
    "\n",
    "# graphDB.query(link_first_to_parent_basis,params={\n",
    "#     'parentId':basis_result[0]['elementId']\n",
    "# } )\n",
    "\n",
    "# graphDB.query(link_basis_to_standard)"
   ]
  },
  {
   "cell_type": "code",
   "execution_count": 43,
   "metadata": {},
   "outputs": [],
   "source": [
    "#\n",
    "# Docs queries\n",
    "#\n",
    "\n",
    "\n",
    "\n",
    "link_to_parent_docs = \"\"\"\n",
    "MATCH (c:Chunk), (n: Documentation)\n",
    "WHERE c.parentId = $parentId \n",
    "    AND c.parentType = n.nodeType\n",
    "    AND c.parentStandardNum = n.parentStandardNum //new\n",
    "MERGE (c)-[newRelationship:PART_OF_DOCS]->(n)\n",
    "RETURN count(newRelationship) AS num_links_created\n",
    "\"\"\"\n",
    "\n",
    "\n",
    "link_first_to_parent_docs = \"\"\"\n",
    "MATCH (c:Chunk), (n:Documentation)\n",
    "WHERE c.parentId = $parentId\n",
    "  AND c.parentType = n.nodeType\n",
    "  AND c.chunkSeqNum = 0\n",
    "  AND c.parentStandardNum = n.parentStandardNum //new\n",
    "MERGE (c)-[newRelationship:FIRST_CHUNK_NODE]->(n)\n",
    "RETURN count(newRelationship) AS num_links_created\n",
    "\"\"\"\n",
    "\n",
    "link_docs_to_standard = \"\"\"\n",
    "MATCH (d: Documentation), (s:Standard)\n",
    "WHERE d.parentStandardNum = s.standardNum\n",
    "  AND d.standardTitle = s.title\n",
    "MERGE (d)-[newRelationship: DOCUMENTS]->(s)\n",
    "RETURN count(newRelationship) AS num_links_created\n",
    "\"\"\""
   ]
  },
  {
   "cell_type": "code",
   "execution_count": null,
   "metadata": {},
   "outputs": [],
   "source": [
    "# #\n",
    "# # Documentation Node Process\n",
    "# #\n",
    "# docs_result = graphDB.query(docs_query,\n",
    "#               params={'standardsIn':standard_1})\n",
    "\n",
    "\n",
    "# graphDB.query(datachunk_query,\n",
    "#                 params={\n",
    "#                     'standardsIn':standard_1,\n",
    "#                     'chunksIn':result['Supporting_docs'],\n",
    "#                     'parentId':docs_result[0]['elementId']\n",
    "#                 })\n",
    "\n",
    "# graphDB.query(linking_query, \n",
    "#               params={\n",
    "#                   'parentId':docs_result[0]['elementId'],\n",
    "#                   'parentType':docs_result[0]['d']['nodeType']\n",
    "#               })\n",
    "\n",
    "\n",
    "# #make custom query\n",
    "# graphDB.query(link_to_parent_docs, \n",
    "#               params={\n",
    "#                   'parentId':docs_result[0]['elementId']\n",
    "#               })\n",
    "\n",
    "# graphDB.query(link_first_to_parent_docs,params={\n",
    "#     'parentId':docs_result[0]['elementId']\n",
    "# } )\n",
    "\n",
    "# graphDB.query(link_docs_to_standard)"
   ]
  },
  {
   "cell_type": "code",
   "execution_count": 17,
   "metadata": {},
   "outputs": [],
   "source": [
    "def create_standards_node(standard, result):\n",
    "    print(f\"Initializing standard nodes for: \\n Standard Num: {standard['Standard_num']} \\n Standard Title:{standard['Standard_title']} \")\n",
    "\n",
    "    try:\n",
    "        standard_result = graphDB.query(standards_query,\n",
    "                    params={'standardsIn':standard})\n",
    "\n",
    "\n",
    "        print(graphDB.query(datachunk_query,\n",
    "                    params={\n",
    "                        'standardsIn':standard,\n",
    "                        'chunksIn':result['Standard_formal'],\n",
    "                        'parentId':standard_result[0]['elementId']\n",
    "                    }))\n",
    "\n",
    "        print(graphDB.query(linking_query, \n",
    "                    params={\n",
    "                        'parentId':standard_result[0]['elementId'],\n",
    "                        'parentType':standard_result[0]['s']['nodeType']\n",
    "                    }))\n",
    "\n",
    "\n",
    "        print(graphDB.query(link_to_parent_standard, \n",
    "                    params={\n",
    "                        'parentId':standard_result[0]['elementId']\n",
    "                    }))\n",
    "\n",
    "        print(graphDB.query(link_first_to_parent_standard,\n",
    "                    params={\n",
    "                        'parentId':standard_result[0]['elementId']\n",
    "                    }))\n",
    "        #TODO link standards to SECTIONS\n",
    "        #print(graphDB.query(link_docs_to_standard))\n",
    "\n",
    "    except Exception as e:\n",
    "        raise e "
   ]
  },
  {
   "cell_type": "code",
   "execution_count": 18,
   "metadata": {},
   "outputs": [],
   "source": [
    "\n",
    "def create_docs_nodes(standard, result):\n",
    "    print(f\"Initializing documentation nodes for: \\n Standard Num: {standard['Standard_num']} \\n Standard Title:{standard['Standard_title']} \")\n",
    "\n",
    "    try:\n",
    "        docs_result = graphDB.query(docs_query,\n",
    "                    params={'standardsIn':standard})\n",
    "\n",
    "\n",
    "        print(graphDB.query(datachunk_query,\n",
    "                    params={\n",
    "                        'standardsIn':standard,\n",
    "                        'chunksIn':result['Supporting_docs'],\n",
    "                        'parentId':docs_result[0]['elementId']\n",
    "                    }))\n",
    "\n",
    "        print(graphDB.query(linking_query, \n",
    "                    params={\n",
    "                        'parentId':docs_result[0]['elementId'],\n",
    "                        'parentType':docs_result[0]['d']['nodeType']\n",
    "                    }))\n",
    "\n",
    "\n",
    "        print(graphDB.query(link_to_parent_docs, \n",
    "                    params={\n",
    "                        'parentId':docs_result[0]['elementId']\n",
    "                    }))\n",
    "\n",
    "        print(graphDB.query(link_first_to_parent_docs,\n",
    "                    params={\n",
    "                        'parentId':docs_result[0]['elementId']\n",
    "                    }))\n",
    "\n",
    "        print(graphDB.query(link_docs_to_standard))\n",
    "\n",
    "    except Exception as e:\n",
    "        raise e "
   ]
  },
  {
   "cell_type": "code",
   "execution_count": 19,
   "metadata": {},
   "outputs": [],
   "source": [
    "def create_basis_nodes(standard,result):\n",
    "    print(f\"Initializing basis nodes for: \\n Standard Num: {standard['Standard_num']} \\n Standard Title:{standard['Standard_title']} \")\n",
    "\n",
    "\n",
    "    try:\n",
    "        basis_result = graphDB.query(basis_query,\n",
    "                    params={'standardsIn':standard})\n",
    "\n",
    "        print(graphDB.query(datachunk_query,\n",
    "                        params={\n",
    "                            'standardsIn':standard,\n",
    "                            'chunksIn':result['Basis_for_judgement'],\n",
    "                            'parentId':basis_result[0]['elementId']\n",
    "                        }))\n",
    "\n",
    "        print(graphDB.query(linking_query, \n",
    "                        params={\n",
    "                            'parentId':basis_result[0]['elementId'],\n",
    "                            'parentType':basis_result[0]['b']['nodeType']\n",
    "                        }))\n",
    "\n",
    "\n",
    "        print(graphDB.query(link_to_parent_basis, \n",
    "                        params={\n",
    "                            'parentId':basis_result[0]['elementId']\n",
    "                        }))\n",
    "\n",
    "        print(graphDB.query(link_first_to_parent_basis,params={\n",
    "                'parentId':basis_result[0]['elementId']\n",
    "            } ))\n",
    "\n",
    "        print(graphDB.query(link_basis_to_standard))\n",
    "        \n",
    "    except Exception as e:\n",
    "        raise e"
   ]
  },
  {
   "cell_type": "code",
   "execution_count": 20,
   "metadata": {},
   "outputs": [],
   "source": [
    "def create_def_nodes(standard,result):\n",
    "    print(f\"Initializing definition nodes for: \\n Standard Num: {standard['Standard_num']} \\n Standard Title:{standard['Standard_title']} \")\n",
    "\n",
    "\n",
    "    try:\n",
    "        def_result = graphDB.query(definitions_query,\n",
    "                    params={'standardsIn':standard})\n",
    "\n",
    "        print(graphDB.query(datachunk_query,\n",
    "                        params={\n",
    "                            'standardsIn':standard,\n",
    "                            'chunksIn':result['Definitions'],\n",
    "                            'parentId':def_result[0]['elementId']\n",
    "                        }))\n",
    "\n",
    "        print(graphDB.query(linking_query, \n",
    "                        params={\n",
    "                            'parentId':def_result[0]['elementId'],\n",
    "                            'parentType':def_result[0]['d']['nodeType']\n",
    "                        }))\n",
    "\n",
    "\n",
    "        print(graphDB.query(link_to_parent_def, \n",
    "                        params={\n",
    "                            'parentId':def_result[0]['elementId']\n",
    "                        }))\n",
    "\n",
    "        print(graphDB.query(link_first_to_parent_def,params={\n",
    "                'parentId':def_result[0]['elementId']\n",
    "            } ))\n",
    "\n",
    "        print(graphDB.query(link_def_to_standard))\n",
    "        \n",
    "    except Exception as e:\n",
    "        raise e"
   ]
  },
  {
   "cell_type": "code",
   "execution_count": null,
   "metadata": {},
   "outputs": [],
   "source": [
    "# Test Large Functions Components\n",
    "# create_standards_node(standard_1, result) #[pass]\n",
    "# create_docs_nodes(standard_1,result) #[pass]\n",
    "# create_basis_nodes(standard_1,result) #[pass]\n",
    "#create_def_nodes(standard_1, result) #[pass]\n",
    " "
   ]
  },
  {
   "cell_type": "code",
   "execution_count": 31,
   "metadata": {},
   "outputs": [],
   "source": [
    "def process_standards_controller(standard, result):\n",
    "    create_standards_node(standard,result)\n",
    "    create_basis_nodes(standard,result)\n",
    "    create_docs_nodes(standard,result)\n",
    "    create_def_nodes(standard,result)"
   ]
  },
  {
   "cell_type": "code",
   "execution_count": 21,
   "metadata": {},
   "outputs": [],
   "source": [
    "# Resolving linkin  Issue [RESOLVED]\n",
    "\n",
    "# standard_1 = json_file[0]\n",
    "# result = chunk_doc(standard_1)"
   ]
  },
  {
   "cell_type": "code",
   "execution_count": 47,
   "metadata": {},
   "outputs": [],
   "source": [
    "\n",
    "\n",
    "# create_standards_node(standard_1, result) #[pass]\n",
    "# create_docs_nodes(standard_1,result) #[pass]\n",
    "# create_basis_nodes(standard_1,result) #[pass]\n",
    "# create_def_nodes(standard_1, result) #[pass]\n",
    "#process_standards_controller(standard_1,result)"
   ]
  },
  {
   "cell_type": "code",
   "execution_count": 5,
   "metadata": {},
   "outputs": [],
   "source": [
    "# standard_2 = json_file[1]\n",
    "# result_2 = chunk_doc(standard_2)\n",
    "\n",
    "# for k,v in result_2.items():\n",
    "#     print(k,v)\n",
    "# # process_standards_controller(standard_2,result_2)"
   ]
  },
  {
   "cell_type": "code",
   "execution_count": 6,
   "metadata": {},
   "outputs": [],
   "source": [
    "# Test Large Functions Components\n",
    "# create_standards_node(standard_2, result_2) #[pass]\n",
    "# create_docs_nodes(standard_2,result_2) #[pass]\n",
    "# create_basis_nodes(standard_2,result_2) #[pass]\n",
    "# create_def_nodes(standard_2, result_2) #[pass]"
   ]
  },
  {
   "cell_type": "code",
   "execution_count": null,
   "metadata": {},
   "outputs": [],
   "source": []
  },
  {
   "cell_type": "code",
   "execution_count": 40,
   "metadata": {},
   "outputs": [
    {
     "name": "stdout",
     "output_type": "stream",
     "text": [
      "Initializing standard nodes for: \n",
      " Standard Num: 1 \n",
      " Standard Title:Strategic Planning \n",
      "[{'c': {'parentStandardNum': 1, 'standardTitle': 'Strategic Planning', 'nodeCat': 'AACSB', 'text': 'standard 1 strategic planning1.1 school maintains well documented strategic plan developed robust collaborative planning process involving key stakeholder input informs school resource allocation priorities . strategic plan also articulate clear focused mission school . 1.2 school regularly monitors progress planned strategies expected outcomes communicates progress key stakeholders . part monitoring school conducts formal risk analysis plans mitigate identified major risks . 1.3 school carries', 'chunkSeqNum': 0, 'nodeType': 'DATACHUNK', 'parentType': 'STANDARD', 'parentId': 0}}, {'c': {'parentStandardNum': 1, 'standardTitle': 'Strategic Planning', 'nodeCat': 'AACSB', 'text': 'progress planned strategies expected outcomes communicates progress key stakeholders . part monitoring school conducts formal risk analysis plans mitigate identified major risks . 1.3 school carries mission embraces innovation key element continuous improvement . 1.4 school demonstrates commitment positive societal impact expressed supported focused mission specifies intends achieve impact .', 'chunkSeqNum': 1, 'nodeType': 'DATACHUNK', 'parentType': 'STANDARD', 'parentId': 0}}]\n",
      "[{'size(section_chunk_list)': 2}]\n",
      "[{'num_links_created': 2}]\n",
      "[{'num_links_created': 1}]\n",
      "Initializing basis nodes for: \n",
      " Standard Num: 1 \n",
      " Standard Title:Strategic Planning \n",
      "[{'c': {'parentStandardNum': 1, 'standardTitle': 'Strategic Planning', 'nodeCat': 'AACSB', 'text': '1.1 maintenance strategic plan school mission identifies attributes focus areas priorities indicate school positions among community business schools . mission informs strategic plan reviewed updated periodically alignment school normal planning cycle . mission statement articulated part strategic plan . strategic plan developed refined engagement key internal external stakeholders . strategic plan available review peer review team demonstrates commitment continuous improvement regular review', 'chunkSeqNum': 0, 'nodeType': 'DATACHUNK', 'parentType': 'BASIS', 'parentId': 5}}, {'c': {'parentStandardNum': 1, 'standardTitle': 'Strategic Planning', 'nodeCat': 'AACSB', 'text': 'plan . strategic plan developed refined engagement key internal external stakeholders . strategic plan available review peer review team demonstrates commitment continuous improvement regular review revision key stakeholder input . school strategic plan defines communities learners school intends serve including level degree programs school offers . school also identifies non degree programs corresponding communities intends serve . plan identifies strategies maintenance high quality learner', 'chunkSeqNum': 1, 'nodeType': 'DATACHUNK', 'parentType': 'BASIS', 'parentId': 5}}, {'c': {'parentStandardNum': 1, 'standardTitle': 'Strategic Planning', 'nodeCat': 'AACSB', 'text': 'serve including level degree programs school offers . school also identifies non degree programs corresponding communities intends serve . plan identifies strategies maintenance high quality learner experiences including current relevant curriculum strategies recruitment retention qualified faculty . school strategic plan clearly identifies type intellectual contributions expects faculty produce influence business education connect practice business consistent school stated mission . school', 'chunkSeqNum': 2, 'nodeType': 'DATACHUNK', 'parentType': 'BASIS', 'parentId': 5}}, {'c': {'parentStandardNum': 1, 'standardTitle': 'Strategic Planning', 'nodeCat': 'AACSB', 'text': '. school strategic plan clearly identifies type intellectual contributions expects faculty produce influence business education connect practice business consistent school stated mission . school strategic plan identifies strategies school intends provide thought leadership within intellectual contributions . 1.2 monitoring strategic plan school transparent conveyance strategic plan regularly reports progress toward achieving mission strategies expected outcomes internal external key', 'chunkSeqNum': 3, 'nodeType': 'DATACHUNK', 'parentType': 'BASIS', 'parentId': 5}}, {'c': {'parentStandardNum': 1, 'standardTitle': 'Strategic Planning', 'nodeCat': 'AACSB', 'text': 'contributions . 1.2 monitoring strategic plan school transparent conveyance strategic plan regularly reports progress toward achieving mission strategies expected outcomes internal external key stakeholders . school maintain ongoing risk analysis identifying potential risks could significantly impair ability fulfill school mission well contingency plan mitigating risks . 1.3 innovation strategic plan identifies school innovative thought action . 1.4 societal impact school strategic plan clearly', 'chunkSeqNum': 4, 'nodeType': 'DATACHUNK', 'parentType': 'BASIS', 'parentId': 5}}, {'c': {'parentStandardNum': 1, 'standardTitle': 'Strategic Planning', 'nodeCat': 'AACSB', 'text': 'ability fulfill school mission well contingency plan mitigating risks . 1.3 innovation strategic plan identifies school innovative thought action . 1.4 societal impact school strategic plan clearly identifies strategies including allocation human financial capital make positive impact society practice business diversity people ideas success graduates .', 'chunkSeqNum': 5, 'nodeType': 'DATACHUNK', 'parentType': 'BASIS', 'parentId': 5}}]\n",
      "[{'size(section_chunk_list)': 6}]\n",
      "[{'num_links_created': 6}]\n",
      "[{'num_links_created': 1}]\n",
      "[{'num_links_created': 1}]\n",
      "Initializing documentation nodes for: \n",
      " Standard Num: 1 \n",
      " Standard Title:Strategic Planning \n",
      "[{'c': {'parentStandardNum': 1, 'standardTitle': 'Strategic Planning', 'nodeCat': 'AACSB', 'text': '1.1 maintenance strategic plan provide strategic plan business unit encompasses strategies expected outcomes pursued school consistent school mission . strategic plan include description mission strategies expected outcomes including mission encapsulated supporting statements . describe processes creating revising strategic plan including description internal external key stakeholders inform plan kept abreast progress toward meeting goals plan . include plan strategies promoting high quality', 'chunkSeqNum': 0, 'nodeType': 'DATACHUNK', 'parentType': 'DOCUMENTATION', 'parentId': 12}}, {'c': {'parentStandardNum': 1, 'standardTitle': 'Strategic Planning', 'nodeCat': 'AACSB', 'text': 'creating revising strategic plan including description internal external key stakeholders inform plan kept abreast progress toward meeting goals plan . include plan strategies promoting high quality learner experience curriculum currency relevancy . include plan discussion faculty management model including recruitment retention development qualified faculty . ensure strategic plan clearly identifies types e.g . basic applied teaching learning priorities intellectual contributions school', 'chunkSeqNum': 1, 'nodeType': 'DATACHUNK', 'parentType': 'DOCUMENTATION', 'parentId': 12}}, {'c': {'parentStandardNum': 1, 'standardTitle': 'Strategic Planning', 'nodeCat': 'AACSB', 'text': 'model including recruitment retention development qualified faculty . ensure strategic plan clearly identifies types e.g . basic applied teaching learning priorities intellectual contributions school intends produce consistent mission . describe focused nature mission school stakeholders relative learners employers key stakeholders . describe strategic plan mission school relate support strategic plan mission larger organization part . 1.2 monitoring strategic plan summarize document annual', 'chunkSeqNum': 2, 'nodeType': 'DATACHUNK', 'parentType': 'DOCUMENTATION', 'parentId': 12}}, {'c': {'parentStandardNum': 1, 'standardTitle': 'Strategic Planning', 'nodeCat': 'AACSB', 'text': 'learners employers key stakeholders . describe strategic plan mission school relate support strategic plan mission larger organization part . 1.2 monitoring strategic plan summarize document annual progress toward meeting goals strategic plan . describe risks could impede school ability fulfill mission plan mitigate risks . describe plan shared key internal external stakeholders identifying groups specifically key stakeholder input incorporated plan . 1.3 innovation describe school strategic', 'chunkSeqNum': 3, 'nodeType': 'DATACHUNK', 'parentType': 'DOCUMENTATION', 'parentId': 12}}, {'c': {'parentStandardNum': 1, 'standardTitle': 'Strategic Planning', 'nodeCat': 'AACSB', 'text': 'plan mitigate risks . describe plan shared key internal external stakeholders identifying groups specifically key stakeholder input incorporated plan . 1.3 innovation describe school strategic plan encourages supports innovation across school activities including faculty staff hiring plans curricular co curricular content activities interdisciplinary efforts technologies employed within teaching taught within curriculum . 1.4 societal impact include within strategic plan school allocate human', 'chunkSeqNum': 4, 'nodeType': 'DATACHUNK', 'parentType': 'DOCUMENTATION', 'parentId': 12}}, {'c': {'parentStandardNum': 1, 'standardTitle': 'Strategic Planning', 'nodeCat': 'AACSB', 'text': 'co curricular content activities interdisciplinary efforts technologies employed within teaching taught within curriculum . 1.4 societal impact include within strategic plan school allocate human financial capital support school aspiration make positive contribution society . describe mission positively impacts society business education diversity people ideas success graduates', 'chunkSeqNum': 5, 'nodeType': 'DATACHUNK', 'parentType': 'DOCUMENTATION', 'parentId': 12}}]\n",
      "[{'size(section_chunk_list)': 6}]\n",
      "[{'num_links_created': 6}]\n",
      "[{'num_links_created': 1}]\n",
      "[{'num_links_created': 1}]\n",
      "Initializing definition nodes for: \n",
      " Standard Num: 1 \n",
      " Standard Title:Strategic Planning \n",
      "[{'c': {'parentStandardNum': 1, 'standardTitle': 'Strategic Planning', 'nodeCat': 'AACSB', 'text': 'mission single statement set statements serving guide school stakeholders . statements capture school core purposes express aspirations describe distinguishing features . term focused implies mission yield distinctive aspects school strategies outcomes accomplishments special notable . strategies overarching statements direction derived strategic management processes school . strategies describe school intends achieve mission expected outcomes . expected outcomes conveyed broad high level', 'chunkSeqNum': 0, 'nodeType': 'DATACHUNK', 'parentType': 'DEFINITIONS', 'parentId': 19}}, {'c': {'parentStandardNum': 1, 'standardTitle': 'Strategic Planning', 'nodeCat': 'AACSB', 'text': 'overarching statements direction derived strategic management processes school . strategies describe school intends achieve mission expected outcomes . expected outcomes conveyed broad high level statements describing impact school expects achieve pursues mission educational activities scholarship endeavors . expected outcomes translate mission strategic goals school evaluates success . societal impact refers school makes positive impact betterment society identified school mission strategic', 'chunkSeqNum': 1, 'nodeType': 'DATACHUNK', 'parentType': 'DEFINITIONS', 'parentId': 19}}, {'c': {'parentStandardNum': 1, 'standardTitle': 'Strategic Planning', 'nodeCat': 'AACSB', 'text': 'endeavors . expected outcomes translate mission strategic goals school evaluates success . societal impact refers school makes positive impact betterment society identified school mission strategic plan . societal impact local regional national international level .', 'chunkSeqNum': 2, 'nodeType': 'DATACHUNK', 'parentType': 'DEFINITIONS', 'parentId': 19}}]\n",
      "[{'size(section_chunk_list)': 3}]\n",
      "[{'num_links_created': 3}]\n",
      "[{'num_links_created': 1}]\n",
      "[{'num_links_created': 1}]\n",
      "Initializing standard nodes for: \n",
      " Standard Num: 2 \n",
      " Standard Title:Physical, Virtual and Financial Resources \n",
      "[{'c': {'parentStandardNum': 2, 'standardTitle': 'Physical, Virtual and Financial Resources', 'nodeCat': 'AACSB', 'text': 'standard 2 physical virtual financial resources school manages 2.1 physical 2.2 virtual 2.3 financial resources sustain school ongoing basis promote high quality environment fosters success participants support school mission strategies expected outcomes .', 'chunkSeqNum': 0, 'nodeType': 'DATACHUNK', 'parentType': 'STANDARD', 'parentId': 23}}]\n",
      "[{'size(section_chunk_list)': 1}]\n",
      "[{'num_links_created': 1}]\n",
      "[{'num_links_created': 1}]\n",
      "Initializing basis nodes for: \n",
      " Standard Num: 2 \n",
      " Standard Title:Physical, Virtual and Financial Resources \n",
      "[{'c': {'parentStandardNum': 2, 'standardTitle': 'Physical, Virtual and Financial Resources', 'nodeCat': 'AACSB', 'text': '2.1 physical resources school learning spaces environments facilitate achievement educational mission . school maintains plan updating space appropriate time . 2.2 virtual resources school provides infrastructure support instructional activities modalities . faculty access sufficient current emerging technologies teaching research purposes consistent mission strategies expected outcomes . access may realized partnerships schools third parties . professional staff provided adequate training', 'chunkSeqNum': 0, 'nodeType': 'DATACHUNK', 'parentType': 'BASIS', 'parentId': 25}}, {'c': {'parentStandardNum': 2, 'standardTitle': 'Physical, Virtual and Financial Resources', 'nodeCat': 'AACSB', 'text': 'technologies teaching research purposes consistent mission strategies expected outcomes . access may realized partnerships schools third parties . professional staff provided adequate training technology infrastructure advising career placement mission specific activities . 2.3 financial resources school strategic plan identifies realistic financial strategies provide sustain continuously improve aspects quality business education consistent school mission . school maintain risk assessment', 'chunkSeqNum': 1, 'nodeType': 'DATACHUNK', 'parentType': 'BASIS', 'parentId': 25}}, {'c': {'parentStandardNum': 2, 'standardTitle': 'Physical, Virtual and Financial Resources', 'nodeCat': 'AACSB', 'text': 'school strategic plan identifies realistic financial strategies provide sustain continuously improve aspects quality business education consistent school mission . school maintain risk assessment specific school financial situation describe contingency planning process mitigate identified risks . school identifies realistic sources financial resources current planned activities . school carefully analyzed costs potential resources initiatives associated mission action items . school financial', 'chunkSeqNum': 2, 'nodeType': 'DATACHUNK', 'parentType': 'BASIS', 'parentId': 25}}, {'c': {'parentStandardNum': 2, 'standardTitle': 'Physical, Virtual and Financial Resources', 'nodeCat': 'AACSB', 'text': 'school identifies realistic sources financial resources current planned activities . school carefully analyzed costs potential resources initiatives associated mission action items . school financial plan ensuring sufficient level faculty professional staff resources managing resources including recruiting retaining developing appropriately qualified faculty professional staff . financial plan also addresses necessary resources sustain high quality outcomes learner support resources .', 'chunkSeqNum': 3, 'nodeType': 'DATACHUNK', 'parentType': 'BASIS', 'parentId': 25}}]\n",
      "[{'size(section_chunk_list)': 4}]\n",
      "[{'num_links_created': 4}]\n",
      "[{'num_links_created': 1}]\n",
      "[{'num_links_created': 2}]\n",
      "Initializing documentation nodes for: \n",
      " Standard Num: 2 \n",
      " Standard Title:Physical, Virtual and Financial Resources \n",
      "[{'c': {'parentStandardNum': 2, 'standardTitle': 'Physical, Virtual and Financial Resources', 'nodeCat': 'AACSB', 'text': '2.1 physical resources describe space plan classroom instruction improvements made spaces environments plans future space enhancements innovations . 2.2 virtual resources describe technology infrastructure school maintains support mission centric activities school modalities instructional delivery including technology used face face delivery digital learning . describe current emerging technologies faculty access order fulfill teaching research responsibilities . describe training professional', 'chunkSeqNum': 0, 'nodeType': 'DATACHUNK', 'parentType': 'DOCUMENTATION', 'parentId': 30}}, {'c': {'parentStandardNum': 2, 'standardTitle': 'Physical, Virtual and Financial Resources', 'nodeCat': 'AACSB', 'text': 'including technology used face face delivery digital learning . describe current emerging technologies faculty access order fulfill teaching research responsibilities . describe training professional staff learn implement new technologies support learner success . 2.3 financial resources provide summary recent financial performance discuss financial outlook next accreditation cycle . highlight successes school obtaining funding including grants private funds alternative revenue streams', 'chunkSeqNum': 1, 'nodeType': 'DATACHUNK', 'parentType': 'DOCUMENTATION', 'parentId': 30}}, {'c': {'parentStandardNum': 2, 'standardTitle': 'Physical, Virtual and Financial Resources', 'nodeCat': 'AACSB', 'text': 'summary recent financial performance discuss financial outlook next accreditation cycle . highlight successes school obtaining funding including grants private funds alternative revenue streams generated innovative activities partnerships similar successes enhance financial vitality school . also describe challenges expected arise next accreditation cycle include strategies mitigating challenges . complement strategic planning overall risk assessment described standard 1 provide risk assessment', 'chunkSeqNum': 2, 'nodeType': 'DATACHUNK', 'parentType': 'DOCUMENTATION', 'parentId': 30}}, {'c': {'parentStandardNum': 2, 'standardTitle': 'Physical, Virtual and Financial Resources', 'nodeCat': 'AACSB', 'text': 'challenges expected arise next accreditation cycle include strategies mitigating challenges . complement strategic planning overall risk assessment described standard 1 provide risk assessment specific school financial resources describe contingency planning process school use significant reduction resources occurs . describe major resource commitments development projects undertaken completed since last accreditation review . complete table 2 1 describe school major planned strategic', 'chunkSeqNum': 3, 'nodeType': 'DATACHUNK', 'parentType': 'DOCUMENTATION', 'parentId': 30}}, {'c': {'parentStandardNum': 2, 'standardTitle': 'Physical, Virtual and Financial Resources', 'nodeCat': 'AACSB', 'text': 'reduction resources occurs . describe major resource commitments development projects undertaken completed since last accreditation review . complete table 2 1 describe school major planned strategic initiatives consistent mission expected source funds plans . document school financial management plan recruiting retaining developing appropriately qualified faculty professional staff . include documentation describing hiring practices development evaluation systems faculty support diversity', 'chunkSeqNum': 4, 'nodeType': 'DATACHUNK', 'parentType': 'DOCUMENTATION', 'parentId': 30}}, {'c': {'parentStandardNum': 2, 'standardTitle': 'Physical, Virtual and Financial Resources', 'nodeCat': 'AACSB', 'text': 'plan recruiting retaining developing appropriately qualified faculty professional staff . include documentation describing hiring practices development evaluation systems faculty support diversity inclusion considerations ensure high quality outcomes relative mission strategies . document financial plan sustain high quality outcomes learner support resources .', 'chunkSeqNum': 5, 'nodeType': 'DATACHUNK', 'parentType': 'DOCUMENTATION', 'parentId': 30}}]\n",
      "[{'size(section_chunk_list)': 6}]\n",
      "[{'num_links_created': 6}]\n",
      "[{'num_links_created': 1}]\n",
      "[{'num_links_created': 2}]\n",
      "Initializing definition nodes for: \n",
      " Standard Num: 2 \n",
      " Standard Title:Physical, Virtual and Financial Resources \n",
      "[{'c': {'parentStandardNum': 2, 'standardTitle': 'Physical, Virtual and Financial Resources', 'nodeCat': 'AACSB', 'text': 'physical resources include buildings furniture fixtures technology labs collaboration space libraries including virtual physical infrastructure directly used school . virtual resources include technology infrastructure needed support instructional delivery modes faculty conduct research scholarship consistent school mission . financial resources include adequate funding sources derived operate school quality basis achieve strategic initiatives goals expected outcomes .', 'chunkSeqNum': 0, 'nodeType': 'DATACHUNK', 'parentType': 'DEFINITIONS', 'parentId': 37}}]\n",
      "[{'size(section_chunk_list)': 1}]\n",
      "[{'num_links_created': 1}]\n",
      "[{'num_links_created': 1}]\n",
      "[{'num_links_created': 2}]\n",
      "Initializing standard nodes for: \n",
      " Standard Num: 3 \n",
      " Standard Title:Faculty and Professional Staff Resources \n",
      "[{'c': {'parentStandardNum': 3, 'standardTitle': 'Faculty and Professional Staff Resources', 'nodeCat': 'AACSB', 'text': 'standard 3 faculty professional staff resources 3.1 school maintains strategically deploys sufficient participating supporting faculty collectively demonstrate significant academic professional engagement turn supports high quality outcomes consistent school mission . 3.2 faculty qualified initial academic professional preparation sustain currency relevancy appropriate classification follows scholarly academic sa practice academic pa scholarly practitioner sp instructional practitioner ip .', 'chunkSeqNum': 0, 'nodeType': 'DATACHUNK', 'parentType': 'STANDARD', 'parentId': 39}}, {'c': {'parentStandardNum': 3, 'standardTitle': 'Faculty and Professional Staff Resources', 'nodeCat': 'AACSB', 'text': 'academic professional preparation sustain currency relevancy appropriate classification follows scholarly academic sa practice academic pa scholarly practitioner sp instructional practitioner ip . otherwise faculty members classified additional faculty . 3.3 sufficient professional staff available ensure high quality support faculty learners appropriate . 3.4 school well documented well communicated processes manage develop support faculty professional staff progression careers consistent', 'chunkSeqNum': 1, 'nodeType': 'DATACHUNK', 'parentType': 'STANDARD', 'parentId': 39}}, {'c': {'parentStandardNum': 3, 'standardTitle': 'Faculty and Professional Staff Resources', 'nodeCat': 'AACSB', 'text': 'ensure high quality support faculty learners appropriate . 3.4 school well documented well communicated processes manage develop support faculty professional staff progression careers consistent school mission strategies expected outcomes .', 'chunkSeqNum': 2, 'nodeType': 'DATACHUNK', 'parentType': 'STANDARD', 'parentId': 39}}]\n",
      "[{'size(section_chunk_list)': 3}]\n",
      "[{'num_links_created': 3}]\n",
      "[{'num_links_created': 1}]\n",
      "Initializing basis nodes for: \n",
      " Standard Num: 3 \n",
      " Standard Title:Faculty and Professional Staff Resources \n",
      "[{'c': {'parentStandardNum': 3, 'standardTitle': 'Faculty and Professional Staff Resources', 'nodeCat': 'AACSB', 'text': '3.1 faculty sufficiency school adopts applies criteria documenting faculty members participating supporting consistent mission . school adapt guidance particular situation mission developing implementing criteria indicate school meeting spirit intent standard . criteria address activities required attain participating supporting status depth breadth activities expected within typical aacsb accreditation review cycle maintain participating supporting status . criteria periodically reviewed', 'chunkSeqNum': 0, 'nodeType': 'DATACHUNK', 'parentType': 'BASIS', 'parentId': 43}}, {'c': {'parentStandardNum': 3, 'standardTitle': 'Faculty and Professional Staff Resources', 'nodeCat': 'AACSB', 'text': 'attain participating supporting status depth breadth activities expected within typical aacsb accreditation review cycle maintain participating supporting status . criteria periodically reviewed reflect focus continuous improvement . normally participating faculty members deliver least 75 percent school teaching globally i.e . across entire accredited unit participating faculty members deliver least 60 percent teaching within discipline regardless whether school degree major concentration etc .', 'chunkSeqNum': 1, 'nodeType': 'DATACHUNK', 'parentType': 'BASIS', 'parentId': 43}}, {'c': {'parentStandardNum': 3, 'standardTitle': 'Faculty and Professional Staff Resources', 'nodeCat': 'AACSB', 'text': 'teaching globally i.e . across entire accredited unit participating faculty members deliver least 60 percent teaching within discipline regardless whether school degree major concentration etc . discipline . additionally participating faculty ratios expected met discipline intended applied degree programs locations modalities . instead peer review team would normally expect appropriate blend participating supporting faculty deployed across areas . disciplines defined school context mission .', 'chunkSeqNum': 2, 'nodeType': 'DATACHUNK', 'parentType': 'BASIS', 'parentId': 43}}, {'c': {'parentStandardNum': 3, 'standardTitle': 'Faculty and Professional Staff Resources', 'nodeCat': 'AACSB', 'text': 'programs locations modalities . instead peer review team would normally expect appropriate blend participating supporting faculty deployed across areas . disciplines defined school context mission . normally disciplines align degree programs majors offered school . however every degree program must identified discipline . instructional models mass lectures supported teaching assistants faculty residence may travel periodically school deliver particular program dba program faculty shared across', 'chunkSeqNum': 3, 'nodeType': 'DATACHUNK', 'parentType': 'BASIS', 'parentId': 43}}, {'c': {'parentStandardNum': 3, 'standardTitle': 'Faculty and Professional Staff Resources', 'nodeCat': 'AACSB', 'text': 'identified discipline . instructional models mass lectures supported teaching assistants faculty residence may travel periodically school deliver particular program dba program faculty shared across institutions visiting faculty online program managers deliver digital instruction clearly identified documented method instructional delivery leads high quality learning outcomes high learner satisfaction . cases substantial proportion business school faculty resources hold primary faculty', 'chunkSeqNum': 4, 'nodeType': 'DATACHUNK', 'parentType': 'BASIS', 'parentId': 43}}, {'c': {'parentStandardNum': 3, 'standardTitle': 'Faculty and Professional Staff Resources', 'nodeCat': 'AACSB', 'text': 'documented method instructional delivery leads high quality learning outcomes high learner satisfaction . cases substantial proportion business school faculty resources hold primary faculty appointments institutions school must provide documentation faculty model supports mission achievement overall high quality continuous improvement model consistent spirit intent standard . particular school must show faculty model consistent achieving research expectations school . 3.2 faculty qualifications', 'chunkSeqNum': 5, 'nodeType': 'DATACHUNK', 'parentType': 'BASIS', 'parentId': 43}}, {'c': {'parentStandardNum': 3, 'standardTitle': 'Faculty and Professional Staff Resources', 'nodeCat': 'AACSB', 'text': 'high quality continuous improvement model consistent spirit intent standard . particular school must show faculty model consistent achieving research expectations school . 3.2 faculty qualifications faculty members scholarly academic sa practice academic pa scholarly practitioner sp instructional practitioner ip . faculty members assigned one designations based school criteria initial qualifications sustained engagement activities support currency relevancy teaching field . faculty whose', 'chunkSeqNum': 6, 'nodeType': 'DATACHUNK', 'parentType': 'BASIS', 'parentId': 43}}, {'c': {'parentStandardNum': 3, 'standardTitle': 'Faculty and Professional Staff Resources', 'nodeCat': 'AACSB', 'text': 'practitioner ip . faculty members assigned one designations based school criteria initial qualifications sustained engagement activities support currency relevancy teaching field . faculty whose qualifications meet criteria established school sa pa sp ip status classified additional faculty . criteria sa pa status initial classification sa pa terminal degree related field teaching appropriate . note faculty member considered sa pa five years date conferral terminal degree . doctoral students', 'chunkSeqNum': 7, 'nodeType': 'DATACHUNK', 'parentType': 'BASIS', 'parentId': 43}}, {'c': {'parentStandardNum': 3, 'standardTitle': 'Faculty and Professional Staff Resources', 'nodeCat': 'AACSB', 'text': 'sa pa status initial classification sa pa terminal degree related field teaching appropriate . note faculty member considered sa pa five years date conferral terminal degree . doctoral students teaching responsibilities attained dissertation abd status considered sa three years commencement abd status . variety terminal degrees may appropriate terminal degree related faculty member field teaching . examples commonly accepted terminal degrees business include doctoral degrees business closely', 'chunkSeqNum': 8, 'nodeType': 'DATACHUNK', 'parentType': 'BASIS', 'parentId': 43}}, {'c': {'parentStandardNum': 3, 'standardTitle': 'Faculty and Professional Staff Resources', 'nodeCat': 'AACSB', 'text': '. variety terminal degrees may appropriate terminal degree related faculty member field teaching . examples commonly accepted terminal degrees business include doctoral degrees business closely related business discipline phd dba graduate degree law llm taxation mst teaching taxation law degree llm jd teaching courses modules related law aspects related legal environment business e.g . ethics sustainability etc . . additional terminal degrees may also appropriate sa status degree closely', 'chunkSeqNum': 9, 'nodeType': 'DATACHUNK', 'parentType': 'BASIS', 'parentId': 43}}, {'c': {'parentStandardNum': 3, 'standardTitle': 'Faculty and Professional Staff Resources', 'nodeCat': 'AACSB', 'text': 'llm jd teaching courses modules related law aspects related legal environment business e.g . ethics sustainability etc . . additional terminal degrees may also appropriate sa status degree closely related faculty member field teaching faculty member sustains currency scholarly activities field consistent standard . unusual faculty member without terminal degree may classified sa pa faculty member must clearly engaged sustained substantive academic professional engagement activities support', 'chunkSeqNum': 10, 'nodeType': 'DATACHUNK', 'parentType': 'BASIS', 'parentId': 43}}, {'c': {'parentStandardNum': 3, 'standardTitle': 'Faculty and Professional Staff Resources', 'nodeCat': 'AACSB', 'text': 'consistent standard . unusual faculty member without terminal degree may classified sa pa faculty member must clearly engaged sustained substantive academic professional engagement activities support currency relevancy field teaching contributions mission components activity expected consistent activities school terminally qualified sa faculty engage . school expected make case sa pa status cases . aacsb expects limited number normally exceed 10 percent faculty cases individuals without', 'chunkSeqNum': 11, 'nodeType': 'DATACHUNK', 'parentType': 'BASIS', 'parentId': 43}}, {'c': {'parentStandardNum': 3, 'standardTitle': 'Faculty and Professional Staff Resources', 'nodeCat': 'AACSB', 'text': 'activities school terminally qualified sa faculty engage . school expected make case sa pa status cases . aacsb expects limited number normally exceed 10 percent faculty cases individuals without terminal degrees also sa pa status . 33 subsequent initial classification must ongoing sustained substantive academic activities sa professional engagement activities pa supporting qualification status . criteria ip sp status initial classification ip sp master degree discipline related faculty member', 'chunkSeqNum': 12, 'nodeType': 'DATACHUNK', 'parentType': 'BASIS', 'parentId': 43}}, {'c': {'parentStandardNum': 3, 'standardTitle': 'Faculty and Professional Staff Resources', 'nodeCat': 'AACSB', 'text': 'academic activities sa professional engagement activities pa supporting qualification status . criteria ip sp status initial classification ip sp master degree discipline related faculty member field teaching along significant substantive professional experience appropriate . limited cases ip sp status may appropriate individuals without master degrees depth duration sophistication complexity professional experience time hiring outweighs lack master degree qualifications . school expected make', 'chunkSeqNum': 13, 'nodeType': 'DATACHUNK', 'parentType': 'BASIS', 'parentId': 43}}, {'c': {'parentStandardNum': 3, 'standardTitle': 'Faculty and Professional Staff Resources', 'nodeCat': 'AACSB', 'text': 'may appropriate individuals without master degrees depth duration sophistication complexity professional experience time hiring outweighs lack master degree qualifications . school expected make case ip sp status cases . subsequent initial classification must ongoing sustained substantive professional engagement activities ip scholarly activities sp supporting qualification status . school criteria school develop appropriate criteria policies classification faculty including faculty also hold', 'chunkSeqNum': 14, 'nodeType': 'DATACHUNK', 'parentType': 'BASIS', 'parentId': 43}}, {'c': {'parentStandardNum': 3, 'standardTitle': 'Faculty and Professional Staff Resources', 'nodeCat': 'AACSB', 'text': 'engagement activities ip scholarly activities sp supporting qualification status . school criteria school develop appropriate criteria policies classification faculty including faculty also hold significant administrative appointments e.g . deans associate deans department heads chairs center directors according initial preparation sustained engagement activities . criteria administrators consider weight relative individual administrative role . example criteria may differentiate dean', 'chunkSeqNum': 15, 'nodeType': 'DATACHUNK', 'parentType': 'BASIS', 'parentId': 43}}, {'c': {'parentStandardNum': 3, 'standardTitle': 'Faculty and Professional Staff Resources', 'nodeCat': 'AACSB', 'text': 'directors according initial preparation sustained engagement activities . criteria administrators consider weight relative individual administrative role . example criteria may differentiate dean significant administrative responsibilities vs. department head smaller administrative workload . criteria policies cover initial classification maintenance qualified status subsequent initial classification . sustained engagement activities including research scholarship substantially connected', 'chunkSeqNum': 16, 'nodeType': 'DATACHUNK', 'parentType': 'BASIS', 'parentId': 43}}, {'c': {'parentStandardNum': 3, 'standardTitle': 'Faculty and Professional Staff Resources', 'nodeCat': 'AACSB', 'text': 'criteria policies cover initial classification maintenance qualified status subsequent initial classification . sustained engagement activities including research scholarship substantially connected support primary teaching responsibilities faculty member demonstrate faculty member current relevant field teaching . criteria policies consistent mission school comparable peer schools . discipline global ratio minimums normally minimum 40 percent school faculty resources sa 90 percent sa pa sp ip', 'chunkSeqNum': 17, 'nodeType': 'DATACHUNK', 'parentType': 'BASIS', 'parentId': 43}}, {'c': {'parentStandardNum': 3, 'standardTitle': 'Faculty and Professional Staff Resources', 'nodeCat': 'AACSB', 'text': 'field teaching . criteria policies consistent mission school comparable peer schools . discipline global ratio minimums normally minimum 40 percent school faculty resources sa 90 percent sa pa sp ip global level i.e . across entire accredited unit disciplines defined school alignment degrees majors . school maintains generalist degrees e.g . bba general business mba etc . associated concentrations areas focus areas concentration areas focus normally treated like disciplines respect meeting', 'chunkSeqNum': 18, 'nodeType': 'DATACHUNK', 'parentType': 'BASIS', 'parentId': 43}}, {'c': {'parentStandardNum': 3, 'standardTitle': 'Faculty and Professional Staff Resources', 'nodeCat': 'AACSB', 'text': '. school maintains generalist degrees e.g . bba general business mba etc . associated concentrations areas focus areas concentration areas focus normally treated like disciplines respect meeting ratios . schools emphasize research master doctoral degree programs expected higher percentages sa faculty maintain strong focus sa faculty place high emphasis faculty undertake scholarly activities maintain sa status consistent peer institutions mission . ratio sa faculty discipline level may less 40', 'chunkSeqNum': 19, 'nodeType': 'DATACHUNK', 'parentType': 'BASIS', 'parentId': 43}}, {'c': {'parentStandardNum': 3, 'standardTitle': 'Faculty and Professional Staff Resources', 'nodeCat': 'AACSB', 'text': 'maintain strong focus sa faculty place high emphasis faculty undertake scholarly activities maintain sa status consistent peer institutions mission . ratio sa faculty discipline level may less 40 percent minimum school makes appointments drive new innovative interdisciplinary 34 2020 guiding principles standards business accreditation initiatives . instances burden school make case maintains high quality outcomes . peer review judgment discretion called upon determine exceptions appropriate .', 'chunkSeqNum': 20, 'nodeType': 'DATACHUNK', 'parentType': 'BASIS', 'parentId': 43}}, {'c': {'parentStandardNum': 3, 'standardTitle': 'Faculty and Professional Staff Resources', 'nodeCat': 'AACSB', 'text': 'standards business accreditation initiatives . instances burden school make case maintains high quality outcomes . peer review judgment discretion called upon determine exceptions appropriate . disciplines school offer degree programs majors 40 percent sa ratio expected norm since faculty would supporting degree programs . additional faculty exceed 10 percent school overall faculty within discipline . cases school align faculty sufficiency qualification guidelines discipline cases degree', 'chunkSeqNum': 21, 'nodeType': 'DATACHUNK', 'parentType': 'BASIS', 'parentId': 43}}, {'c': {'parentStandardNum': 3, 'standardTitle': 'Faculty and Professional Staff Resources', 'nodeCat': 'AACSB', 'text': 'supporting degree programs . additional faculty exceed 10 percent school overall faculty within discipline . cases school align faculty sufficiency qualification guidelines discipline cases degree programs majors offered global level school must make case demonstration high quality evidence based programs student learning outcomes evidence learner employer satisfaction appropriate . peer review team consider departures case case basis employ professional judgment guidelines met . faculty', 'chunkSeqNum': 22, 'nodeType': 'DATACHUNK', 'parentType': 'BASIS', 'parentId': 43}}, {'c': {'parentStandardNum': 3, 'standardTitle': 'Faculty and Professional Staff Resources', 'nodeCat': 'AACSB', 'text': 'programs student learning outcomes evidence learner employer satisfaction appropriate . peer review team consider departures case case basis employ professional judgment guidelines met . faculty deployment table 3 2 intended provide snapshot qualified faculty deployed across degree programs entire accredited unit recently completed regular academic year . table 3 2 documents portion faculty member contribution school mission teaching component schools required meet 40 percent sa ratio used', 'chunkSeqNum': 23, 'nodeType': 'DATACHUNK', 'parentType': 'BASIS', 'parentId': 43}}, {'c': {'parentStandardNum': 3, 'standardTitle': 'Faculty and Professional Staff Resources', 'nodeCat': 'AACSB', 'text': 'accredited unit recently completed regular academic year . table 3 2 documents portion faculty member contribution school mission teaching component schools required meet 40 percent sa ratio used calculate faculty qualifications table 3 1 includes activities faculty member engages i.e . teaching research service contribute mission school . however schools expected meet 90 percent sa pa sp ip ratio across degree programs table 3 2 order validate school deploys qualified faculty across degree', 'chunkSeqNum': 24, 'nodeType': 'DATACHUNK', 'parentType': 'BASIS', 'parentId': 43}}, {'c': {'parentStandardNum': 3, 'standardTitle': 'Faculty and Professional Staff Resources', 'nodeCat': 'AACSB', 'text': 'research service contribute mission school . however schools expected meet 90 percent sa pa sp ip ratio across degree programs table 3 2 order validate school deploys qualified faculty across degree levels . deployment school blend sa pa sp ip faculty members must result strategic choice school consistent school mission strategic initiatives carried way promotes high quality learner success achievement learning competencies programs locations modalities . aacsb prescribe sa deployment', 'chunkSeqNum': 25, 'nodeType': 'DATACHUNK', 'parentType': 'BASIS', 'parentId': 43}}, {'c': {'parentStandardNum': 3, 'standardTitle': 'Faculty and Professional Staff Resources', 'nodeCat': 'AACSB', 'text': 'consistent school mission strategic initiatives carried way promotes high quality learner success achievement learning competencies programs locations modalities . aacsb prescribe sa deployment percentages program location modality peer review team would normally expect blend faculty across degree programs locations modalities take consideration level degree programs offered locations various modalities distinction appropriate . additionally research master degrees doctoral degrees everywhere', 'chunkSeqNum': 26, 'nodeType': 'DATACHUNK', 'parentType': 'BASIS', 'parentId': 43}}, {'c': {'parentStandardNum': 3, 'standardTitle': 'Faculty and Professional Staff Resources', 'nodeCat': 'AACSB', 'text': 'programs locations modalities take consideration level degree programs offered locations various modalities distinction appropriate . additionally research master degrees doctoral degrees everywhere reflect faculty complement qualifications consistent needed provide high quality experiences outcomes learners . high quality outcomes demonstrated assurance learning data provided degree program . table 3 2 prepared macro level across degree programs locations modalities however peer review teams', 'chunkSeqNum': 27, 'nodeType': 'DATACHUNK', 'parentType': 'BASIS', 'parentId': 43}}, {'c': {'parentStandardNum': 3, 'standardTitle': 'Faculty and Professional Staff Resources', 'nodeCat': 'AACSB', 'text': 'learners . high quality outcomes demonstrated assurance learning data provided degree program . table 3 2 prepared macro level across degree programs locations modalities however peer review teams may request supplemental breakout table 3 2 particular location modality appropriate determined team . 35 2020 guiding principles standards business accreditation recognized blended modalities becoming increasingly common therefore modality often necessary breakout . nevertheless peer review team', 'chunkSeqNum': 28, 'nodeType': 'DATACHUNK', 'parentType': 'BASIS', 'parentId': 43}}, {'c': {'parentStandardNum': 3, 'standardTitle': 'Faculty and Professional Staff Resources', 'nodeCat': 'AACSB', 'text': '. 35 2020 guiding principles standards business accreditation recognized blended modalities becoming increasingly common therefore modality often necessary breakout . nevertheless peer review team deems appropriate view table 3 2 modality within discretion request table particular location modality . 3.3 professional staff sufficiency sufficient professional staff maintained support instructional technological learner support needs ongoing basis regardless whether housed business school', 'chunkSeqNum': 29, 'nodeType': 'DATACHUNK', 'parentType': 'BASIS', 'parentId': 43}}, {'c': {'parentStandardNum': 3, 'standardTitle': 'Faculty and Professional Staff Resources', 'nodeCat': 'AACSB', 'text': '. 3.3 professional staff sufficiency sufficient professional staff maintained support instructional technological learner support needs ongoing basis regardless whether housed business school centralized within larger shared unit university . processes managing developing professional staff services well defined effective . 3.4 faculty professional staff development faculty expectations evaluation promotion reward processes systematic transparent support school mission . workload allocation', 'chunkSeqNum': 30, 'nodeType': 'DATACHUNK', 'parentType': 'BASIS', 'parentId': 43}}, {'c': {'parentStandardNum': 3, 'standardTitle': 'Faculty and Professional Staff Resources', 'nodeCat': 'AACSB', 'text': 'well defined effective . 3.4 faculty professional staff development faculty expectations evaluation promotion reward processes systematic transparent support school mission . workload allocation model appropriate faculty fulfill responsibilities competently . school effective processes providing orientation guidance mentoring inclusive developmental practices faculty professional staff . sufficient professional development respect current emerging technologies provided faculty professional', 'chunkSeqNum': 31, 'nodeType': 'DATACHUNK', 'parentType': 'BASIS', 'parentId': 43}}, {'c': {'parentStandardNum': 3, 'standardTitle': 'Faculty and Professional Staff Resources', 'nodeCat': 'AACSB', 'text': 'orientation guidance mentoring inclusive developmental practices faculty professional staff . sufficient professional development respect current emerging technologies provided faculty professional staff involved delivery instruction . teaching assistants tutors staff participate alternative instructional models appropriately prepared classroom instruction managed supervised promote high quality outcomes . professional staff access development opportunities retain currency areas support .', 'chunkSeqNum': 32, 'nodeType': 'DATACHUNK', 'parentType': 'BASIS', 'parentId': 43}}]\n",
      "[{'size(section_chunk_list)': 33}]\n",
      "[{'num_links_created': 33}]\n",
      "[{'num_links_created': 1}]\n",
      "[{'num_links_created': 3}]\n",
      "Initializing documentation nodes for: \n",
      " Standard Num: 3 \n",
      " Standard Title:Faculty and Professional Staff Resources \n",
      "[{'c': {'parentStandardNum': 3, 'standardTitle': 'Faculty and Professional Staff Resources', 'nodeCat': 'AACSB', 'text': '3.1 3.2 faculty sufficiency faculty qualifications provide school criteria participating supporting faculty well sa pa sp ip faculty . describe criteria align school mission . table 3 1 completed recent regular academic year prior visit year often referred self study year discipline demonstrate alignment standard 3. interpretive guidance provides additional information completing table 3 1. table 3 2 completed recent regular academic year prior visit year . school also provide narrative', 'chunkSeqNum': 0, 'nodeType': 'DATACHUNK', 'parentType': 'DOCUMENTATION', 'parentId': 77}}, {'c': {'parentStandardNum': 3, 'standardTitle': 'Faculty and Professional Staff Resources', 'nodeCat': 'AACSB', 'text': 'alignment standard 3. interpretive guidance provides additional information completing table 3 1. table 3 2 completed recent regular academic year prior visit year . school also provide narrative describes strategy deployment appropriate blend sufficient participating faculty qualified faculty across degree programs locations modalities strategy assures high quality outcomes . school include discussion significant changes faculty composition since last accreditation review strategies plans', 'chunkSeqNum': 1, 'nodeType': 'DATACHUNK', 'parentType': 'DOCUMENTATION', 'parentId': 77}}, {'c': {'parentStandardNum': 3, 'standardTitle': 'Faculty and Professional Staff Resources', 'nodeCat': 'AACSB', 'text': 'across degree programs locations modalities strategy assures high quality outcomes . school include discussion significant changes faculty composition since last accreditation review strategies plans recruiting deploying qualified faculty within next accreditation cycle . school must provide information faculty member peer review team evidence support classification faculty member . information provided electronically form academic cvs equivalent documents organized accordance table 3 1.', 'chunkSeqNum': 2, 'nodeType': 'DATACHUNK', 'parentType': 'DOCUMENTATION', 'parentId': 77}}, {'c': {'parentStandardNum': 3, 'standardTitle': 'Faculty and Professional Staff Resources', 'nodeCat': 'AACSB', 'text': 'information faculty member peer review team evidence support classification faculty member . information provided electronically form academic cvs equivalent documents organized accordance table 3 1. provide narrative describing instructional teaching models lead teachers supported teaching assistants tutors instructors support staff . describe qualifications support instructional models . provide evidence describes models maintain high quality outcomes learner satisfaction . 3.3 professional', 'chunkSeqNum': 3, 'nodeType': 'DATACHUNK', 'parentType': 'DOCUMENTATION', 'parentId': 77}}, {'c': {'parentStandardNum': 3, 'standardTitle': 'Faculty and Professional Staff Resources', 'nodeCat': 'AACSB', 'text': 'tutors instructors support staff . describe qualifications support instructional models . provide evidence describes models maintain high quality outcomes learner satisfaction . 3.3 professional staff sufficiency describe professional staff structure respect advising career placement support faculty instructional support library support faculty research support . identify resources centralized supported university level maintained supported within school . describe professional staff structure', 'chunkSeqNum': 4, 'nodeType': 'DATACHUNK', 'parentType': 'DOCUMENTATION', 'parentId': 77}}, {'c': {'parentStandardNum': 3, 'standardTitle': 'Faculty and Professional Staff Resources', 'nodeCat': 'AACSB', 'text': 'instructional support library support faculty research support . identify resources centralized supported university level maintained supported within school . describe professional staff structure supports high quality outcomes . 3.4 faculty professional staff development describe processes determining performance expectations faculty . describe processes orientation guidance mentoring faculty professional staff . describe evaluation promotion reward processes well ways faculty engaged', 'chunkSeqNum': 5, 'nodeType': 'DATACHUNK', 'parentType': 'DOCUMENTATION', 'parentId': 77}}, {'c': {'parentStandardNum': 3, 'standardTitle': 'Faculty and Professional Staff Resources', 'nodeCat': 'AACSB', 'text': 'determining performance expectations faculty . describe processes orientation guidance mentoring faculty professional staff . describe evaluation promotion reward processes well ways faculty engaged processes . describe faculty professional staff provided professional development opportunities remain current field instruction particularly respect use current emerging technologies deliver instruction .', 'chunkSeqNum': 6, 'nodeType': 'DATACHUNK', 'parentType': 'DOCUMENTATION', 'parentId': 77}}]\n",
      "[{'size(section_chunk_list)': 7}]\n",
      "[{'num_links_created': 7}]\n",
      "[{'num_links_created': 1}]\n",
      "[{'num_links_created': 3}]\n",
      "Initializing definition nodes for: \n",
      " Standard Num: 3 \n",
      " Standard Title:Faculty and Professional Staff Resources \n",
      "[{'c': {'parentStandardNum': 3, 'standardTitle': 'Faculty and Professional Staff Resources', 'nodeCat': 'AACSB', 'text': 'participating faculty member actively deeply engages activities school matters beyond direct teaching responsibilities . normally school considers participating faculty members ongoing members faculty regardless whether appointments full time part time whether positions school considered principal employment whether school tenure policies . supporting faculty member normally participate intellectual operational life school beyond direct performance teaching responsibilities . research master', 'chunkSeqNum': 0, 'nodeType': 'DATACHUNK', 'parentType': 'DEFINITIONS', 'parentId': 85}}, {'c': {'parentStandardNum': 3, 'standardTitle': 'Faculty and Professional Staff Resources', 'nodeCat': 'AACSB', 'text': 'employment whether school tenure policies . supporting faculty member normally participate intellectual operational life school beyond direct performance teaching responsibilities . research master degrees degrees focus heavily research methods independent research projects primary program content . faculty qualifications status refers one four categories designated demonstrate current relevant intellectual capital professional engagement area teaching support school mission related activities', 'chunkSeqNum': 1, 'nodeType': 'DATACHUNK', 'parentType': 'DEFINITIONS', 'parentId': 85}}, {'c': {'parentStandardNum': 3, 'standardTitle': 'Faculty and Professional Staff Resources', 'nodeCat': 'AACSB', 'text': '. faculty qualifications status refers one four categories designated demonstrate current relevant intellectual capital professional engagement area teaching support school mission related activities . categories specifying faculty qualifications based initial academic preparation professional experience sustained academic professional engagement within area teaching follows scholarly academics sa faculty normally attained terminal degree field related area teaching sustain currency relevancy', 'chunkSeqNum': 2, 'nodeType': 'DATACHUNK', 'parentType': 'DEFINITIONS', 'parentId': 85}}, {'c': {'parentStandardNum': 3, 'standardTitle': 'Faculty and Professional Staff Resources', 'nodeCat': 'AACSB', 'text': 'sustained academic professional engagement within area teaching follows scholarly academics sa faculty normally attained terminal degree field related area teaching sustain currency relevancy scholarship activities related field teaching . sa faculty normally expected produce peer editorial reviewed publications related field teaching part portfolio scholarship . addition publications related field teaching sa faculty may produce publications outside field teaching support mission related', 'chunkSeqNum': 3, 'nodeType': 'DATACHUNK', 'parentType': 'DEFINITIONS', 'parentId': 85}}, {'c': {'parentStandardNum': 3, 'standardTitle': 'Faculty and Professional Staff Resources', 'nodeCat': 'AACSB', 'text': 'publications related field teaching part portfolio scholarship . addition publications related field teaching sa faculty may produce publications outside field teaching support mission related components school reflective faculty member role school . practice academics pa faculty normally attained terminal degree field related area teaching sustain currency relevancy professional engagement interaction activities related field teaching . scholarly practitioners sp faculty normally attained', 'chunkSeqNum': 4, 'nodeType': 'DATACHUNK', 'parentType': 'DEFINITIONS', 'parentId': 85}}, {'c': {'parentStandardNum': 3, 'standardTitle': 'Faculty and Professional Staff Resources', 'nodeCat': 'AACSB', 'text': 'terminal degree field related area teaching sustain currency relevancy professional engagement interaction activities related field teaching . scholarly practitioners sp faculty normally attained master degree related field teaching professional experience substantial duration responsibility time hire sustain currency relevancy scholarship related professional background experience field teaching . instructional practitioners ip faculty normally attained master degree related field teaching', 'chunkSeqNum': 5, 'nodeType': 'DATACHUNK', 'parentType': 'DEFINITIONS', 'parentId': 85}}, {'c': {'parentStandardNum': 3, 'standardTitle': 'Faculty and Professional Staff Resources', 'nodeCat': 'AACSB', 'text': 'hire sustain currency relevancy scholarship related professional background experience field teaching . instructional practitioners ip faculty normally attained master degree related field teaching professional experience substantial duration responsibility time hire sustain currency relevancy continued professional experience engagement related professional background experience field teaching . additional faculty faculty meet school criteria sa pa sp ip . professional staff include', 'chunkSeqNum': 6, 'nodeType': 'DATACHUNK', 'parentType': 'DEFINITIONS', 'parentId': 85}}, {'c': {'parentStandardNum': 3, 'standardTitle': 'Faculty and Professional Staff Resources', 'nodeCat': 'AACSB', 'text': 'continued professional experience engagement related professional background experience field teaching . additional faculty faculty meet school criteria sa pa sp ip . professional staff include individuals faculty appointments provide direct support ancillary activities . examples professional staff include limited career services learner services admissions alumni engagement corporate engagement instructional support key mission components .', 'chunkSeqNum': 7, 'nodeType': 'DATACHUNK', 'parentType': 'DEFINITIONS', 'parentId': 85}}]\n",
      "[{'size(section_chunk_list)': 8}]\n",
      "[{'num_links_created': 8}]\n",
      "[{'num_links_created': 1}]\n",
      "[{'num_links_created': 3}]\n",
      "Initializing standard nodes for: \n",
      " Standard Num: 4 \n",
      " Standard Title:Curriculum \n",
      "[{'c': {'parentStandardNum': 4, 'standardTitle': 'Curriculum', 'nodeCat': 'AACSB', 'text': 'standard 4 curriculum 4.1 school delivers content current relevant forward looking globallyoriented aligned program competency goals consistent mission strategies expected outcomes . curriculum content cultivates agility current emerging technologies . 4.2 school manages curriculum assessment systematic review processes ensure currency relevancy competency . 4.3 school curriculum promotes fosters innovation experiential learning lifelong learning mindset . program elements promoting positive', 'chunkSeqNum': 0, 'nodeType': 'DATACHUNK', 'parentType': 'STANDARD', 'parentId': 94}}, {'c': {'parentStandardNum': 4, 'standardTitle': 'Curriculum', 'nodeCat': 'AACSB', 'text': 'review processes ensure currency relevancy competency . 4.3 school curriculum promotes fosters innovation experiential learning lifelong learning mindset . program elements promoting positive societal impact included within curriculum . 4.4 school curriculum facilitates meaningful learner learner learnerto faculty academic professional engagement .', 'chunkSeqNum': 1, 'nodeType': 'DATACHUNK', 'parentType': 'STANDARD', 'parentId': 94}}]\n",
      "[{'size(section_chunk_list)': 2}]\n",
      "[{'num_links_created': 2}]\n",
      "[{'num_links_created': 1}]\n",
      "Initializing basis nodes for: \n",
      " Standard Num: 4 \n",
      " Standard Title:Curriculum \n",
      "[{'c': {'parentStandardNum': 4, 'standardTitle': 'Curriculum', 'nodeCat': 'AACSB', 'text': '4.1 curriculum content contents degree program curricula result effective curriculum management processes include relevant competencies prepare graduates business careers foster lifelong learning mindset . business degree programs include understanding appreciation cultural norms across various regions countries differences impact managerial decision making . curriculum reflect current innovative business theories practices . normally business degree programs bachelor level include learning', 'chunkSeqNum': 0, 'nodeType': 'DATACHUNK', 'parentType': 'BASIS', 'parentId': 97}}, {'c': {'parentStandardNum': 4, 'standardTitle': 'Curriculum', 'nodeCat': 'AACSB', 'text': 'regions countries differences impact managerial decision making . curriculum reflect current innovative business theories practices . normally business degree programs bachelor level include learning experiences address core competencies characteristic successful business graduate aacsb accredited school well content business disciplines accounting economics finance management management information systems marketing quantitative methods . 15 non degree programs e.g . non degree executive', 'chunkSeqNum': 1, 'nodeType': 'DATACHUNK', 'parentType': 'BASIS', 'parentId': 97}}, {'c': {'parentStandardNum': 4, 'standardTitle': 'Curriculum', 'nodeCat': 'AACSB', 'text': 'school well content business disciplines accounting economics finance management management information systems marketing quantitative methods . 15 non degree programs e.g . non degree executive education certificates minors etc . intended covered standard . refer standard 5 discussion assurance learning programs . graduate degree programs higher order learning experiences synthesis integration information . specialized business master degree programs normally include understanding specified', 'chunkSeqNum': 2, 'nodeType': 'DATACHUNK', 'parentType': 'BASIS', 'parentId': 97}}, {'c': {'parentStandardNum': 4, 'standardTitle': 'Curriculum', 'nodeCat': 'AACSB', 'text': 'learning programs . graduate degree programs higher order learning experiences synthesis integration information . specialized business master degree programs normally include understanding specified discipline multiple perspectives understanding specialization context preparation careers study . general business master degrees ordinarily include preparation leading organization managing diverse global context thinking creatively making sound decisions exercising good judgment uncertainty', 'chunkSeqNum': 3, 'nodeType': 'DATACHUNK', 'parentType': 'BASIS', 'parentId': 97}}, {'c': {'parentStandardNum': 4, 'standardTitle': 'Curriculum', 'nodeCat': 'AACSB', 'text': '. general business master degrees ordinarily include preparation leading organization managing diverse global context thinking creatively making sound decisions exercising good judgment uncertainty integrating knowledge across fields . doctoral degree programs normally include advanced research knowledge skills understanding specialization context preparation faculty responsibilities positions outside academia . doctoral degree programs include appreciation production research contributes', 'chunkSeqNum': 4, 'nodeType': 'DATACHUNK', 'parentType': 'BASIS', 'parentId': 97}}, {'c': {'parentStandardNum': 4, 'standardTitle': 'Curriculum', 'nodeCat': 'AACSB', 'text': 'knowledge skills understanding specialization context preparation faculty responsibilities positions outside academia . doctoral degree programs include appreciation production research contributes positively society . doctoral degree programs intended prepare learners academic positions devote significant time program study successful classroom instruction management . current emerging technology appropriately infused throughout degree program appropriate degree level program i.e . bachelor', 'chunkSeqNum': 5, 'nodeType': 'DATACHUNK', 'parentType': 'BASIS', 'parentId': 97}}, {'c': {'parentStandardNum': 4, 'standardTitle': 'Curriculum', 'nodeCat': 'AACSB', 'text': 'time program study successful classroom instruction management . current emerging technology appropriately infused throughout degree program appropriate degree level program i.e . bachelor master doctoral . learn learn expectation instilled learners facilitate agility adaptation emerging technologies future . 4.2 curriculum management curriculum management sound governance faculty engaged process terms ownership use results implementing changes improvement . curriculum management fosters', 'chunkSeqNum': 6, 'nodeType': 'DATACHUNK', 'parentType': 'BASIS', 'parentId': 97}}, {'c': {'parentStandardNum': 4, 'standardTitle': 'Curriculum', 'nodeCat': 'AACSB', 'text': 'future . 4.2 curriculum management curriculum management sound governance faculty engaged process terms ownership use results implementing changes improvement . curriculum management fosters promotes innovation . 4.3 innovation experiential learning lifelong learning societal impact school innovative approach curriculum whether related content pedagogy delivery method demonstrates currency creativity forward thinking . school provides portfolio experiential learning opportunities promote', 'chunkSeqNum': 7, 'nodeType': 'DATACHUNK', 'parentType': 'BASIS', 'parentId': 97}}, {'c': {'parentStandardNum': 4, 'standardTitle': 'Curriculum', 'nodeCat': 'AACSB', 'text': 'approach curriculum whether related content pedagogy delivery method demonstrates currency creativity forward thinking . school provides portfolio experiential learning opportunities promote learner engagement faculty community business practitioners . school promotes lifelong learning mindset learners including creativity intellectual curiosity critical analytical thinking . school portfolio curricular elements within formal coursework promote positive societal impact . 4.4 engagement level', 'chunkSeqNum': 8, 'nodeType': 'DATACHUNK', 'parentType': 'BASIS', 'parentId': 97}}, {'c': {'parentStandardNum': 4, 'standardTitle': 'Curriculum', 'nodeCat': 'AACSB', 'text': 'including creativity intellectual curiosity critical analytical thinking . school portfolio curricular elements within formal coursework promote positive societal impact . 4.4 engagement level quality sustained learner learner learner faculty interactions consistent degree program type achievement learning goals . learner faculty interactions involve types faculty members . teaching learning model employed learners meaningful engagement faculty responsible course . curricular co curricular', 'chunkSeqNum': 9, 'nodeType': 'DATACHUNK', 'parentType': 'BASIS', 'parentId': 97}}, {'c': {'parentStandardNum': 4, 'standardTitle': 'Curriculum', 'nodeCat': 'AACSB', 'text': 'learning goals . learner faculty interactions involve types faculty members . teaching learning model employed learners meaningful engagement faculty responsible course . curricular co curricular activities embody engagement interaction faculty learners business practitioners .', 'chunkSeqNum': 10, 'nodeType': 'DATACHUNK', 'parentType': 'BASIS', 'parentId': 97}}]\n",
      "[{'size(section_chunk_list)': 11}]\n",
      "[{'num_links_created': 11}]\n",
      "[{'num_links_created': 1}]\n",
      "[{'num_links_created': 4}]\n",
      "Initializing documentation nodes for: \n",
      " Standard Num: 4 \n",
      " Standard Title:Curriculum \n",
      "[{'c': {'parentStandardNum': 4, 'standardTitle': 'Curriculum', 'nodeCat': 'AACSB', 'text': '4.1 curriculum content describe learning experiences appropriate areas listed section 4.1 basis judgment including areas defined fit curriculum . curriculum include learning experiences normally expected degree program type provide rationale choice . consistent school mission describe degree programs include learning experiences develop competencies related integration relevant technology . provide narrative description current emerging technologies graduates would able demonstrate reasonable', 'chunkSeqNum': 0, 'nodeType': 'DATACHUNK', 'parentType': 'DOCUMENTATION', 'parentId': 109}}, {'c': {'parentStandardNum': 4, 'standardTitle': 'Curriculum', 'nodeCat': 'AACSB', 'text': 'include learning experiences develop competencies related integration relevant technology . provide narrative description current emerging technologies graduates would able demonstrate reasonable level competency employed degree level undergraduate mba specialized master doctoral . include ordinary usual software programs word processing presentation software . 4.2 curriculum management describe governance related curriculum management including structure activities related committees task', 'chunkSeqNum': 1, 'nodeType': 'DATACHUNK', 'parentType': 'DOCUMENTATION', 'parentId': 109}}, {'c': {'parentStandardNum': 4, 'standardTitle': 'Curriculum', 'nodeCat': 'AACSB', 'text': 'usual software programs word processing presentation software . 4.2 curriculum management describe governance related curriculum management including structure activities related committees task forces . describe governance processes practices activities ensure curricular currency foster innovation . 4.3 innovation experiential learning lifelong learning societal impact describe innovations curriculum occurred respect content pedagogy delivery . explain innovations demonstrate currency', 'chunkSeqNum': 2, 'nodeType': 'DATACHUNK', 'parentType': 'DOCUMENTATION', 'parentId': 109}}, {'c': {'parentStandardNum': 4, 'standardTitle': 'Curriculum', 'nodeCat': 'AACSB', 'text': '. 4.3 innovation experiential learning lifelong learning societal impact describe innovations curriculum occurred respect content pedagogy delivery . explain innovations demonstrate currency creativity forward looking curricula . document experiential learning activities provide business learners knowledge hands experience local global practice business across program types teaching learning models employed . describe school encourages learners take responsibility learning promotes', 'chunkSeqNum': 3, 'nodeType': 'DATACHUNK', 'parentType': 'DOCUMENTATION', 'parentId': 109}}, {'c': {'parentStandardNum': 4, 'standardTitle': 'Curriculum', 'nodeCat': 'AACSB', 'text': 'learners knowledge hands experience local global practice business across program types teaching learning models employed . describe school encourages learners take responsibility learning promotes characteristics lifelong learning mindset . document curricular elements within formal coursework foster support learners ability positive impact society . 4.4 engagement summarize learner learner learner faculty interactions supported facilitated encouraged documented . describe learners succeeded', 'chunkSeqNum': 4, 'nodeType': 'DATACHUNK', 'parentType': 'DOCUMENTATION', 'parentId': 109}}, {'c': {'parentStandardNum': 4, 'standardTitle': 'Curriculum', 'nodeCat': 'AACSB', 'text': 'support learners ability positive impact society . 4.4 engagement summarize learner learner learner faculty interactions supported facilitated encouraged documented . describe learners succeeded excelled curricular co curricular engagement faculty business community .', 'chunkSeqNum': 5, 'nodeType': 'DATACHUNK', 'parentType': 'DOCUMENTATION', 'parentId': 109}}]\n",
      "[{'size(section_chunk_list)': 6}]\n",
      "[{'num_links_created': 6}]\n",
      "[{'num_links_created': 1}]\n",
      "[{'num_links_created': 4}]\n",
      "Initializing definition nodes for: \n",
      " Standard Num: 4 \n",
      " Standard Title:Curriculum \n",
      "[{'c': {'parentStandardNum': 4, 'standardTitle': 'Curriculum', 'nodeCat': 'AACSB', 'text': 'curriculum composed program content pedagogies teaching methods delivery modes structures content organized sequenced create systematic integrated program teaching learning identifies school facilitates achievement program competency goals . curriculum influenced mission values culture school . curriculum content includes theories ideas concepts skills knowledge collectively make degree program . competencies state educational expectations degree program . specify intellectual behavioral', 'chunkSeqNum': 0, 'nodeType': 'DATACHUNK', 'parentType': 'DEFINITIONS', 'parentId': 116}}, {'c': {'parentStandardNum': 4, 'standardTitle': 'Curriculum', 'nodeCat': 'AACSB', 'text': '. curriculum content includes theories ideas concepts skills knowledge collectively make degree program . competencies state educational expectations degree program . specify intellectual behavioral capabilities program intended instill well knowledge skills abilities expected outcome particular program . defining competencies faculty members clarify intend graduates competent effective result completing program . content areas need included competency goals . competency goals aligned mission', 'chunkSeqNum': 1, 'nodeType': 'DATACHUNK', 'parentType': 'DEFINITIONS', 'parentId': 116}}, {'c': {'parentStandardNum': 4, 'standardTitle': 'Curriculum', 'nodeCat': 'AACSB', 'text': '. defining competencies faculty members clarify intend graduates competent effective result completing program . content areas need included competency goals . competency goals aligned mission school . experiential learning includes wide variety activities internships service learning study abroad consulting projects high impact pedagogical practices . curriculum management refers school processes organization development design implementation degree program structure organization content', 'chunkSeqNum': 2, 'nodeType': 'DATACHUNK', 'parentType': 'DEFINITIONS', 'parentId': 116}}, {'c': {'parentStandardNum': 4, 'standardTitle': 'Curriculum', 'nodeCat': 'AACSB', 'text': 'consulting projects high impact pedagogical practices . curriculum management refers school processes organization development design implementation degree program structure organization content assessment outcomes pedagogy etc . curriculum management captures input key business school stakeholders influenced assurance learning results new developments business practices issues revision mission strategy relate new areas instruction . innovative curriculum may exhibited incorporating cutting', 'chunkSeqNum': 3, 'nodeType': 'DATACHUNK', 'parentType': 'DEFINITIONS', 'parentId': 116}}, {'c': {'parentStandardNum': 4, 'standardTitle': 'Curriculum', 'nodeCat': 'AACSB', 'text': 'influenced assurance learning results new developments business practices issues revision mission strategy relate new areas instruction . innovative curriculum may exhibited incorporating cutting edge creative content technologies varied pedagogies delivery methods .', 'chunkSeqNum': 4, 'nodeType': 'DATACHUNK', 'parentType': 'DEFINITIONS', 'parentId': 116}}]\n",
      "[{'size(section_chunk_list)': 5}]\n",
      "[{'num_links_created': 5}]\n",
      "[{'num_links_created': 1}]\n",
      "[{'num_links_created': 4}]\n",
      "Initializing standard nodes for: \n",
      " Standard Num: 5 \n",
      " Standard Title:Assurance of Learning \n",
      "[{'c': {'parentStandardNum': 5, 'standardTitle': 'Assurance of Learning', 'nodeCat': 'AACSB', 'text': 'standard 5 assurance learning 5.1 school uses well documented assurance learning aol processes include direct indirect measures ensuring quality degree programs deemed scope accreditation purposes . results school aol work leads curricular process improvements . 5.2 programs resulting degree credential structured designed ensure equivalence high quality outcomes irrespective location modality instructional delivery . 5.3 microlearning credentials stackable otherwise able combined aacsb', 'chunkSeqNum': 0, 'nodeType': 'DATACHUNK', 'parentType': 'STANDARD', 'parentId': 122}}, {'c': {'parentStandardNum': 5, 'standardTitle': 'Assurance of Learning', 'nodeCat': 'AACSB', 'text': 'credential structured designed ensure equivalence high quality outcomes irrespective location modality instructional delivery . 5.3 microlearning credentials stackable otherwise able combined aacsb accredited degree program include processes ensure high quality continuous improvement . 5.4 non degree executive education generates greater five percent school total annual resources include processes ensure high quality continuous improvement .', 'chunkSeqNum': 1, 'nodeType': 'DATACHUNK', 'parentType': 'STANDARD', 'parentId': 122}}]\n",
      "[{'size(section_chunk_list)': 2}]\n",
      "[{'num_links_created': 2}]\n",
      "[{'num_links_created': 1}]\n",
      "Initializing basis nodes for: \n",
      " Standard Num: 5 \n",
      " Standard Title:Assurance of Learning \n",
      "[{'c': {'parentStandardNum': 5, 'standardTitle': 'Assurance of Learning', 'nodeCat': 'AACSB', 'text': '5.1 assurance learning processes school identifies learning competencies business degree program well appropriate direct indirect measures systematically assessed demonstrate learning competencies achieved across degree programs . competencies derive consonant school mission strategies expected outcomes reported degree level opposed major level . competencies curriculum management processes reflect currency knowledge expectations stakeholders including limited organizations employing graduates', 'chunkSeqNum': 0, 'nodeType': 'DATACHUNK', 'parentType': 'BASIS', 'parentId': 125}}, {'c': {'parentStandardNum': 5, 'standardTitle': 'Assurance of Learning', 'nodeCat': 'AACSB', 'text': 'reported degree level opposed major level . competencies curriculum management processes reflect currency knowledge expectations stakeholders including limited organizations employing graduates alumni learners university community policymakers . competencies largely achieved . competencies achieved school provides evidence actions taken remediate deficiencies . direct indirect measures employed school expected include types measures across entire portfolio assessment degree programs .', 'chunkSeqNum': 1, 'nodeType': 'DATACHUNK', 'parentType': 'BASIS', 'parentId': 125}}, {'c': {'parentStandardNum': 5, 'standardTitle': 'Assurance of Learning', 'nodeCat': 'AACSB', 'text': 'achieved school provides evidence actions taken remediate deficiencies . direct indirect measures employed school expected include types measures across entire portfolio assessment degree programs . proportion direct versus indirect measures degree program determined school consistent mission strategic initiatives . acceptable programs assessed direct measures programs may assessed indirect measures . school provides rationale determining programs measured direct measures programs measured', 'chunkSeqNum': 2, 'nodeType': 'DATACHUNK', 'parentType': 'BASIS', 'parentId': 125}}, {'c': {'parentStandardNum': 5, 'standardTitle': 'Assurance of Learning', 'nodeCat': 'AACSB', 'text': 'initiatives . acceptable programs assessed direct measures programs may assessed indirect measures . school provides rationale determining programs measured direct measures programs measured indirect measures . results regular direct indirect assessment lead curricular process improvements . school employs systematic aol process includes meaningful broad faculty participation . programs launched since last review robust aol plan place including timeline gathering analyzing data . depending long', 'chunkSeqNum': 3, 'nodeType': 'DATACHUNK', 'parentType': 'BASIS', 'parentId': 125}}, {'c': {'parentStandardNum': 5, 'standardTitle': 'Assurance of Learning', 'nodeCat': 'AACSB', 'text': 'employs systematic aol process includes meaningful broad faculty participation . programs launched since last review robust aol plan place including timeline gathering analyzing data . depending long program offered data may may yet gathered . program offered five years would expected gathered sufficient data demonstrate systematic effective process program however program launched one two years normal peer review visit may yet gathered sufficient data demonstrate systematic effective process .', 'chunkSeqNum': 4, 'nodeType': 'DATACHUNK', 'parentType': 'BASIS', 'parentId': 125}}, {'c': {'parentStandardNum': 5, 'standardTitle': 'Assurance of Learning', 'nodeCat': 'AACSB', 'text': 'data demonstrate systematic effective process program however program launched one two years normal peer review visit may yet gathered sufficient data demonstrate systematic effective process . standards intend case newly launched degree program schools given sufficient time establish systematic assessment process adequately demonstrates student learning case robust assessment plan paramount importance . 5.2 degree equivalency expectations learner effort outcomes degree credentials equivalent', 'chunkSeqNum': 5, 'nodeType': 'DATACHUNK', 'parentType': 'BASIS', 'parentId': 125}}, {'c': {'parentStandardNum': 5, 'standardTitle': 'Assurance of Learning', 'nodeCat': 'AACSB', 'text': 'process adequately demonstrates student learning case robust assessment plan paramount importance . 5.2 degree equivalency expectations learner effort outcomes degree credentials equivalent terms depth rigor regardless delivery mode location . competency based education cbe credit awarded school normally equivalent quality assured via direct assessment learners . cbe credit reflect small percentage total academic program . 5.3 stackable microlearning credentials credentials certificates minors', 'chunkSeqNum': 6, 'nodeType': 'DATACHUNK', 'parentType': 'BASIS', 'parentId': 125}}, {'c': {'parentStandardNum': 5, 'standardTitle': 'Assurance of Learning', 'nodeCat': 'AACSB', 'text': 'equivalent quality assured via direct assessment learners . cbe credit reflect small percentage total academic program . 5.3 stackable microlearning credentials credentials certificates minors badges lead degree program evaluated degree program level . 5.4 non degree executive education non degree executive education normally reviewed overall quality continuous improvement customer client satisfaction programs generate greater five percent school annual resources .', 'chunkSeqNum': 7, 'nodeType': 'DATACHUNK', 'parentType': 'BASIS', 'parentId': 125}}]\n",
      "[{'size(section_chunk_list)': 8}]\n",
      "[{'num_links_created': 8}]\n",
      "[{'num_links_created': 1}]\n",
      "[{'num_links_created': 5}]\n",
      "Initializing documentation nodes for: \n",
      " Standard Num: 5 \n",
      " Standard Title:Assurance of Learning \n",
      "[{'c': {'parentStandardNum': 5, 'standardTitle': 'Assurance of Learning', 'nodeCat': 'AACSB', 'text': '5.1 assurance learning processes degree program provide portfolio evidence across degree programs includes direct indirect assessment learning showing learner progress meeting competency goals business degree program . proportion direct versus indirect measures within degree program determined school consistent mission strategic initiatives . examples programs lend indirect measurement programs newer smaller niche specialized interdisciplinary programs programs closely tied professional fields .', 'chunkSeqNum': 0, 'nodeType': 'DATACHUNK', 'parentType': 'DOCUMENTATION', 'parentId': 134}}, {'c': {'parentStandardNum': 5, 'standardTitle': 'Assurance of Learning', 'nodeCat': 'AACSB', 'text': 'consistent mission strategic initiatives . examples programs lend indirect measurement programs newer smaller niche specialized interdisciplinary programs programs closely tied professional fields . indirect evidence relative competencies stated degree program indirect evidence applied . schools initial accreditation process complete table 5 1 degree program . table optional schools continuous improvement review process . assessment demonstrates learners meeting learning competencies describe', 'chunkSeqNum': 1, 'nodeType': 'DATACHUNK', 'parentType': 'DOCUMENTATION', 'parentId': 134}}, {'c': {'parentStandardNum': 5, 'standardTitle': 'Assurance of Learning', 'nodeCat': 'AACSB', 'text': 'accreditation process complete table 5 1 degree program . table optional schools continuous improvement review process . assessment demonstrates learners meeting learning competencies describe efforts school instituted improve learning outcomes . provide evidence faculty sufficiently meaningfully engaged aol processes . business school subject formalized regional country regulations quality assurance organizations focused evaluation learner performance processes consistent aacsb expectations', 'chunkSeqNum': 2, 'nodeType': 'DATACHUNK', 'parentType': 'DOCUMENTATION', 'parentId': 134}}, {'c': {'parentStandardNum': 5, 'standardTitle': 'Assurance of Learning', 'nodeCat': 'AACSB', 'text': 'engaged aol processes . business school subject formalized regional country regulations quality assurance organizations focused evaluation learner performance processes consistent aacsb expectations best practices relevant redundant portions may applied demonstrate assurance learning . burden proof school document systems support effective continuous improvement learner performance outcomes . consult mentor peer review team chair guidance . 5.2 degree equivalency show degree program structure', 'chunkSeqNum': 3, 'nodeType': 'DATACHUNK', 'parentType': 'DOCUMENTATION', 'parentId': 134}}, {'c': {'parentStandardNum': 5, 'standardTitle': 'Assurance of Learning', 'nodeCat': 'AACSB', 'text': 'school document systems support effective continuous improvement learner performance outcomes . consult mentor peer review team chair guidance . 5.2 degree equivalency show degree program structure design expectations appropriate level degree programs demonstrate expectations across educational programs result degree credentials equivalent regardless delivery mode location time completion . prepared provide evidence equivalent learning outcomes identical degrees offered different locations', 'chunkSeqNum': 4, 'nodeType': 'DATACHUNK', 'parentType': 'DOCUMENTATION', 'parentId': 134}}, {'c': {'parentStandardNum': 5, 'standardTitle': 'Assurance of Learning', 'nodeCat': 'AACSB', 'text': 'programs result degree credentials equivalent regardless delivery mode location time completion . prepared provide evidence equivalent learning outcomes identical degrees offered different locations different modalities . examples may include limited assurance learning outcomes graduation rates retention rates placement rates employer alumni surveys learner satisfaction statistics . 5.3 stackable microlearning credentials provide list microlearning credentials may stacked degree describe', 'chunkSeqNum': 5, 'nodeType': 'DATACHUNK', 'parentType': 'DOCUMENTATION', 'parentId': 134}}, {'c': {'parentStandardNum': 5, 'standardTitle': 'Assurance of Learning', 'nodeCat': 'AACSB', 'text': 'retention rates placement rates employer alumni surveys learner satisfaction statistics . 5.3 stackable microlearning credentials provide list microlearning credentials may stacked degree describe portfolio microlearning credentials aligned school mission strategy . explain credentials may lead degree describe quality assured microlearning credentials . 5.4 non degree executive education describe portfolio executive education programs portfolio aligned school mission strategy . provide', 'chunkSeqNum': 6, 'nodeType': 'DATACHUNK', 'parentType': 'DOCUMENTATION', 'parentId': 134}}, {'c': {'parentStandardNum': 5, 'standardTitle': 'Assurance of Learning', 'nodeCat': 'AACSB', 'text': 'lead degree describe quality assured microlearning credentials . 5.4 non degree executive education describe portfolio executive education programs portfolio aligned school mission strategy . provide narrative discussing school ensures high quality processes outcomes executive education offerings cases school non degree executive education revenue exceeds five percent school total annual resources . describe processes ensuring client expectations consistently met .', 'chunkSeqNum': 7, 'nodeType': 'DATACHUNK', 'parentType': 'DOCUMENTATION', 'parentId': 134}}]\n",
      "[{'size(section_chunk_list)': 8}]\n",
      "[{'num_links_created': 8}]\n",
      "[{'num_links_created': 1}]\n",
      "[{'num_links_created': 5}]\n",
      "Initializing definition nodes for: \n",
      " Standard Num: 5 \n",
      " Standard Title:Assurance of Learning \n",
      "[{'c': {'parentStandardNum': 5, 'standardTitle': 'Assurance of Learning', 'nodeCat': 'AACSB', 'text': 'assurance learning aol refers systematic processes assessment plans collectively demonstrate learners achieve learning competencies programs participate within scope school accreditation . aol also includes processes identifying competency gaps designing implementing changes curriculum learning experience learning competencies met . aacsb accreditation concerned broad program level focused competency goals degree program rather detailed competency goals course topic . competency based education', 'chunkSeqNum': 0, 'nodeType': 'DATACHUNK', 'parentType': 'DEFINITIONS', 'parentId': 143}}, {'c': {'parentStandardNum': 5, 'standardTitle': 'Assurance of Learning', 'nodeCat': 'AACSB', 'text': 'learning competencies met . aacsb accreditation concerned broad program level focused competency goals degree program rather detailed competency goals course topic . competency based education cbe refers courses learners progress pace based ability demonstrate proficiency specific skill competency . cbe includes credit prior learning . direct measures refer evidence learner work examinations quizzes assignments internship externship feedback based direct observation individual performance', 'chunkSeqNum': 1, 'nodeType': 'DATACHUNK', 'parentType': 'DEFINITIONS', 'parentId': 143}}, {'c': {'parentStandardNum': 5, 'standardTitle': 'Assurance of Learning', 'nodeCat': 'AACSB', 'text': '. cbe includes credit prior learning . direct measures refer evidence learner work examinations quizzes assignments internship externship feedback based direct observation individual performance behaviors outcomes . indirect measures learning refer evidence attained third party input based direct observation individual performance behaviors outcomes . example employer survey asking assessment school learners performed internships relative learners peer institutions indirect measure . however', 'chunkSeqNum': 2, 'nodeType': 'DATACHUNK', 'parentType': 'DEFINITIONS', 'parentId': 143}}, {'c': {'parentStandardNum': 5, 'standardTitle': 'Assurance of Learning', 'nodeCat': 'AACSB', 'text': 'observation individual performance behaviors outcomes . example employer survey asking assessment school learners performed internships relative learners peer institutions indirect measure . however learner completes internship degree credit assessed company individual performance feedback provided school direct measure . examples indirect assessments include exit surveys alumni surveys advisory council feedback employer input career fair feedback inspection course documentation external', 'chunkSeqNum': 3, 'nodeType': 'DATACHUNK', 'parentType': 'DEFINITIONS', 'parentId': 143}}, {'c': {'parentStandardNum': 5, 'standardTitle': 'Assurance of Learning', 'nodeCat': 'AACSB', 'text': 'school direct measure . examples indirect assessments include exit surveys alumni surveys advisory council feedback employer input career fair feedback inspection course documentation external outcome measures focus groups interviews . direct assessments indirect assessment supportive competency goals particular degree program including successful achievement competency goals . executive education refers educational activities typically lead degree educational objectives level consistent higher', 'chunkSeqNum': 4, 'nodeType': 'DATACHUNK', 'parentType': 'DEFINITIONS', 'parentId': 143}}, {'c': {'parentStandardNum': 5, 'standardTitle': 'Assurance of Learning', 'nodeCat': 'AACSB', 'text': 'particular degree program including successful achievement competency goals . executive education refers educational activities typically lead degree educational objectives level consistent higher education business . examples include corporate training professional development seminars . executive education programs degree granting normal assurance learning processes standards apply . competencies throughout standard understood broadly encompass knowledge skills abilities . microlearning', 'chunkSeqNum': 5, 'nodeType': 'DATACHUNK', 'parentType': 'DEFINITIONS', 'parentId': 143}}, {'c': {'parentStandardNum': 5, 'standardTitle': 'Assurance of Learning', 'nodeCat': 'AACSB', 'text': 'education programs degree granting normal assurance learning processes standards apply . competencies throughout standard understood broadly encompass knowledge skills abilities . microlearning credentials certifications granted assessment mastery specialized competency . credentials may sometimes stackable combined collectively satisfy requirements degree program . minors certificates badges common microlearning credentials .', 'chunkSeqNum': 6, 'nodeType': 'DATACHUNK', 'parentType': 'DEFINITIONS', 'parentId': 143}}]\n",
      "[{'size(section_chunk_list)': 7}]\n",
      "[{'num_links_created': 7}]\n",
      "[{'num_links_created': 1}]\n",
      "[{'num_links_created': 5}]\n",
      "Initializing standard nodes for: \n",
      " Standard Num: 6 \n",
      " Standard Title:Learner Progression \n",
      "[{'c': {'parentStandardNum': 6, 'standardTitle': 'Learner Progression', 'nodeCat': 'AACSB', 'text': 'standard 6 learner progression 6.1 school policies procedures admissions acceptance transfer credit academic progression toward degree completion support career development clear effective consistently applied aligned school mission strategies expected outcomes . 6.2 post graduation success consistent school mission strategies expected outcomes . public disclosure academic program quality supporting learner progression post graduation success occurs current consistent basis .', 'chunkSeqNum': 0, 'nodeType': 'DATACHUNK', 'parentType': 'STANDARD', 'parentId': 151}}]\n",
      "[{'size(section_chunk_list)': 1}]\n",
      "[{'num_links_created': 1}]\n",
      "[{'num_links_created': 1}]\n",
      "Initializing basis nodes for: \n",
      " Standard Num: 6 \n",
      " Standard Title:Learner Progression \n",
      "[{'c': {'parentStandardNum': 6, 'standardTitle': 'Learner Progression', 'nodeCat': 'AACSB', 'text': '6.1 admissions progression degree completion career development support policies procedures related degree program admission clear effective transparent aligned school mission strategies expected outcomes . school actively seeks attract retain diverse learners consistent aacsb guiding principle 9. normally graduate business degree program admission criteria include expectation applicants earn bachelor degree prior admission graduate program . school prepared document exceptions support quality .', 'chunkSeqNum': 0, 'nodeType': 'DATACHUNK', 'parentType': 'BASIS', 'parentId': 153}}, {'c': {'parentStandardNum': 6, 'standardTitle': 'Learner Progression', 'nodeCat': 'AACSB', 'text': 'graduate business degree program admission criteria include expectation applicants earn bachelor degree prior admission graduate program . school prepared document exceptions support quality . school defines broadly disseminates policies evaluating awarding accepting transfer credits courses institutions . policies ensure academic work accepted institutions comparable academic work required school degree programs . apart collaborative provision programs normally majority learning business', 'chunkSeqNum': 1, 'nodeType': 'DATACHUNK', 'parentType': 'BASIS', 'parentId': 153}}, {'c': {'parentStandardNum': 6, 'standardTitle': 'Learner Progression', 'nodeCat': 'AACSB', 'text': '. policies ensure academic work accepted institutions comparable academic work required school degree programs . apart collaborative provision programs normally majority learning business disciplines count toward degree fulfillment determined credits contact hours metrics earned institution awarding degree . context business disciplines include general education courses include courses major required business courses business electives . 17 collaborative provision programs formal agreements', 'chunkSeqNum': 2, 'nodeType': 'DATACHUNK', 'parentType': 'BASIS', 'parentId': 153}}, {'c': {'parentStandardNum': 6, 'standardTitle': 'Learner Progression', 'nodeCat': 'AACSB', 'text': 'degree . context business disciplines include general education courses include courses major required business courses business electives . 17 collaborative provision programs formal agreements accredited school partner school . treatment programs discussed collaborative provisions transfer credit section standards . school prepares supports learners ensure academic progression toward degree completion including clear effective academic performance standards processes consistent degree program', 'chunkSeqNum': 3, 'nodeType': 'DATACHUNK', 'parentType': 'BASIS', 'parentId': 153}}, {'c': {'parentStandardNum': 6, 'standardTitle': 'Learner Progression', 'nodeCat': 'AACSB', 'text': 'section standards . school prepares supports learners ensure academic progression toward degree completion including clear effective academic performance standards processes consistent degree program competency goals . high quality advising services available learners consistent timely basis . strategies employed identify provide intervention support learners progressing adequately including underrepresented otherwise risk populations . learner support services including academic assistance', 'chunkSeqNum': 4, 'nodeType': 'DATACHUNK', 'parentType': 'BASIS', 'parentId': 153}}, {'c': {'parentStandardNum': 6, 'standardTitle': 'Learner Progression', 'nodeCat': 'AACSB', 'text': 'employed identify provide intervention support learners progressing adequately including underrepresented otherwise risk populations . learner support services including academic assistance advising career advising placement alumni relations public relations fundraising admissions well mission related activities appropriate available high degree service mindedness appropriate consumers services . school provides effective career development support learners graduates consistent degree program', 'chunkSeqNum': 5, 'nodeType': 'DATACHUNK', 'parentType': 'BASIS', 'parentId': 153}}, {'c': {'parentStandardNum': 6, 'standardTitle': 'Learner Progression', 'nodeCat': 'AACSB', 'text': 'activities appropriate available high degree service mindedness appropriate consumers services . school provides effective career development support learners graduates consistent degree program expectations school mission strategies expected outcomes . 6.2 academic program quality post graduation success school post graduation employment data graduate school attendance data measures available school indicate post graduate success . addition public disclosure information required national', 'chunkSeqNum': 6, 'nodeType': 'DATACHUNK', 'parentType': 'BASIS', 'parentId': 153}}, {'c': {'parentStandardNum': 6, 'standardTitle': 'Learner Progression', 'nodeCat': 'AACSB', 'text': 'success school post graduation employment data graduate school attendance data measures available school indicate post graduate success . addition public disclosure information required national regional accreditors schools provide readily accessible reliable easily understandable information public performance business learners including learner achievement information overall program quality determined school .', 'chunkSeqNum': 7, 'nodeType': 'DATACHUNK', 'parentType': 'BASIS', 'parentId': 153}}]\n",
      "[{'size(section_chunk_list)': 8}]\n",
      "[{'num_links_created': 8}]\n",
      "[{'num_links_created': 1}]\n",
      "[{'num_links_created': 6}]\n",
      "Initializing documentation nodes for: \n",
      " Standard Num: 6 \n",
      " Standard Title:Learner Progression \n",
      "[{'c': {'parentStandardNum': 6, 'standardTitle': 'Learner Progression', 'nodeCat': 'AACSB', 'text': '6.1 admissions progression degree completion career development support describe admissions policies processes demonstrate consistent program expectations aligned school mission transparent participants . describe strategies place attract retain diverse learners consistent guiding principle 9. exception school admission progression policies made provide justification basis . describe school policies governing acceptance transfer credit quality assured transfer credit . describe academic advising', 'chunkSeqNum': 0, 'nodeType': 'DATACHUNK', 'parentType': 'DOCUMENTATION', 'parentId': 162}}, {'c': {'parentStandardNum': 6, 'standardTitle': 'Learner Progression', 'nodeCat': 'AACSB', 'text': 'school admission progression policies made provide justification basis . describe school policies governing acceptance transfer credit quality assured transfer credit . describe academic advising services available learners . describe appropriate interventions undertaken learners failing thrive progress toward successful timely degree completion including learners underrepresented otherwise risk populations . describe information technologies used support admissions academic progression career', 'chunkSeqNum': 1, 'nodeType': 'DATACHUNK', 'parentType': 'DOCUMENTATION', 'parentId': 162}}, {'c': {'parentStandardNum': 6, 'standardTitle': 'Learner Progression', 'nodeCat': 'AACSB', 'text': 'toward successful timely degree completion including learners underrepresented otherwise risk populations . describe information technologies used support admissions academic progression career development . describe processes place support career development activities career counseling career days workshops career fairs etc . 6.2 academic program quality post graduation success document post graduate learner success . success may defined variety outcomes besides traditional employment', 'chunkSeqNum': 2, 'nodeType': 'DATACHUNK', 'parentType': 'DOCUMENTATION', 'parentId': 162}}, {'c': {'parentStandardNum': 6, 'standardTitle': 'Learner Progression', 'nodeCat': 'AACSB', 'text': 'days workshops career fairs etc . 6.2 academic program quality post graduation success document post graduate learner success . success may defined variety outcomes besides traditional employment business field . examples information include limited graduation rates job placement outcomes certification licensure exam results employment advancement internships entrepreneurial activity activity positive societal impact well case examples successful graduates . schools provide relevant timely', 'chunkSeqNum': 3, 'nodeType': 'DATACHUNK', 'parentType': 'DOCUMENTATION', 'parentId': 162}}, {'c': {'parentStandardNum': 6, 'standardTitle': 'Learner Progression', 'nodeCat': 'AACSB', 'text': 'licensure exam results employment advancement internships entrepreneurial activity activity positive societal impact well case examples successful graduates . schools provide relevant timely public disclosure data documenting overall academic program quality . information available accredited unit website clearly displayed distinguishable university amalgamated data . disclosures prescriptive informed school mission strategies expected outcomes may include post graduate learner success outcomes', 'chunkSeqNum': 4, 'nodeType': 'DATACHUNK', 'parentType': 'DOCUMENTATION', 'parentId': 162}}, {'c': {'parentStandardNum': 6, 'standardTitle': 'Learner Progression', 'nodeCat': 'AACSB', 'text': 'clearly displayed distinguishable university amalgamated data . disclosures prescriptive informed school mission strategies expected outcomes may include post graduate learner success outcomes admission data retention time degree data diversity inclusion advances particular program emphases student learning outcomes rankings data experiential learning opportunities meaningful societal impact mission specific outcomes .', 'chunkSeqNum': 5, 'nodeType': 'DATACHUNK', 'parentType': 'DOCUMENTATION', 'parentId': 162}}]\n",
      "[{'size(section_chunk_list)': 6}]\n",
      "[{'num_links_created': 6}]\n",
      "[{'num_links_created': 1}]\n",
      "[{'num_links_created': 6}]\n",
      "Initializing definition nodes for: \n",
      " Standard Num: 6 \n",
      " Standard Title:Learner Progression \n",
      "[{'c': {'parentStandardNum': 6, 'standardTitle': 'Learner Progression', 'nodeCat': 'AACSB', 'text': 'none', 'chunkSeqNum': 0, 'nodeType': 'DATACHUNK', 'parentType': 'DEFINITIONS', 'parentId': 169}}]\n",
      "[{'size(section_chunk_list)': 1}]\n",
      "[{'num_links_created': 1}]\n",
      "[{'num_links_created': 1}]\n",
      "[{'num_links_created': 6}]\n",
      "Initializing standard nodes for: \n",
      " Standard Num: 7 \n",
      " Standard Title:Teaching Effectiveness and Impact \n",
      "[{'c': {'parentStandardNum': 7, 'standardTitle': 'Teaching Effectiveness and Impact', 'nodeCat': 'AACSB', 'text': 'standard 7 teaching effectiveness impact 7.1 school systematic multi measure assessment process ensuring quality teaching impact learner success . 7.2 school development activities place enhance faculty teaching ensure teachers deliver curriculum current relevant forwardlooking globally oriented innovative aligned program competency goals . 7.3 faculty current discipline pedagogical methods including teaching diverse perspectives inclusive environment . faculty demonstrate lifelong learning', 'chunkSeqNum': 0, 'nodeType': 'DATACHUNK', 'parentType': 'STANDARD', 'parentId': 171}}, {'c': {'parentStandardNum': 7, 'standardTitle': 'Teaching Effectiveness and Impact', 'nodeCat': 'AACSB', 'text': 'innovative aligned program competency goals . 7.3 faculty current discipline pedagogical methods including teaching diverse perspectives inclusive environment . faculty demonstrate lifelong learning mindset supported promoted school . 7.4 school demonstrates teaching impact learner success learner satisfaction affirmations teaching expertise', 'chunkSeqNum': 1, 'nodeType': 'DATACHUNK', 'parentType': 'STANDARD', 'parentId': 171}}]\n",
      "[{'size(section_chunk_list)': 2}]\n",
      "[{'num_links_created': 2}]\n",
      "[{'num_links_created': 1}]\n",
      "Initializing basis nodes for: \n",
      " Standard Num: 7 \n",
      " Standard Title:Teaching Effectiveness and Impact \n",
      "[{'c': {'parentStandardNum': 7, 'standardTitle': 'Teaching Effectiveness and Impact', 'nodeCat': 'AACSB', 'text': '7.1 teaching effectiveness school systematic process evaluating teaching effectiveness integral component faculty professional staff performance review process . process include multiple methods evaluating teaching well expectations continuous improvement . school methods practices related teaching effectiveness clearly linked school mission strategies expected outcomes . 7.2 support teaching effectiveness school provides development activities focused teaching enhancement incentives', 'chunkSeqNum': 0, 'nodeType': 'DATACHUNK', 'parentType': 'BASIS', 'parentId': 174}}, {'c': {'parentStandardNum': 7, 'standardTitle': 'Teaching Effectiveness and Impact', 'nodeCat': 'AACSB', 'text': 'teaching effectiveness clearly linked school mission strategies expected outcomes . 7.2 support teaching effectiveness school provides development activities focused teaching enhancement incentives continuously improve teaching effectiveness faculty teaching responsibilities across delivery modes . 7.3 faculty preparedness faculty adequately prepared teach various modalities pedagogies degree programs . faculty demonstrate lifelong learning mindset respect domain expertise . means faculty take', 'chunkSeqNum': 1, 'nodeType': 'DATACHUNK', 'parentType': 'BASIS', 'parentId': 174}}, {'c': {'parentStandardNum': 7, 'standardTitle': 'Teaching Effectiveness and Impact', 'nodeCat': 'AACSB', 'text': '7.3 faculty preparedness faculty adequately prepared teach various modalities pedagogies degree programs . faculty demonstrate lifelong learning mindset respect domain expertise . means faculty take responsibility continuing professional development maintain currency relevancy field expertise area teaching embrace idea never stop learning . faculty adequately prepared teach diverse perspectives inclusive environment . 53 2020 guiding principles standards business accreditation 7.4 teaching', 'chunkSeqNum': 2, 'nodeType': 'DATACHUNK', 'parentType': 'BASIS', 'parentId': 174}}, {'c': {'parentStandardNum': 7, 'standardTitle': 'Teaching Effectiveness and Impact', 'nodeCat': 'AACSB', 'text': 'teaching embrace idea never stop learning . faculty adequately prepared teach diverse perspectives inclusive environment . 53 2020 guiding principles standards business accreditation 7.4 teaching impact teaching effectiveness results impact demonstrated learner success satisfaction . impact teaching also demonstrated faculty credentials awards certifications well dissemination expertise via avenues may include seminars scholarship teaching learning peer mentoring .', 'chunkSeqNum': 3, 'nodeType': 'DATACHUNK', 'parentType': 'BASIS', 'parentId': 174}}]\n",
      "[{'size(section_chunk_list)': 4}]\n",
      "[{'num_links_created': 4}]\n",
      "[{'num_links_created': 1}]\n",
      "[{'num_links_created': 7}]\n",
      "Initializing documentation nodes for: \n",
      " Standard Num: 7 \n",
      " Standard Title:Teaching Effectiveness and Impact \n",
      "[{'c': {'parentStandardNum': 7, 'standardTitle': 'Teaching Effectiveness and Impact', 'nodeCat': 'AACSB', 'text': '7.1 teaching effectiveness describe school evaluates teaching performance across various program instructional models . discuss school ensures faculty engaged different teaching learning models competencies required achieving high quality . 7.2 support teaching effectiveness describe continuous improvement development initiatives faculty focus teaching enhancement learning diverse learner population . document faculty participation teaching enhancement initiatives past five years . describe', 'chunkSeqNum': 0, 'nodeType': 'DATACHUNK', 'parentType': 'DOCUMENTATION', 'parentId': 179}}, {'c': {'parentStandardNum': 7, 'standardTitle': 'Teaching Effectiveness and Impact', 'nodeCat': 'AACSB', 'text': 'improvement development initiatives faculty focus teaching enhancement learning diverse learner population . document faculty participation teaching enhancement initiatives past five years . describe incentives faculty continuously improve teaching effectiveness . may include performance evaluation processes awards pedagogy grants support attend teaching conferences recognitions support . describe school process remediating ineffective teaching school deems necessary . describe faculty', 'chunkSeqNum': 1, 'nodeType': 'DATACHUNK', 'parentType': 'DOCUMENTATION', 'parentId': 179}}, {'c': {'parentStandardNum': 7, 'standardTitle': 'Teaching Effectiveness and Impact', 'nodeCat': 'AACSB', 'text': 'processes awards pedagogy grants support attend teaching conferences recognitions support . describe school process remediating ineffective teaching school deems necessary . describe faculty development activities designed ensure faculty current using high quality pedagogy . 7.3 faculty preparedness describe school supports faculty preparedness deliver instruction across various degree program modalities pedagogies . describe faculty prepared teach inclusive environment including workshops', 'chunkSeqNum': 2, 'nodeType': 'DATACHUNK', 'parentType': 'DOCUMENTATION', 'parentId': 179}}, {'c': {'parentStandardNum': 7, 'standardTitle': 'Teaching Effectiveness and Impact', 'nodeCat': 'AACSB', 'text': 'describe school supports faculty preparedness deliver instruction across various degree program modalities pedagogies . describe faculty prepared teach inclusive environment including workshops trainings faculty school may participated . describe faculty demonstrate lifelong learning mindset school supports lifelong learning goal . describe faculty remain current relevant area teaching . 7.4 teaching impact summarize awards recognitions faculty received outstanding teaching professional support', 'chunkSeqNum': 3, 'nodeType': 'DATACHUNK', 'parentType': 'DOCUMENTATION', 'parentId': 179}}, {'c': {'parentStandardNum': 7, 'standardTitle': 'Teaching Effectiveness and Impact', 'nodeCat': 'AACSB', 'text': 'supports lifelong learning goal . describe faculty remain current relevant area teaching . 7.4 teaching impact summarize awards recognitions faculty received outstanding teaching professional support learning . document innovative effective teaching practices significant positive impact learning . provide exemplars learner success either respect school current learners alumni . document examples teaching impact results learner employer satisfaction surveys teaching awards internal external', 'chunkSeqNum': 4, 'nodeType': 'DATACHUNK', 'parentType': 'DOCUMENTATION', 'parentId': 179}}, {'c': {'parentStandardNum': 7, 'standardTitle': 'Teaching Effectiveness and Impact', 'nodeCat': 'AACSB', 'text': '. provide exemplars learner success either respect school current learners alumni . document examples teaching impact results learner employer satisfaction surveys teaching awards internal external teaching credentials certifications scholarship teaching learning mentoring participation teaching seminars presentations teaching conferences .', 'chunkSeqNum': 5, 'nodeType': 'DATACHUNK', 'parentType': 'DOCUMENTATION', 'parentId': 179}}]\n",
      "[{'size(section_chunk_list)': 6}]\n",
      "[{'num_links_created': 6}]\n",
      "[{'num_links_created': 1}]\n",
      "[{'num_links_created': 7}]\n",
      "Initializing definition nodes for: \n",
      " Standard Num: 7 \n",
      " Standard Title:Teaching Effectiveness and Impact \n",
      "[{'c': {'parentStandardNum': 7, 'standardTitle': 'Teaching Effectiveness and Impact', 'nodeCat': 'AACSB', 'text': 'none', 'chunkSeqNum': 0, 'nodeType': 'DATACHUNK', 'parentType': 'DEFINITIONS', 'parentId': 186}}]\n",
      "[{'size(section_chunk_list)': 1}]\n",
      "[{'num_links_created': 1}]\n",
      "[{'num_links_created': 1}]\n",
      "[{'num_links_created': 7}]\n",
      "Initializing standard nodes for: \n",
      " Standard Num: 8 \n",
      " Standard Title:Impact of Scholarship \n",
      "[{'c': {'parentStandardNum': 8, 'standardTitle': 'Impact of Scholarship', 'nodeCat': 'AACSB', 'text': 'standard 8 impact scholarship 8.1 school faculty collectively produce high quality impactful intellectual contributions time develop mission consistent areas thought leadership school . 8.2 school collaborates wide variety external stakeholders create transfer credible relevant timely knowledge informs theory policy practice business develop mission consistent areas thought leadership school . 8.3 school portfolio intellectual contributions contains exemplars basic applied pedagogical research', 'chunkSeqNum': 0, 'nodeType': 'DATACHUNK', 'parentType': 'STANDARD', 'parentId': 188}}, {'c': {'parentStandardNum': 8, 'standardTitle': 'Impact of Scholarship', 'nodeCat': 'AACSB', 'text': 'theory policy practice business develop mission consistent areas thought leadership school . 8.3 school portfolio intellectual contributions contains exemplars basic applied pedagogical research positive societal impact consistent school mission .', 'chunkSeqNum': 1, 'nodeType': 'DATACHUNK', 'parentType': 'STANDARD', 'parentId': 188}}]\n",
      "[{'size(section_chunk_list)': 2}]\n",
      "[{'num_links_created': 2}]\n",
      "[{'num_links_created': 1}]\n",
      "Initializing basis nodes for: \n",
      " Standard Num: 8 \n",
      " Standard Title:Impact of Scholarship \n",
      "[{'c': {'parentStandardNum': 8, 'standardTitle': 'Impact of Scholarship', 'nodeCat': 'AACSB', 'text': '8.1 production high quality impactful intellectual contributions school place processes systems resources support production quality intellectual contributions assess impact . school intellectual contributions impact theory practice teaching business . school five year portfolio intellectual contributions . distribution intellectual contributions across categories portfolio aligned school mission strategy aspirations reputation thought leader . types intellectual contributions vary across', 'chunkSeqNum': 0, 'nodeType': 'DATACHUNK', 'parentType': 'BASIS', 'parentId': 191}}, {'c': {'parentStandardNum': 8, 'standardTitle': 'Impact of Scholarship', 'nodeCat': 'AACSB', 'text': '. distribution intellectual contributions across categories portfolio aligned school mission strategy aspirations reputation thought leader . types intellectual contributions vary across schools missions vary . school identifies area thought leadership outlines goals contributions describes achievements last five years well plans next five years . examples areas could evolve thought leadership include organizing holding regional national international academic practitioner conferences holding', 'chunkSeqNum': 1, 'nodeType': 'DATACHUNK', 'parentType': 'BASIS', 'parentId': 191}}, {'c': {'parentStandardNum': 8, 'standardTitle': 'Impact of Scholarship', 'nodeCat': 'AACSB', 'text': 'last five years well plans next five years . examples areas could evolve thought leadership include organizing holding regional national international academic practitioner conferences holding meetings academic professional organizations publishing working paper series publishing academic journals establishing case study clearinghouse forming research relationships private sector nonprofit government organizations . one important type intellectual contribution publication high quality peer', 'chunkSeqNum': 2, 'nodeType': 'DATACHUNK', 'parentType': 'BASIS', 'parentId': 191}}, {'c': {'parentStandardNum': 8, 'standardTitle': 'Impact of Scholarship', 'nodeCat': 'AACSB', 'text': 'establishing case study clearinghouse forming research relationships private sector nonprofit government organizations . one important type intellectual contribution publication high quality peer reviewed journal articles . production peer review journal articles key way faculty maintain currency expertise field . thus schools expected high quality peer reviewed journal articles portfolio intellectual contributions . type peer review journal articles aligned school mission . schools primarily', 'chunkSeqNum': 3, 'nodeType': 'DATACHUNK', 'parentType': 'BASIS', 'parentId': 191}}, {'c': {'parentStandardNum': 8, 'standardTitle': 'Impact of Scholarship', 'nodeCat': 'AACSB', 'text': 'expertise field . thus schools expected high quality peer reviewed journal articles portfolio intellectual contributions . type peer review journal articles aligned school mission . schools primarily teaching missions may produce high quality applied pedagogical research schools offering research master doctoral degrees expected produce greater percentage high quality basic research . significant cross section faculty school discipline engaged production intellectual contributions relying', 'chunkSeqNum': 4, 'nodeType': 'DATACHUNK', 'parentType': 'BASIS', 'parentId': 191}}, {'c': {'parentStandardNum': 8, 'standardTitle': 'Impact of Scholarship', 'nodeCat': 'AACSB', 'text': 'master doctoral degrees expected produce greater percentage high quality basic research . significant cross section faculty school discipline engaged production intellectual contributions relying heavily participating faculty . school assesses evaluates quality intellectual contributions clarity future direction . school policies guard publishing predatory journals . 8.2 collaboration stakeholders systems processes resources place support engagement relevant external stakeholders school units', 'chunkSeqNum': 5, 'nodeType': 'DATACHUNK', 'parentType': 'BASIS', 'parentId': 191}}, {'c': {'parentStandardNum': 8, 'standardTitle': 'Impact of Scholarship', 'nodeCat': 'AACSB', 'text': 'direction . school policies guard publishing predatory journals . 8.2 collaboration stakeholders systems processes resources place support engagement relevant external stakeholders school units within school faculty learners . engagements produce credible knowledge contribute new venture creation create commercialization opportunities ultimately useful external communities apply practice business address real issues society . collaborations stakeholders contribute school reputation thought', 'chunkSeqNum': 6, 'nodeType': 'DATACHUNK', 'parentType': 'BASIS', 'parentId': 191}}, {'c': {'parentStandardNum': 8, 'standardTitle': 'Impact of Scholarship', 'nodeCat': 'AACSB', 'text': 'create commercialization opportunities ultimately useful external communities apply practice business address real issues society . collaborations stakeholders contribute school reputation thought leader desired area . 8.3 societal impact intellectual contributions portfolio intellectual contributions contains exemplars research publications positive societal impact consistent school mission strategic plan . may include interdisciplinary research undertaken business school researchers academics', 'chunkSeqNum': 7, 'nodeType': 'DATACHUNK', 'parentType': 'BASIS', 'parentId': 191}}, {'c': {'parentStandardNum': 8, 'standardTitle': 'Impact of Scholarship', 'nodeCat': 'AACSB', 'text': 'contains exemplars research publications positive societal impact consistent school mission strategic plan . may include interdisciplinary research undertaken business school researchers academics non business disciplines .', 'chunkSeqNum': 8, 'nodeType': 'DATACHUNK', 'parentType': 'BASIS', 'parentId': 191}}]\n",
      "[{'size(section_chunk_list)': 9}]\n",
      "[{'num_links_created': 9}]\n",
      "[{'num_links_created': 1}]\n",
      "[{'num_links_created': 8}]\n",
      "Initializing documentation nodes for: \n",
      " Standard Num: 8 \n",
      " Standard Title:Impact of Scholarship \n",
      "[{'c': {'parentStandardNum': 8, 'standardTitle': 'Impact of Scholarship', 'nodeCat': 'AACSB', 'text': '8.1 production high quality impactful intellectual contributions using table 8 1 provide five year portfolio evidence summarizes intellectual contributions school aggregated way reflects disciplines school . schools provide supplemental information discretion present robust view intellectual contributions . table 8 1 provide total number intellectual contributions produced faculty employed school year record . intellectual contributions identified portfolio type percentage faculty producing .', 'chunkSeqNum': 0, 'nodeType': 'DATACHUNK', 'parentType': 'DOCUMENTATION', 'parentId': 201}}, {'c': {'parentStandardNum': 8, 'standardTitle': 'Impact of Scholarship', 'nodeCat': 'AACSB', 'text': '. table 8 1 provide total number intellectual contributions produced faculty employed school year record . intellectual contributions identified portfolio type percentage faculty producing . table organized using disciplines reflected table 3 1. table 8 1 b outline intellectual contributions aligned school mission strategies expected outcomes . table 8 1 c identify school measures quality intellectual contributions apply measures analyze five year portfolio . include evaluation current future', 'chunkSeqNum': 1, 'nodeType': 'DATACHUNK', 'parentType': 'DOCUMENTATION', 'parentId': 201}}, {'c': {'parentStandardNum': 8, 'standardTitle': 'Impact of Scholarship', 'nodeCat': 'AACSB', 'text': 'school mission strategies expected outcomes . table 8 1 c identify school measures quality intellectual contributions apply measures analyze five year portfolio . include evaluation current future desired states changes implemented result . table 8 1 using qualitative quantitative metrics provide analysis impact made school portfolio intellectual contributions . clearly outline school supports encourages faculty produce intellectual contributions . include outline financial support incentives', 'chunkSeqNum': 2, 'nodeType': 'DATACHUNK', 'parentType': 'DOCUMENTATION', 'parentId': 201}}, {'c': {'parentStandardNum': 8, 'standardTitle': 'Impact of Scholarship', 'nodeCat': 'AACSB', 'text': 'analysis impact made school portfolio intellectual contributions . clearly outline school supports encourages faculty produce intellectual contributions . include outline financial support incentives rewards performance expectations development opportunities initiatives ensure faculty developed supported develop quality intellectual contributions . describe school processes identify high quality research scholarship including description school guards promoting publications predatory journals .', 'chunkSeqNum': 3, 'nodeType': 'DATACHUNK', 'parentType': 'DOCUMENTATION', 'parentId': 201}}, {'c': {'parentStandardNum': 8, 'standardTitle': 'Impact of Scholarship', 'nodeCat': 'AACSB', 'text': 'develop quality intellectual contributions . describe school processes identify high quality research scholarship including description school guards promoting publications predatory journals . identify thought leadership aspiration school evaluate progress toward goal well plans place next five years . 8.2 collaboration stakeholders outline processes systems resources place facilitate engagement school units within school faculty learners relevant external stakeholders . describe engagements', 'chunkSeqNum': 4, 'nodeType': 'DATACHUNK', 'parentType': 'DOCUMENTATION', 'parentId': 201}}, {'c': {'parentStandardNum': 8, 'standardTitle': 'Impact of Scholarship', 'nodeCat': 'AACSB', 'text': '. 8.2 collaboration stakeholders outline processes systems resources place facilitate engagement school units within school faculty learners relevant external stakeholders . describe engagements encourage creation co creation communication relevant timely knowledge . 8.3 societal impact intellectual contributions table 8 1 ii describe exemplars scholarship positive societal impact component thought leadership .', 'chunkSeqNum': 5, 'nodeType': 'DATACHUNK', 'parentType': 'DOCUMENTATION', 'parentId': 201}}]\n",
      "[{'size(section_chunk_list)': 6}]\n",
      "[{'num_links_created': 6}]\n",
      "[{'num_links_created': 1}]\n",
      "[{'num_links_created': 8}]\n",
      "Initializing definition nodes for: \n",
      " Standard Num: 8 \n",
      " Standard Title:Impact of Scholarship \n",
      "[{'c': {'parentStandardNum': 8, 'standardTitle': 'Impact of Scholarship', 'nodeCat': 'AACSB', 'text': 'society context refers external stakeholders relevance business school given mission . examples include nonprofit private sector organizations business government community groups broader social economic business physical environments . external stakeholders broader environments may local regional national international scale . thought leadership evidenced business school recognized highly respected authority area areas expertise thus sought relevant stakeholders . aligned school mission', 'chunkSeqNum': 0, 'nodeType': 'DATACHUNK', 'parentType': 'DEFINITIONS', 'parentId': 208}}, {'c': {'parentStandardNum': 8, 'standardTitle': 'Impact of Scholarship', 'nodeCat': 'AACSB', 'text': 'national international scale . thought leadership evidenced business school recognized highly respected authority area areas expertise thus sought relevant stakeholders . aligned school mission stakeholders include learners business academics government nonprofits non governmental organizations broader society . predatory journals publishers defined entities prioritize self interest expense scholarship characterized false misleading information deviation best editorial publication practices', 'chunkSeqNum': 1, 'nodeType': 'DATACHUNK', 'parentType': 'DEFINITIONS', 'parentId': 208}}, {'c': {'parentStandardNum': 8, 'standardTitle': 'Impact of Scholarship', 'nodeCat': 'AACSB', 'text': 'broader society . predatory journals publishers defined entities prioritize self interest expense scholarship characterized false misleading information deviation best editorial publication practices lack transparency use aggressive indiscriminate solicitation practices . 18 definition adopted predatory journals definition defence . nature 2019 december 11 . retrieved https www.nature.com articles d41586 019 03759 intellectual contributions original works intended advance theory practice', 'chunkSeqNum': 2, 'nodeType': 'DATACHUNK', 'parentType': 'DEFINITIONS', 'parentId': 208}}, {'c': {'parentStandardNum': 8, 'standardTitle': 'Impact of Scholarship', 'nodeCat': 'AACSB', 'text': 'predatory journals definition defence . nature 2019 december 11 . retrieved https www.nature.com articles d41586 019 03759 intellectual contributions original works intended advance theory practice teaching business . intellectual contributions may potential address issues importance broader society . contributions scholarly sense based generally accepted academic research principles disseminated appropriate audiences . school portfolio intellectual contributions may fall following categories', 'chunkSeqNum': 3, 'nodeType': 'DATACHUNK', 'parentType': 'DEFINITIONS', 'parentId': 208}}, {'c': {'parentStandardNum': 8, 'standardTitle': 'Impact of Scholarship', 'nodeCat': 'AACSB', 'text': '. contributions scholarly sense based generally accepted academic research principles disseminated appropriate audiences . school portfolio intellectual contributions may fall following categories basic discovery scholarship directed toward increasing knowledge base development theory . applied integrative application scholarship draws basic research uses accumulated theories knowledge methods techniques solve real world problems issues associated practice . teaching learning scholarship', 'chunkSeqNum': 4, 'nodeType': 'DATACHUNK', 'parentType': 'DEFINITIONS', 'parentId': 208}}, {'c': {'parentStandardNum': 8, 'standardTitle': 'Impact of Scholarship', 'nodeCat': 'AACSB', 'text': 'integrative application scholarship draws basic research uses accumulated theories knowledge methods techniques solve real world problems issues associated practice . teaching learning scholarship explores theory methods teaching advances new understandings insights content methods impact learning behavior . addition categorization intellectual contributions within portfolio basic applied teaching learning related schools characterize intellectual contributions according level peer expert', 'chunkSeqNum': 5, 'nodeType': 'DATACHUNK', 'parentType': 'DEFINITIONS', 'parentId': 208}}, {'c': {'parentStandardNum': 8, 'standardTitle': 'Impact of Scholarship', 'nodeCat': 'AACSB', 'text': 'behavior . addition categorization intellectual contributions within portfolio basic applied teaching learning related schools characterize intellectual contributions according level peer expert review occurred intellectual contributions appearing portfolio . purposes peer reviewed intellectual contributions subject scrutiny evaluation others recognized subject matter expertise field normally similar competence producing outputs . component separated three parts peer reviewed journal articles', 'chunkSeqNum': 6, 'nodeType': 'DATACHUNK', 'parentType': 'DEFINITIONS', 'parentId': 208}}, {'c': {'parentStandardNum': 8, 'standardTitle': 'Impact of Scholarship', 'nodeCat': 'AACSB', 'text': 'subject scrutiny evaluation others recognized subject matter expertise field normally similar competence producing outputs . component separated three parts peer reviewed journal articles scholarly publications submitted critique evaluation one academics expertise discipline methodology subject matter . publications law reviews may included category . peer editorial reviewed intellectual contributions include forms quality assurance either peers subject matter experts recognized particular', 'chunkSeqNum': 7, 'nodeType': 'DATACHUNK', 'parentType': 'DEFINITIONS', 'parentId': 208}}, {'c': {'parentStandardNum': 8, 'standardTitle': 'Impact of Scholarship', 'nodeCat': 'AACSB', 'text': 'matter . publications law reviews may included category . peer editorial reviewed intellectual contributions include forms quality assurance either peers subject matter experts recognized particular practical academic expertise field . examples include papers submitted academic conference undergo peer review selected conference presentation publication conference proceedings . articles published practitioner industry publications included category sufficiently reviewed subject matter experts .', 'chunkSeqNum': 8, 'nodeType': 'DATACHUNK', 'parentType': 'DEFINITIONS', 'parentId': 208}}, {'c': {'parentStandardNum': 8, 'standardTitle': 'Impact of Scholarship', 'nodeCat': 'AACSB', 'text': 'review selected conference presentation publication conference proceedings . articles published practitioner industry publications included category sufficiently reviewed subject matter experts . intellectual contributions journal articles papers sufficiently influential public policy government industry included category sufficiently reviewed subject matter experts . simply writing paper output consulting work render appropriate category . review validation subject matter experts determining', 'chunkSeqNum': 9, 'nodeType': 'DATACHUNK', 'parentType': 'DEFINITIONS', 'parentId': 208}}, {'c': {'parentStandardNum': 8, 'standardTitle': 'Impact of Scholarship', 'nodeCat': 'AACSB', 'text': 'included category sufficiently reviewed subject matter experts . simply writing paper output consulting work render appropriate category . review validation subject matter experts determining factor whether intellectual contribution belongs category third category intellectual contributions . intellectual contributions include outputs validated peers recognized subject matter experts . contributions include wide variety outputs presentations academic professional meetings research workshops led', 'chunkSeqNum': 10, 'nodeType': 'DATACHUNK', 'parentType': 'DEFINITIONS', 'parentId': 208}}, {'c': {'parentStandardNum': 8, 'standardTitle': 'Impact of Scholarship', 'nodeCat': 'AACSB', 'text': 'contributions include outputs validated peers recognized subject matter experts . contributions include wide variety outputs presentations academic professional meetings research workshops led invited talks etc .', 'chunkSeqNum': 11, 'nodeType': 'DATACHUNK', 'parentType': 'DEFINITIONS', 'parentId': 208}}]\n",
      "[{'size(section_chunk_list)': 12}]\n",
      "[{'num_links_created': 12}]\n",
      "[{'num_links_created': 1}]\n",
      "[{'num_links_created': 8}]\n",
      "Initializing standard nodes for: \n",
      " Standard Num: 9 \n",
      " Standard Title:Engagement and Societal Impact \n",
      "[{'c': {'parentStandardNum': 9, 'standardTitle': 'Engagement and Societal Impact', 'nodeCat': 'AACSB', 'text': 'standard 9 engagement societal impact 9.1 school demonstrates positive societal impact internal external initiatives activities consistent school mission strategies expected outcomes .', 'chunkSeqNum': 0, 'nodeType': 'DATACHUNK', 'parentType': 'STANDARD', 'parentId': 221}}]\n",
      "[{'size(section_chunk_list)': 1}]\n",
      "[{'num_links_created': 1}]\n",
      "[{'num_links_created': 1}]\n",
      "Initializing basis nodes for: \n",
      " Standard Num: 9 \n",
      " Standard Title:Engagement and Societal Impact \n",
      "[{'c': {'parentStandardNum': 9, 'standardTitle': 'Engagement and Societal Impact', 'nodeCat': 'AACSB', 'text': '9.1 positive societal impact school range engagements external stakeholders core activities align support mission strategies expected outcomes well aspiration positive impact society . activities initiatives internal external place contribute school meeting societal impact aspiration outlined standard 1. progress toward meeting school aspiration societal impact previous five years apparent plans advancing efforts next five years . time expected school activities societal impact generated', 'chunkSeqNum': 0, 'nodeType': 'DATACHUNK', 'parentType': 'BASIS', 'parentId': 223}}, {'c': {'parentStandardNum': 9, 'standardTitle': 'Engagement and Societal Impact', 'nodeCat': 'AACSB', 'text': 'standard 1. progress toward meeting school aspiration societal impact previous five years apparent plans advancing efforts next five years . time expected school activities societal impact generated increasing proportion school faculty learners organizational units . school evaluates societal impact consistent mission including identification aspiration area significant exemplars success .', 'chunkSeqNum': 1, 'nodeType': 'DATACHUNK', 'parentType': 'BASIS', 'parentId': 223}}]\n",
      "[{'size(section_chunk_list)': 2}]\n",
      "[{'num_links_created': 2}]\n",
      "[{'num_links_created': 1}]\n",
      "[{'num_links_created': 9}]\n",
      "Initializing documentation nodes for: \n",
      " Standard Num: 9 \n",
      " Standard Title:Engagement and Societal Impact \n",
      "[{'c': {'parentStandardNum': 9, 'standardTitle': 'Engagement and Societal Impact', 'nodeCat': 'AACSB', 'text': '9.1 positive societal impact outline major relationships external stakeholders school units within school faculty learners place rationale relationships intended outcomes . explain engagement business broader society aligns supports school mission strategies expected outcomes well aspiration positive societal impact . describe school aspiration societal impact explicitly outline measures intends measure progress area . include evaluation school societal impact recent accreditation cycle', 'chunkSeqNum': 0, 'nodeType': 'DATACHUNK', 'parentType': 'DOCUMENTATION', 'parentId': 226}}, {'c': {'parentStandardNum': 9, 'standardTitle': 'Engagement and Societal Impact', 'nodeCat': 'AACSB', 'text': 'positive societal impact . describe school aspiration societal impact explicitly outline measures intends measure progress area . include evaluation school societal impact recent accreditation cycle including identification aspiration area exemplars societal impact arising engagement non academic external stakeholders learners faculty teams centers supporting external communities enhancing practice business addressing real world problems improving society . include assessment effective school', 'chunkSeqNum': 1, 'nodeType': 'DATACHUNK', 'parentType': 'DOCUMENTATION', 'parentId': 226}}, {'c': {'parentStandardNum': 9, 'standardTitle': 'Engagement and Societal Impact', 'nodeCat': 'AACSB', 'text': 'external stakeholders learners faculty teams centers supporting external communities enhancing practice business addressing real world problems improving society . include assessment effective school toward desired impact plans activities next accreditation cycle . table 9 1 used school discretion categorize societal impact related outcomes including pertaining standards 1 4 8 9. optional table used table contents reflect outcomes impact activities initiatives opposed simple description', 'chunkSeqNum': 2, 'nodeType': 'DATACHUNK', 'parentType': 'DOCUMENTATION', 'parentId': 226}}, {'c': {'parentStandardNum': 9, 'standardTitle': 'Engagement and Societal Impact', 'nodeCat': 'AACSB', 'text': 'categorize societal impact related outcomes including pertaining standards 1 4 8 9. optional table used table contents reflect outcomes impact activities initiatives opposed simple description activities initiatives . outcomes impact activities paramount . school may use u.n. sustainable development goals label choice indicate chosen focus area .', 'chunkSeqNum': 3, 'nodeType': 'DATACHUNK', 'parentType': 'DOCUMENTATION', 'parentId': 226}}]\n",
      "[{'size(section_chunk_list)': 4}]\n",
      "[{'num_links_created': 4}]\n",
      "[{'num_links_created': 1}]\n",
      "[{'num_links_created': 9}]\n",
      "Initializing definition nodes for: \n",
      " Standard Num: 9 \n",
      " Standard Title:Engagement and Societal Impact \n",
      "[{'c': {'parentStandardNum': 9, 'standardTitle': 'Engagement and Societal Impact', 'nodeCat': 'AACSB', 'text': 'societal impact refers school makes positive impact betterment society identified school mission strategic plan . societal impact local regional national international level .', 'chunkSeqNum': 0, 'nodeType': 'DATACHUNK', 'parentType': 'DEFINITIONS', 'parentId': 1}}]\n",
      "[{'size(section_chunk_list)': 1}]\n",
      "[{'num_links_created': 1}]\n",
      "[{'num_links_created': 1}]\n",
      "[{'num_links_created': 9}]\n"
     ]
    }
   ],
   "source": [
    "#\n",
    "# LOAD STANDARDS TO DATABASE\n",
    "#\n",
    "\n",
    "\n",
    "import time\n",
    "\n",
    "for standard in json_file:\n",
    "    result = chunk_doc(standard)\n",
    "    process_standards_controller(standard,result)\n",
    "    time.sleep(1)\n"
   ]
  },
  {
   "cell_type": "code",
   "execution_count": 14,
   "metadata": {},
   "outputs": [
    {
     "name": "stdout",
     "output_type": "stream",
     "text": [
      "<class 'list'>\n"
     ]
    }
   ],
   "source": [
    "#\n",
    "# Load in in AACSB Sections (parent to standards)\n",
    "#\n",
    "\n",
    "path =r'..\\data\\aacsb\\processed\\SECTIONS_processed_2024-04-04_16-24-04.json'\n",
    "json_file_section = json.load(open(path))\n",
    "print(type(json_file_section)) #list"
   ]
  },
  {
   "cell_type": "code",
   "execution_count": 15,
   "metadata": {},
   "outputs": [
    {
     "data": {
      "text/plain": [
       "{'Section_Num': 1,\n",
       " 'Section_Title': 'Strategic Managemend and Innovation',\n",
       " 'Section_Description': 'strategic management encompasses entire range activities school engages fulfill mission informs school resource management . primary documentation strategic plan accredited schools expected principal artifact peer review team examine . strategic plan provides basis composition school intellectual contribution portfolio identification peer groups school aspirations . strategic plan identifies school mission strategic initiatives goals objectives tactics metrics success created input key stakeholders . ensuring financial vitality operational strategic perspective also critical part strategic management . additionally important component aacsb accredited institution school contribute meaningfully connecting business education business practice fostering promoting societal impact consistent aacsb vision . section provides standards guide business schools process meaningful strategic management including standards around creation maintenance strategic plan management resources ensuring overall financial health accredited school unit .'}"
      ]
     },
     "execution_count": 15,
     "metadata": {},
     "output_type": "execute_result"
    }
   ],
   "source": [
    "section_1 = json_file_section[0]\n",
    "section_1\n"
   ]
  },
  {
   "cell_type": "code",
   "execution_count": 58,
   "metadata": {},
   "outputs": [],
   "source": [
    "#\n",
    "# Section Queries\n",
    "#\n",
    "\n",
    "\n",
    "section_query = \"\"\"\n",
    "MERGE(s:Section {sectionNum: $sectionsIn.Section_Num})\n",
    "    ON CREATE SET \n",
    "        s.title =  $sectionsIn.Section_Title,\n",
    "        s.nodeType = 'SECTION', \n",
    "        s.nodeCat = 'AACSB',\n",
    "        s.source = 'https://www.aacsb.edu/educators/accreditation/business-accreditation/aacsb-business-accreditation-standards',\n",
    "        s.year = 2020\n",
    "RETURN s, ID(s) as elementId\n",
    "\"\"\"\n",
    "\n",
    "section_description_query =\"\"\"\n",
    "MERGE(c:Chunk {sectionNum: $sectionsIn.Section_Num})\n",
    "    ON CREATE SET\n",
    "        c.title = $sectionsIn.Section_Title,\n",
    "        c.text = $sectionsIn.Section_Description,\n",
    "        c.nodeType = 'SECTION_DESC',\n",
    "        c.nodeCat = 'AACSB'\n",
    "RETURN c, ID(c) as elementId\n",
    "\n",
    "\"\"\"\n",
    "\n",
    "link_to_parent_section_query=\"\"\" \n",
    "MATCH (c:Chunk),(s:Section)\n",
    "WHERE c.sectionNum = s.sectionNum\n",
    "    AND c.nodeType = 'SECTION_DESC'\n",
    "    AND s.nodeType = 'SECTION'\n",
    "MERGE (c)-[newRelationship: DESCIBES]->(s)\n",
    "RETURN count(newRelationship) AS num_links_created\n",
    "\"\"\"\n",
    "\n",
    "link_standards_to_parent_sections_query=\"\"\" \n",
    "MATCH (s: Standard), (p: Section)\n",
    "WHERE s.parentSectionNum = p.sectionNum\n",
    "    AND s.nodeCat = 'AACSB'\n",
    "    AND p.nodeCat = 'AACSB'\n",
    "MERGE (s)-[newRelationship: BELONGS_TO]->(p)\n",
    "RETURN count(newRelationship) AS num_links_created\n",
    "\"\"\"\n",
    "\n",
    "\n",
    "link_sections_to_aacsb_root=\"\"\"\n",
    "MATCH (s: Section), (r:Root)\n",
    "WHERE s.nodeCat = r.nodeCat\n",
    "    AND r.nodeType = 'ROOT'\n",
    "    AND r.nodeCat = 'AACSB'\n",
    "MERGE (s)-[newRelationship: SECTION_OF]->(r)\n",
    "RETURN count(newRelationship) AS num_links_created\n",
    "\"\"\""
   ]
  },
  {
   "cell_type": "code",
   "execution_count": 54,
   "metadata": {},
   "outputs": [],
   "source": [
    "#\n",
    "# Create Sections and Section Desctiption Nodes\n",
    "#\n",
    "\n",
    "def build_section_nodes(section):\n",
    "    print(f\"Initializing section nodes for: \\n Section Num: {section['Section_Num']} \\n Section Title:{section['Section_Title']} \")\n",
    "\n",
    "\n",
    "    try:\n",
    "        graphDB.query(\"\"\"\n",
    "            CREATE CONSTRAINT unique_node IF NOT EXISTS \n",
    "            FOR (s:Session) REQUIRE s.sectionNum IS UNIQUE\n",
    "            \"\"\")\n",
    "\n",
    "        graphDB.query(section_query,\n",
    "                    params ={\n",
    "                        'sectionsIn': section\n",
    "                    })\n",
    "\n",
    "        graphDB.query(section_description_query,\n",
    "                    params ={\n",
    "                        'sectionsIn': section\n",
    "                    })\n",
    "    except Exception as e:\n",
    "        raise e\n",
    "\n",
    "#\n",
    "# Link Sections and Section Desc Nodes\n",
    "#\n",
    "def link_section_and_desc_nodes():\n",
    "    try:\n",
    "        return graphDB.query(link_to_parent_section_query)\n",
    "    except Exception as e:\n",
    "        raise e\n",
    "\n",
    "\n",
    "\n",
    "#\n",
    "# Link Standards to Sections\n",
    "#\n",
    "\n",
    "def link_standards_to_sections():\n",
    "    try:\n",
    "        return graphDB.query(link_standards_to_parent_sections_query)\n",
    "    except Exception as e:\n",
    "        raise e\n",
    "\n",
    "\n",
    "#\n",
    "# Link Sections to Root AACSB node\n",
    "#\n",
    "\n",
    "def link_sections_to_AACSB_root():\n",
    "    try:\n",
    "        return graphDB.query(link_sections_to_aacsb_root)\n",
    "    except Exception as e:\n",
    "        raise e\n",
    "    \n"
   ]
  },
  {
   "cell_type": "code",
   "execution_count": 39,
   "metadata": {},
   "outputs": [
    {
     "name": "stdout",
     "output_type": "stream",
     "text": [
      "Initializing section nodes for: \n",
      " Section Num: 1 \n",
      " Section Title:Strategic Managemend and Innovation \n",
      "Initializing section nodes for: \n",
      " Section Num: 2 \n",
      " Section Title:Learner Success \n",
      "Initializing section nodes for: \n",
      " Section Num: 3 \n",
      " Section Title:Though Leadership, Engagement, and Societal Impact \n"
     ]
    }
   ],
   "source": [
    "for section in json_file_section:\n",
    "    build_section_nodes(section)"
   ]
  },
  {
   "cell_type": "code",
   "execution_count": 40,
   "metadata": {},
   "outputs": [
    {
     "data": {
      "text/plain": [
       "[{'num_links_created': 3}]"
      ]
     },
     "execution_count": 40,
     "metadata": {},
     "output_type": "execute_result"
    }
   ],
   "source": [
    "link_section_and_desc_nodes()"
   ]
  },
  {
   "cell_type": "code",
   "execution_count": 45,
   "metadata": {},
   "outputs": [
    {
     "data": {
      "text/plain": [
       "[{'num_links_created': 9}]"
      ]
     },
     "execution_count": 45,
     "metadata": {},
     "output_type": "execute_result"
    }
   ],
   "source": [
    "link_standards_to_sections()"
   ]
  },
  {
   "cell_type": "code",
   "execution_count": 57,
   "metadata": {},
   "outputs": [
    {
     "data": {
      "text/plain": [
       "[{'num_links_created': 3}]"
      ]
     },
     "execution_count": 57,
     "metadata": {},
     "output_type": "execute_result"
    }
   ],
   "source": [
    "link_sections_to_AACSB_root()"
   ]
  },
  {
   "cell_type": "code",
   "execution_count": 49,
   "metadata": {},
   "outputs": [],
   "source": [
    "#\n",
    "# Create vector index \n",
    "#\n",
    "\n",
    "from langchain_community.vectorstores import Neo4jVector\n",
    "\n",
    "# vector_index_query = \"\"\"\n",
    "#   CREATE VECTOR INDEX `accreditation_chunks` IF NOT EXISTS\n",
    "#   FOR (c:Chunk) ON (c.textEmbedding) \n",
    "#   OPTIONS { indexConfig: {\n",
    "#     `vector.dimensions`: 1536,\n",
    "#     `vector.similarity_function`: 'cosine'}}\n",
    "# \"\"\"\n",
    "\n",
    "\n",
    "vector_index_query=\"\"\" \n",
    "CALL db.index.vector.createNodeIndex(\n",
    "  'accreditation-index',\n",
    "  'Chunk',\n",
    "  'embedding',\n",
    "   1536,\n",
    "  'cosine'\n",
    ")\n",
    "\"\"\""
   ]
  },
  {
   "cell_type": "code",
   "execution_count": 50,
   "metadata": {},
   "outputs": [
    {
     "data": {
      "text/plain": [
       "[]"
      ]
     },
     "execution_count": 50,
     "metadata": {},
     "output_type": "execute_result"
    }
   ],
   "source": [
    "graphDB.query(vector_index_query)"
   ]
  },
  {
   "cell_type": "code",
   "execution_count": 51,
   "metadata": {},
   "outputs": [
    {
     "data": {
      "text/plain": [
       "[{'id': 5,\n",
       "  'name': 'accreditation-index',\n",
       "  'state': 'ONLINE',\n",
       "  'populationPercent': 100.0,\n",
       "  'type': 'VECTOR',\n",
       "  'entityType': 'NODE',\n",
       "  'labelsOrTypes': ['Chunk'],\n",
       "  'properties': ['embedding'],\n",
       "  'indexProvider': 'vector-1.0',\n",
       "  'owningConstraint': None,\n",
       "  'lastRead': None,\n",
       "  'readCount': 0},\n",
       " {'id': 1,\n",
       "  'name': 'index_343aff4e',\n",
       "  'state': 'ONLINE',\n",
       "  'populationPercent': 100.0,\n",
       "  'type': 'LOOKUP',\n",
       "  'entityType': 'NODE',\n",
       "  'labelsOrTypes': None,\n",
       "  'properties': None,\n",
       "  'indexProvider': 'token-lookup-1.0',\n",
       "  'owningConstraint': None,\n",
       "  'lastRead': neo4j.time.DateTime(2024, 4, 10, 5, 18, 1, 398000000, tzinfo=<UTC>),\n",
       "  'readCount': 2565},\n",
       " {'id': 2,\n",
       "  'name': 'index_f7700477',\n",
       "  'state': 'ONLINE',\n",
       "  'populationPercent': 100.0,\n",
       "  'type': 'LOOKUP',\n",
       "  'entityType': 'RELATIONSHIP',\n",
       "  'labelsOrTypes': None,\n",
       "  'properties': None,\n",
       "  'indexProvider': 'token-lookup-1.0',\n",
       "  'owningConstraint': None,\n",
       "  'lastRead': None,\n",
       "  'readCount': 0},\n",
       " {'id': 3,\n",
       "  'name': 'unique_node',\n",
       "  'state': 'ONLINE',\n",
       "  'populationPercent': 100.0,\n",
       "  'type': 'RANGE',\n",
       "  'entityType': 'NODE',\n",
       "  'labelsOrTypes': ['Session'],\n",
       "  'properties': ['sectionNum'],\n",
       "  'indexProvider': 'range-1.0',\n",
       "  'owningConstraint': 'unique_node',\n",
       "  'lastRead': None,\n",
       "  'readCount': 0}]"
      ]
     },
     "execution_count": 51,
     "metadata": {},
     "output_type": "execute_result"
    }
   ],
   "source": [
    "graphDB.query(\"SHOW INDEXES\")"
   ]
  },
  {
   "cell_type": "code",
   "execution_count": 64,
   "metadata": {},
   "outputs": [],
   "source": [
    "generate_embedding_query = \"\"\"\n",
    "    MATCH (c:Chunk)\n",
    "    WITH c, genai.vector.encode(\n",
    "      c.text, \n",
    "      \"OpenAI\", {\n",
    "      token: $openAIkey\n",
    "      }) AS vector\n",
    "    CALL db.create.setVectorProperty(c, \"textEmbedding\", vector) YIELD node\n",
    "    RETURN node\n",
    "    \"\"\""
   ]
  },
  {
   "cell_type": "code",
   "execution_count": 65,
   "metadata": {},
   "outputs": [
    {
     "ename": "ValueError",
     "evalue": "Generated Cypher Statement is not valid\n{code: Neo.ClientError.Statement.SyntaxError} {message: Unknown function 'genai.vector.encode' (line 3, column 17 (offset: 33))\r\n\"    WITH c, genai.vector.encode(\"\r\n             ^}",
     "output_type": "error",
     "traceback": [
      "\u001b[1;31m---------------------------------------------------------------------------\u001b[0m",
      "\u001b[1;31mCypherSyntaxError\u001b[0m                         Traceback (most recent call last)",
      "File \u001b[1;32mc:\\Users\\Candace Edwards\\capstone\\advRAG\\myenv\\lib\\site-packages\\langchain_community\\graphs\\neo4j_graph.py:246\u001b[0m, in \u001b[0;36mNeo4jGraph.query\u001b[1;34m(self, query, params)\u001b[0m\n\u001b[0;32m    245\u001b[0m \u001b[38;5;28;01mtry\u001b[39;00m:\n\u001b[1;32m--> 246\u001b[0m     data \u001b[38;5;241m=\u001b[39m \u001b[43msession\u001b[49m\u001b[38;5;241;43m.\u001b[39;49m\u001b[43mrun\u001b[49m\u001b[43m(\u001b[49m\u001b[43mQuery\u001b[49m\u001b[43m(\u001b[49m\u001b[43mtext\u001b[49m\u001b[38;5;241;43m=\u001b[39;49m\u001b[43mquery\u001b[49m\u001b[43m,\u001b[49m\u001b[43m \u001b[49m\u001b[43mtimeout\u001b[49m\u001b[38;5;241;43m=\u001b[39;49m\u001b[38;5;28;43mself\u001b[39;49m\u001b[38;5;241;43m.\u001b[39;49m\u001b[43mtimeout\u001b[49m\u001b[43m)\u001b[49m\u001b[43m,\u001b[49m\u001b[43m \u001b[49m\u001b[43mparams\u001b[49m\u001b[43m)\u001b[49m\n\u001b[0;32m    247\u001b[0m     json_data \u001b[38;5;241m=\u001b[39m [r\u001b[38;5;241m.\u001b[39mdata() \u001b[38;5;28;01mfor\u001b[39;00m r \u001b[38;5;129;01min\u001b[39;00m data]\n",
      "File \u001b[1;32mc:\\Users\\Candace Edwards\\capstone\\advRAG\\myenv\\lib\\site-packages\\neo4j\\_sync\\work\\session.py:313\u001b[0m, in \u001b[0;36mSession.run\u001b[1;34m(self, query, parameters, **kwargs)\u001b[0m\n\u001b[0;32m    312\u001b[0m parameters \u001b[38;5;241m=\u001b[39m \u001b[38;5;28mdict\u001b[39m(parameters \u001b[38;5;129;01mor\u001b[39;00m {}, \u001b[38;5;241m*\u001b[39m\u001b[38;5;241m*\u001b[39mkwargs)\n\u001b[1;32m--> 313\u001b[0m \u001b[38;5;28;43mself\u001b[39;49m\u001b[38;5;241;43m.\u001b[39;49m\u001b[43m_auto_result\u001b[49m\u001b[38;5;241;43m.\u001b[39;49m\u001b[43m_run\u001b[49m\u001b[43m(\u001b[49m\n\u001b[0;32m    314\u001b[0m \u001b[43m    \u001b[49m\u001b[43mquery\u001b[49m\u001b[43m,\u001b[49m\u001b[43m \u001b[49m\u001b[43mparameters\u001b[49m\u001b[43m,\u001b[49m\u001b[43m \u001b[49m\u001b[38;5;28;43mself\u001b[39;49m\u001b[38;5;241;43m.\u001b[39;49m\u001b[43m_config\u001b[49m\u001b[38;5;241;43m.\u001b[39;49m\u001b[43mdatabase\u001b[49m\u001b[43m,\u001b[49m\n\u001b[0;32m    315\u001b[0m \u001b[43m    \u001b[49m\u001b[38;5;28;43mself\u001b[39;49m\u001b[38;5;241;43m.\u001b[39;49m\u001b[43m_config\u001b[49m\u001b[38;5;241;43m.\u001b[39;49m\u001b[43mimpersonated_user\u001b[49m\u001b[43m,\u001b[49m\u001b[43m \u001b[49m\u001b[38;5;28;43mself\u001b[39;49m\u001b[38;5;241;43m.\u001b[39;49m\u001b[43m_config\u001b[49m\u001b[38;5;241;43m.\u001b[39;49m\u001b[43mdefault_access_mode\u001b[49m\u001b[43m,\u001b[49m\n\u001b[0;32m    316\u001b[0m \u001b[43m    \u001b[49m\u001b[43mbookmarks\u001b[49m\u001b[43m,\u001b[49m\u001b[43m \u001b[49m\u001b[38;5;28;43mself\u001b[39;49m\u001b[38;5;241;43m.\u001b[39;49m\u001b[43m_config\u001b[49m\u001b[38;5;241;43m.\u001b[39;49m\u001b[43mnotifications_min_severity\u001b[49m\u001b[43m,\u001b[49m\n\u001b[0;32m    317\u001b[0m \u001b[43m    \u001b[49m\u001b[38;5;28;43mself\u001b[39;49m\u001b[38;5;241;43m.\u001b[39;49m\u001b[43m_config\u001b[49m\u001b[38;5;241;43m.\u001b[39;49m\u001b[43mnotifications_disabled_categories\u001b[49m\u001b[43m,\u001b[49m\n\u001b[0;32m    318\u001b[0m \u001b[43m\u001b[49m\u001b[43m)\u001b[49m\n\u001b[0;32m    320\u001b[0m \u001b[38;5;28;01mreturn\u001b[39;00m \u001b[38;5;28mself\u001b[39m\u001b[38;5;241m.\u001b[39m_auto_result\n",
      "File \u001b[1;32mc:\\Users\\Candace Edwards\\capstone\\advRAG\\myenv\\lib\\site-packages\\neo4j\\_sync\\work\\result.py:181\u001b[0m, in \u001b[0;36mResult._run\u001b[1;34m(self, query, parameters, db, imp_user, access_mode, bookmarks, notifications_min_severity, notifications_disabled_categories)\u001b[0m\n\u001b[0;32m    180\u001b[0m \u001b[38;5;28mself\u001b[39m\u001b[38;5;241m.\u001b[39m_connection\u001b[38;5;241m.\u001b[39msend_all()\n\u001b[1;32m--> 181\u001b[0m \u001b[38;5;28;43mself\u001b[39;49m\u001b[38;5;241;43m.\u001b[39;49m\u001b[43m_attach\u001b[49m\u001b[43m(\u001b[49m\u001b[43m)\u001b[49m\n",
      "File \u001b[1;32mc:\\Users\\Candace Edwards\\capstone\\advRAG\\myenv\\lib\\site-packages\\neo4j\\_sync\\work\\result.py:301\u001b[0m, in \u001b[0;36mResult._attach\u001b[1;34m(self)\u001b[0m\n\u001b[0;32m    300\u001b[0m \u001b[38;5;28;01mwhile\u001b[39;00m \u001b[38;5;28mself\u001b[39m\u001b[38;5;241m.\u001b[39m_attached \u001b[38;5;129;01mis\u001b[39;00m \u001b[38;5;28;01mFalse\u001b[39;00m:\n\u001b[1;32m--> 301\u001b[0m     \u001b[38;5;28;43mself\u001b[39;49m\u001b[38;5;241;43m.\u001b[39;49m\u001b[43m_connection\u001b[49m\u001b[38;5;241;43m.\u001b[39;49m\u001b[43mfetch_message\u001b[49m\u001b[43m(\u001b[49m\u001b[43m)\u001b[49m\n",
      "File \u001b[1;32mc:\\Users\\Candace Edwards\\capstone\\advRAG\\myenv\\lib\\site-packages\\neo4j\\_sync\\io\\_common.py:178\u001b[0m, in \u001b[0;36mConnectionErrorHandler.__getattr__.<locals>.outer.<locals>.inner\u001b[1;34m(*args, **kwargs)\u001b[0m\n\u001b[0;32m    177\u001b[0m \u001b[38;5;28;01mtry\u001b[39;00m:\n\u001b[1;32m--> 178\u001b[0m     func(\u001b[38;5;241m*\u001b[39margs, \u001b[38;5;241m*\u001b[39m\u001b[38;5;241m*\u001b[39mkwargs)\n\u001b[0;32m    179\u001b[0m \u001b[38;5;28;01mexcept\u001b[39;00m (Neo4jError, ServiceUnavailable, SessionExpired) \u001b[38;5;28;01mas\u001b[39;00m exc:\n",
      "File \u001b[1;32mc:\\Users\\Candace Edwards\\capstone\\advRAG\\myenv\\lib\\site-packages\\neo4j\\_sync\\io\\_bolt.py:850\u001b[0m, in \u001b[0;36mBolt.fetch_message\u001b[1;34m(self)\u001b[0m\n\u001b[0;32m    847\u001b[0m tag, fields \u001b[38;5;241m=\u001b[39m \u001b[38;5;28mself\u001b[39m\u001b[38;5;241m.\u001b[39minbox\u001b[38;5;241m.\u001b[39mpop(\n\u001b[0;32m    848\u001b[0m     hydration_hooks\u001b[38;5;241m=\u001b[39m\u001b[38;5;28mself\u001b[39m\u001b[38;5;241m.\u001b[39mresponses[\u001b[38;5;241m0\u001b[39m]\u001b[38;5;241m.\u001b[39mhydration_hooks\n\u001b[0;32m    849\u001b[0m )\n\u001b[1;32m--> 850\u001b[0m res \u001b[38;5;241m=\u001b[39m \u001b[38;5;28;43mself\u001b[39;49m\u001b[38;5;241;43m.\u001b[39;49m\u001b[43m_process_message\u001b[49m\u001b[43m(\u001b[49m\u001b[43mtag\u001b[49m\u001b[43m,\u001b[49m\u001b[43m \u001b[49m\u001b[43mfields\u001b[49m\u001b[43m)\u001b[49m\n\u001b[0;32m    851\u001b[0m \u001b[38;5;28mself\u001b[39m\u001b[38;5;241m.\u001b[39midle_since \u001b[38;5;241m=\u001b[39m monotonic()\n",
      "File \u001b[1;32mc:\\Users\\Candace Edwards\\capstone\\advRAG\\myenv\\lib\\site-packages\\neo4j\\_sync\\io\\_bolt5.py:369\u001b[0m, in \u001b[0;36mBolt5x0._process_message\u001b[1;34m(self, tag, fields)\u001b[0m\n\u001b[0;32m    368\u001b[0m \u001b[38;5;28;01mtry\u001b[39;00m:\n\u001b[1;32m--> 369\u001b[0m     \u001b[43mresponse\u001b[49m\u001b[38;5;241;43m.\u001b[39;49m\u001b[43mon_failure\u001b[49m\u001b[43m(\u001b[49m\u001b[43msummary_metadata\u001b[49m\u001b[43m \u001b[49m\u001b[38;5;129;43;01mor\u001b[39;49;00m\u001b[43m \u001b[49m\u001b[43m{\u001b[49m\u001b[43m}\u001b[49m\u001b[43m)\u001b[49m\n\u001b[0;32m    370\u001b[0m \u001b[38;5;28;01mexcept\u001b[39;00m (ServiceUnavailable, DatabaseUnavailable):\n",
      "File \u001b[1;32mc:\\Users\\Candace Edwards\\capstone\\advRAG\\myenv\\lib\\site-packages\\neo4j\\_sync\\io\\_common.py:245\u001b[0m, in \u001b[0;36mResponse.on_failure\u001b[1;34m(self, metadata)\u001b[0m\n\u001b[0;32m    244\u001b[0m Util\u001b[38;5;241m.\u001b[39mcallback(handler)\n\u001b[1;32m--> 245\u001b[0m \u001b[38;5;28;01mraise\u001b[39;00m Neo4jError\u001b[38;5;241m.\u001b[39mhydrate(\u001b[38;5;241m*\u001b[39m\u001b[38;5;241m*\u001b[39mmetadata)\n",
      "\u001b[1;31mCypherSyntaxError\u001b[0m: {code: Neo.ClientError.Statement.SyntaxError} {message: Unknown function 'genai.vector.encode' (line 3, column 17 (offset: 33))\r\n\"    WITH c, genai.vector.encode(\"\r\n             ^}",
      "\nDuring handling of the above exception, another exception occurred:\n",
      "\u001b[1;31mValueError\u001b[0m                                Traceback (most recent call last)",
      "Cell \u001b[1;32mIn[65], line 1\u001b[0m\n\u001b[1;32m----> 1\u001b[0m \u001b[43mgraphDB\u001b[49m\u001b[38;5;241;43m.\u001b[39;49m\u001b[43mquery\u001b[49m\u001b[43m(\u001b[49m\u001b[43mgenerate_embedding_query\u001b[49m\u001b[43m,\u001b[49m\n\u001b[0;32m      2\u001b[0m \u001b[43m              \u001b[49m\u001b[43mparams\u001b[49m\u001b[43m \u001b[49m\u001b[38;5;241;43m=\u001b[39;49m\u001b[43m \u001b[49m\u001b[43m{\u001b[49m\n\u001b[0;32m      3\u001b[0m \u001b[43m                  \u001b[49m\u001b[38;5;124;43m'\u001b[39;49m\u001b[38;5;124;43mopenAIkey\u001b[39;49m\u001b[38;5;124;43m'\u001b[39;49m\u001b[43m:\u001b[49m\u001b[43m \u001b[49m\u001b[43mos\u001b[49m\u001b[38;5;241;43m.\u001b[39;49m\u001b[43mgetenv\u001b[49m\u001b[43m(\u001b[49m\u001b[38;5;124;43m\"\u001b[39;49m\u001b[38;5;124;43mOPENAIKEY\u001b[39;49m\u001b[38;5;124;43m\"\u001b[39;49m\u001b[43m)\u001b[49m\n\u001b[0;32m      4\u001b[0m \u001b[43m              \u001b[49m\u001b[43m}\u001b[49m\u001b[43m)\u001b[49m\n",
      "File \u001b[1;32mc:\\Users\\Candace Edwards\\capstone\\advRAG\\myenv\\lib\\site-packages\\langchain_community\\graphs\\neo4j_graph.py:252\u001b[0m, in \u001b[0;36mNeo4jGraph.query\u001b[1;34m(self, query, params)\u001b[0m\n\u001b[0;32m    250\u001b[0m     \u001b[38;5;28;01mreturn\u001b[39;00m json_data\n\u001b[0;32m    251\u001b[0m \u001b[38;5;28;01mexcept\u001b[39;00m CypherSyntaxError \u001b[38;5;28;01mas\u001b[39;00m e:\n\u001b[1;32m--> 252\u001b[0m     \u001b[38;5;28;01mraise\u001b[39;00m \u001b[38;5;167;01mValueError\u001b[39;00m(\u001b[38;5;124mf\u001b[39m\u001b[38;5;124m\"\u001b[39m\u001b[38;5;124mGenerated Cypher Statement is not valid\u001b[39m\u001b[38;5;130;01m\\n\u001b[39;00m\u001b[38;5;132;01m{\u001b[39;00me\u001b[38;5;132;01m}\u001b[39;00m\u001b[38;5;124m\"\u001b[39m)\n",
      "\u001b[1;31mValueError\u001b[0m: Generated Cypher Statement is not valid\n{code: Neo.ClientError.Statement.SyntaxError} {message: Unknown function 'genai.vector.encode' (line 3, column 17 (offset: 33))\r\n\"    WITH c, genai.vector.encode(\"\r\n             ^}"
     ]
    }
   ],
   "source": [
    "# graphDB.query(generate_embedding_query,\n",
    "#               params = {\n",
    "#                   'openAIkey': os.getenv(\"OPENAIKEY\")\n",
    "#               })"
   ]
  },
  {
   "cell_type": "code",
   "execution_count": 74,
   "metadata": {},
   "outputs": [],
   "source": [
    "#graphDB.query(\"SHOW PROCEDURES\")"
   ]
  },
  {
   "cell_type": "code",
   "execution_count": null,
   "metadata": {},
   "outputs": [],
   "source": [
    "#\n",
    "#  TODO: Query chunks, create embedding and then append\n",
    "#\n"
   ]
  },
  {
   "cell_type": "code",
   "execution_count": 71,
   "metadata": {},
   "outputs": [],
   "source": [
    "chunks_query = \"\"\"\n",
    "MATCH (c:Chunk)\n",
    "RETURN elementID(c) AS nodeId, c.text AS text\n",
    "\"\"\""
   ]
  },
  {
   "cell_type": "code",
   "execution_count": 72,
   "metadata": {},
   "outputs": [],
   "source": [
    "new_result =graphDB.query(chunks_query)"
   ]
  },
  {
   "cell_type": "code",
   "execution_count": 73,
   "metadata": {},
   "outputs": [
    {
     "name": "stdout",
     "output_type": "stream",
     "text": [
      "195\n",
      "[{'nodeId': '4:5b5cb85e-c914-44d8-85f7-ef03ba90eb99:2', 'text': 'societal impact refers school makes positive impact betterment society identified school mission strategic plan . societal impact local regional national international level .'}, {'nodeId': '4:5b5cb85e-c914-44d8-85f7-ef03ba90eb99:3', 'text': 'standard 1 strategic planning1.1 school maintains well documented strategic plan developed robust collaborative planning process involving key stakeholder input informs school resource allocation priorities . strategic plan also articulate clear focused mission school . 1.2 school regularly monitors progress planned strategies expected outcomes communicates progress key stakeholders . part monitoring school conducts formal risk analysis plans mitigate identified major risks . 1.3 school carries'}, {'nodeId': '4:5b5cb85e-c914-44d8-85f7-ef03ba90eb99:4', 'text': 'progress planned strategies expected outcomes communicates progress key stakeholders . part monitoring school conducts formal risk analysis plans mitigate identified major risks . 1.3 school carries mission embraces innovation key element continuous improvement . 1.4 school demonstrates commitment positive societal impact expressed supported focused mission specifies intends achieve impact .'}, {'nodeId': '4:5b5cb85e-c914-44d8-85f7-ef03ba90eb99:6', 'text': '1.1 maintenance strategic plan school mission identifies attributes focus areas priorities indicate school positions among community business schools . mission informs strategic plan reviewed updated periodically alignment school normal planning cycle . mission statement articulated part strategic plan . strategic plan developed refined engagement key internal external stakeholders . strategic plan available review peer review team demonstrates commitment continuous improvement regular review'}, {'nodeId': '4:5b5cb85e-c914-44d8-85f7-ef03ba90eb99:7', 'text': 'plan . strategic plan developed refined engagement key internal external stakeholders . strategic plan available review peer review team demonstrates commitment continuous improvement regular review revision key stakeholder input . school strategic plan defines communities learners school intends serve including level degree programs school offers . school also identifies non degree programs corresponding communities intends serve . plan identifies strategies maintenance high quality learner'}, {'nodeId': '4:5b5cb85e-c914-44d8-85f7-ef03ba90eb99:8', 'text': 'serve including level degree programs school offers . school also identifies non degree programs corresponding communities intends serve . plan identifies strategies maintenance high quality learner experiences including current relevant curriculum strategies recruitment retention qualified faculty . school strategic plan clearly identifies type intellectual contributions expects faculty produce influence business education connect practice business consistent school stated mission . school'}, {'nodeId': '4:5b5cb85e-c914-44d8-85f7-ef03ba90eb99:9', 'text': '. school strategic plan clearly identifies type intellectual contributions expects faculty produce influence business education connect practice business consistent school stated mission . school strategic plan identifies strategies school intends provide thought leadership within intellectual contributions . 1.2 monitoring strategic plan school transparent conveyance strategic plan regularly reports progress toward achieving mission strategies expected outcomes internal external key'}, {'nodeId': '4:5b5cb85e-c914-44d8-85f7-ef03ba90eb99:10', 'text': 'contributions . 1.2 monitoring strategic plan school transparent conveyance strategic plan regularly reports progress toward achieving mission strategies expected outcomes internal external key stakeholders . school maintain ongoing risk analysis identifying potential risks could significantly impair ability fulfill school mission well contingency plan mitigating risks . 1.3 innovation strategic plan identifies school innovative thought action . 1.4 societal impact school strategic plan clearly'}, {'nodeId': '4:5b5cb85e-c914-44d8-85f7-ef03ba90eb99:11', 'text': 'ability fulfill school mission well contingency plan mitigating risks . 1.3 innovation strategic plan identifies school innovative thought action . 1.4 societal impact school strategic plan clearly identifies strategies including allocation human financial capital make positive impact society practice business diversity people ideas success graduates .'}, {'nodeId': '4:5b5cb85e-c914-44d8-85f7-ef03ba90eb99:13', 'text': '1.1 maintenance strategic plan provide strategic plan business unit encompasses strategies expected outcomes pursued school consistent school mission . strategic plan include description mission strategies expected outcomes including mission encapsulated supporting statements . describe processes creating revising strategic plan including description internal external key stakeholders inform plan kept abreast progress toward meeting goals plan . include plan strategies promoting high quality'}, {'nodeId': '4:5b5cb85e-c914-44d8-85f7-ef03ba90eb99:14', 'text': 'creating revising strategic plan including description internal external key stakeholders inform plan kept abreast progress toward meeting goals plan . include plan strategies promoting high quality learner experience curriculum currency relevancy . include plan discussion faculty management model including recruitment retention development qualified faculty . ensure strategic plan clearly identifies types e.g . basic applied teaching learning priorities intellectual contributions school'}, {'nodeId': '4:5b5cb85e-c914-44d8-85f7-ef03ba90eb99:15', 'text': 'model including recruitment retention development qualified faculty . ensure strategic plan clearly identifies types e.g . basic applied teaching learning priorities intellectual contributions school intends produce consistent mission . describe focused nature mission school stakeholders relative learners employers key stakeholders . describe strategic plan mission school relate support strategic plan mission larger organization part . 1.2 monitoring strategic plan summarize document annual'}, {'nodeId': '4:5b5cb85e-c914-44d8-85f7-ef03ba90eb99:16', 'text': 'learners employers key stakeholders . describe strategic plan mission school relate support strategic plan mission larger organization part . 1.2 monitoring strategic plan summarize document annual progress toward meeting goals strategic plan . describe risks could impede school ability fulfill mission plan mitigate risks . describe plan shared key internal external stakeholders identifying groups specifically key stakeholder input incorporated plan . 1.3 innovation describe school strategic'}, {'nodeId': '4:5b5cb85e-c914-44d8-85f7-ef03ba90eb99:17', 'text': 'plan mitigate risks . describe plan shared key internal external stakeholders identifying groups specifically key stakeholder input incorporated plan . 1.3 innovation describe school strategic plan encourages supports innovation across school activities including faculty staff hiring plans curricular co curricular content activities interdisciplinary efforts technologies employed within teaching taught within curriculum . 1.4 societal impact include within strategic plan school allocate human'}, {'nodeId': '4:5b5cb85e-c914-44d8-85f7-ef03ba90eb99:18', 'text': 'co curricular content activities interdisciplinary efforts technologies employed within teaching taught within curriculum . 1.4 societal impact include within strategic plan school allocate human financial capital support school aspiration make positive contribution society . describe mission positively impacts society business education diversity people ideas success graduates'}, {'nodeId': '4:5b5cb85e-c914-44d8-85f7-ef03ba90eb99:20', 'text': 'mission single statement set statements serving guide school stakeholders . statements capture school core purposes express aspirations describe distinguishing features . term focused implies mission yield distinctive aspects school strategies outcomes accomplishments special notable . strategies overarching statements direction derived strategic management processes school . strategies describe school intends achieve mission expected outcomes . expected outcomes conveyed broad high level'}, {'nodeId': '4:5b5cb85e-c914-44d8-85f7-ef03ba90eb99:21', 'text': 'overarching statements direction derived strategic management processes school . strategies describe school intends achieve mission expected outcomes . expected outcomes conveyed broad high level statements describing impact school expects achieve pursues mission educational activities scholarship endeavors . expected outcomes translate mission strategic goals school evaluates success . societal impact refers school makes positive impact betterment society identified school mission strategic'}, {'nodeId': '4:5b5cb85e-c914-44d8-85f7-ef03ba90eb99:22', 'text': 'endeavors . expected outcomes translate mission strategic goals school evaluates success . societal impact refers school makes positive impact betterment society identified school mission strategic plan . societal impact local regional national international level .'}, {'nodeId': '4:5b5cb85e-c914-44d8-85f7-ef03ba90eb99:24', 'text': 'standard 2 physical virtual financial resources school manages 2.1 physical 2.2 virtual 2.3 financial resources sustain school ongoing basis promote high quality environment fosters success participants support school mission strategies expected outcomes .'}, {'nodeId': '4:5b5cb85e-c914-44d8-85f7-ef03ba90eb99:26', 'text': '2.1 physical resources school learning spaces environments facilitate achievement educational mission . school maintains plan updating space appropriate time . 2.2 virtual resources school provides infrastructure support instructional activities modalities . faculty access sufficient current emerging technologies teaching research purposes consistent mission strategies expected outcomes . access may realized partnerships schools third parties . professional staff provided adequate training'}, {'nodeId': '4:5b5cb85e-c914-44d8-85f7-ef03ba90eb99:27', 'text': 'technologies teaching research purposes consistent mission strategies expected outcomes . access may realized partnerships schools third parties . professional staff provided adequate training technology infrastructure advising career placement mission specific activities . 2.3 financial resources school strategic plan identifies realistic financial strategies provide sustain continuously improve aspects quality business education consistent school mission . school maintain risk assessment'}, {'nodeId': '4:5b5cb85e-c914-44d8-85f7-ef03ba90eb99:28', 'text': 'school strategic plan identifies realistic financial strategies provide sustain continuously improve aspects quality business education consistent school mission . school maintain risk assessment specific school financial situation describe contingency planning process mitigate identified risks . school identifies realistic sources financial resources current planned activities . school carefully analyzed costs potential resources initiatives associated mission action items . school financial'}, {'nodeId': '4:5b5cb85e-c914-44d8-85f7-ef03ba90eb99:29', 'text': 'school identifies realistic sources financial resources current planned activities . school carefully analyzed costs potential resources initiatives associated mission action items . school financial plan ensuring sufficient level faculty professional staff resources managing resources including recruiting retaining developing appropriately qualified faculty professional staff . financial plan also addresses necessary resources sustain high quality outcomes learner support resources .'}, {'nodeId': '4:5b5cb85e-c914-44d8-85f7-ef03ba90eb99:31', 'text': '2.1 physical resources describe space plan classroom instruction improvements made spaces environments plans future space enhancements innovations . 2.2 virtual resources describe technology infrastructure school maintains support mission centric activities school modalities instructional delivery including technology used face face delivery digital learning . describe current emerging technologies faculty access order fulfill teaching research responsibilities . describe training professional'}, {'nodeId': '4:5b5cb85e-c914-44d8-85f7-ef03ba90eb99:32', 'text': 'including technology used face face delivery digital learning . describe current emerging technologies faculty access order fulfill teaching research responsibilities . describe training professional staff learn implement new technologies support learner success . 2.3 financial resources provide summary recent financial performance discuss financial outlook next accreditation cycle . highlight successes school obtaining funding including grants private funds alternative revenue streams'}, {'nodeId': '4:5b5cb85e-c914-44d8-85f7-ef03ba90eb99:33', 'text': 'summary recent financial performance discuss financial outlook next accreditation cycle . highlight successes school obtaining funding including grants private funds alternative revenue streams generated innovative activities partnerships similar successes enhance financial vitality school . also describe challenges expected arise next accreditation cycle include strategies mitigating challenges . complement strategic planning overall risk assessment described standard 1 provide risk assessment'}, {'nodeId': '4:5b5cb85e-c914-44d8-85f7-ef03ba90eb99:34', 'text': 'challenges expected arise next accreditation cycle include strategies mitigating challenges . complement strategic planning overall risk assessment described standard 1 provide risk assessment specific school financial resources describe contingency planning process school use significant reduction resources occurs . describe major resource commitments development projects undertaken completed since last accreditation review . complete table 2 1 describe school major planned strategic'}, {'nodeId': '4:5b5cb85e-c914-44d8-85f7-ef03ba90eb99:35', 'text': 'reduction resources occurs . describe major resource commitments development projects undertaken completed since last accreditation review . complete table 2 1 describe school major planned strategic initiatives consistent mission expected source funds plans . document school financial management plan recruiting retaining developing appropriately qualified faculty professional staff . include documentation describing hiring practices development evaluation systems faculty support diversity'}, {'nodeId': '4:5b5cb85e-c914-44d8-85f7-ef03ba90eb99:36', 'text': 'plan recruiting retaining developing appropriately qualified faculty professional staff . include documentation describing hiring practices development evaluation systems faculty support diversity inclusion considerations ensure high quality outcomes relative mission strategies . document financial plan sustain high quality outcomes learner support resources .'}, {'nodeId': '4:5b5cb85e-c914-44d8-85f7-ef03ba90eb99:38', 'text': 'physical resources include buildings furniture fixtures technology labs collaboration space libraries including virtual physical infrastructure directly used school . virtual resources include technology infrastructure needed support instructional delivery modes faculty conduct research scholarship consistent school mission . financial resources include adequate funding sources derived operate school quality basis achieve strategic initiatives goals expected outcomes .'}, {'nodeId': '4:5b5cb85e-c914-44d8-85f7-ef03ba90eb99:40', 'text': 'standard 3 faculty professional staff resources 3.1 school maintains strategically deploys sufficient participating supporting faculty collectively demonstrate significant academic professional engagement turn supports high quality outcomes consistent school mission . 3.2 faculty qualified initial academic professional preparation sustain currency relevancy appropriate classification follows scholarly academic sa practice academic pa scholarly practitioner sp instructional practitioner ip .'}, {'nodeId': '4:5b5cb85e-c914-44d8-85f7-ef03ba90eb99:41', 'text': 'academic professional preparation sustain currency relevancy appropriate classification follows scholarly academic sa practice academic pa scholarly practitioner sp instructional practitioner ip . otherwise faculty members classified additional faculty . 3.3 sufficient professional staff available ensure high quality support faculty learners appropriate . 3.4 school well documented well communicated processes manage develop support faculty professional staff progression careers consistent'}, {'nodeId': '4:5b5cb85e-c914-44d8-85f7-ef03ba90eb99:42', 'text': 'ensure high quality support faculty learners appropriate . 3.4 school well documented well communicated processes manage develop support faculty professional staff progression careers consistent school mission strategies expected outcomes .'}, {'nodeId': '4:5b5cb85e-c914-44d8-85f7-ef03ba90eb99:44', 'text': '3.1 faculty sufficiency school adopts applies criteria documenting faculty members participating supporting consistent mission . school adapt guidance particular situation mission developing implementing criteria indicate school meeting spirit intent standard . criteria address activities required attain participating supporting status depth breadth activities expected within typical aacsb accreditation review cycle maintain participating supporting status . criteria periodically reviewed'}, {'nodeId': '4:5b5cb85e-c914-44d8-85f7-ef03ba90eb99:45', 'text': 'attain participating supporting status depth breadth activities expected within typical aacsb accreditation review cycle maintain participating supporting status . criteria periodically reviewed reflect focus continuous improvement . normally participating faculty members deliver least 75 percent school teaching globally i.e . across entire accredited unit participating faculty members deliver least 60 percent teaching within discipline regardless whether school degree major concentration etc .'}, {'nodeId': '4:5b5cb85e-c914-44d8-85f7-ef03ba90eb99:46', 'text': 'teaching globally i.e . across entire accredited unit participating faculty members deliver least 60 percent teaching within discipline regardless whether school degree major concentration etc . discipline . additionally participating faculty ratios expected met discipline intended applied degree programs locations modalities . instead peer review team would normally expect appropriate blend participating supporting faculty deployed across areas . disciplines defined school context mission .'}, {'nodeId': '4:5b5cb85e-c914-44d8-85f7-ef03ba90eb99:47', 'text': 'programs locations modalities . instead peer review team would normally expect appropriate blend participating supporting faculty deployed across areas . disciplines defined school context mission . normally disciplines align degree programs majors offered school . however every degree program must identified discipline . instructional models mass lectures supported teaching assistants faculty residence may travel periodically school deliver particular program dba program faculty shared across'}, {'nodeId': '4:5b5cb85e-c914-44d8-85f7-ef03ba90eb99:48', 'text': 'identified discipline . instructional models mass lectures supported teaching assistants faculty residence may travel periodically school deliver particular program dba program faculty shared across institutions visiting faculty online program managers deliver digital instruction clearly identified documented method instructional delivery leads high quality learning outcomes high learner satisfaction . cases substantial proportion business school faculty resources hold primary faculty'}, {'nodeId': '4:5b5cb85e-c914-44d8-85f7-ef03ba90eb99:49', 'text': 'documented method instructional delivery leads high quality learning outcomes high learner satisfaction . cases substantial proportion business school faculty resources hold primary faculty appointments institutions school must provide documentation faculty model supports mission achievement overall high quality continuous improvement model consistent spirit intent standard . particular school must show faculty model consistent achieving research expectations school . 3.2 faculty qualifications'}, {'nodeId': '4:5b5cb85e-c914-44d8-85f7-ef03ba90eb99:50', 'text': 'high quality continuous improvement model consistent spirit intent standard . particular school must show faculty model consistent achieving research expectations school . 3.2 faculty qualifications faculty members scholarly academic sa practice academic pa scholarly practitioner sp instructional practitioner ip . faculty members assigned one designations based school criteria initial qualifications sustained engagement activities support currency relevancy teaching field . faculty whose'}, {'nodeId': '4:5b5cb85e-c914-44d8-85f7-ef03ba90eb99:51', 'text': 'practitioner ip . faculty members assigned one designations based school criteria initial qualifications sustained engagement activities support currency relevancy teaching field . faculty whose qualifications meet criteria established school sa pa sp ip status classified additional faculty . criteria sa pa status initial classification sa pa terminal degree related field teaching appropriate . note faculty member considered sa pa five years date conferral terminal degree . doctoral students'}, {'nodeId': '4:5b5cb85e-c914-44d8-85f7-ef03ba90eb99:52', 'text': 'sa pa status initial classification sa pa terminal degree related field teaching appropriate . note faculty member considered sa pa five years date conferral terminal degree . doctoral students teaching responsibilities attained dissertation abd status considered sa three years commencement abd status . variety terminal degrees may appropriate terminal degree related faculty member field teaching . examples commonly accepted terminal degrees business include doctoral degrees business closely'}, {'nodeId': '4:5b5cb85e-c914-44d8-85f7-ef03ba90eb99:53', 'text': '. variety terminal degrees may appropriate terminal degree related faculty member field teaching . examples commonly accepted terminal degrees business include doctoral degrees business closely related business discipline phd dba graduate degree law llm taxation mst teaching taxation law degree llm jd teaching courses modules related law aspects related legal environment business e.g . ethics sustainability etc . . additional terminal degrees may also appropriate sa status degree closely'}, {'nodeId': '4:5b5cb85e-c914-44d8-85f7-ef03ba90eb99:54', 'text': 'llm jd teaching courses modules related law aspects related legal environment business e.g . ethics sustainability etc . . additional terminal degrees may also appropriate sa status degree closely related faculty member field teaching faculty member sustains currency scholarly activities field consistent standard . unusual faculty member without terminal degree may classified sa pa faculty member must clearly engaged sustained substantive academic professional engagement activities support'}, {'nodeId': '4:5b5cb85e-c914-44d8-85f7-ef03ba90eb99:55', 'text': 'consistent standard . unusual faculty member without terminal degree may classified sa pa faculty member must clearly engaged sustained substantive academic professional engagement activities support currency relevancy field teaching contributions mission components activity expected consistent activities school terminally qualified sa faculty engage . school expected make case sa pa status cases . aacsb expects limited number normally exceed 10 percent faculty cases individuals without'}, {'nodeId': '4:5b5cb85e-c914-44d8-85f7-ef03ba90eb99:56', 'text': 'activities school terminally qualified sa faculty engage . school expected make case sa pa status cases . aacsb expects limited number normally exceed 10 percent faculty cases individuals without terminal degrees also sa pa status . 33 subsequent initial classification must ongoing sustained substantive academic activities sa professional engagement activities pa supporting qualification status . criteria ip sp status initial classification ip sp master degree discipline related faculty member'}, {'nodeId': '4:5b5cb85e-c914-44d8-85f7-ef03ba90eb99:57', 'text': 'academic activities sa professional engagement activities pa supporting qualification status . criteria ip sp status initial classification ip sp master degree discipline related faculty member field teaching along significant substantive professional experience appropriate . limited cases ip sp status may appropriate individuals without master degrees depth duration sophistication complexity professional experience time hiring outweighs lack master degree qualifications . school expected make'}, {'nodeId': '4:5b5cb85e-c914-44d8-85f7-ef03ba90eb99:58', 'text': 'may appropriate individuals without master degrees depth duration sophistication complexity professional experience time hiring outweighs lack master degree qualifications . school expected make case ip sp status cases . subsequent initial classification must ongoing sustained substantive professional engagement activities ip scholarly activities sp supporting qualification status . school criteria school develop appropriate criteria policies classification faculty including faculty also hold'}, {'nodeId': '4:5b5cb85e-c914-44d8-85f7-ef03ba90eb99:59', 'text': 'engagement activities ip scholarly activities sp supporting qualification status . school criteria school develop appropriate criteria policies classification faculty including faculty also hold significant administrative appointments e.g . deans associate deans department heads chairs center directors according initial preparation sustained engagement activities . criteria administrators consider weight relative individual administrative role . example criteria may differentiate dean'}, {'nodeId': '4:5b5cb85e-c914-44d8-85f7-ef03ba90eb99:60', 'text': 'directors according initial preparation sustained engagement activities . criteria administrators consider weight relative individual administrative role . example criteria may differentiate dean significant administrative responsibilities vs. department head smaller administrative workload . criteria policies cover initial classification maintenance qualified status subsequent initial classification . sustained engagement activities including research scholarship substantially connected'}, {'nodeId': '4:5b5cb85e-c914-44d8-85f7-ef03ba90eb99:61', 'text': 'criteria policies cover initial classification maintenance qualified status subsequent initial classification . sustained engagement activities including research scholarship substantially connected support primary teaching responsibilities faculty member demonstrate faculty member current relevant field teaching . criteria policies consistent mission school comparable peer schools . discipline global ratio minimums normally minimum 40 percent school faculty resources sa 90 percent sa pa sp ip'}, {'nodeId': '4:5b5cb85e-c914-44d8-85f7-ef03ba90eb99:62', 'text': 'field teaching . criteria policies consistent mission school comparable peer schools . discipline global ratio minimums normally minimum 40 percent school faculty resources sa 90 percent sa pa sp ip global level i.e . across entire accredited unit disciplines defined school alignment degrees majors . school maintains generalist degrees e.g . bba general business mba etc . associated concentrations areas focus areas concentration areas focus normally treated like disciplines respect meeting'}, {'nodeId': '4:5b5cb85e-c914-44d8-85f7-ef03ba90eb99:63', 'text': '. school maintains generalist degrees e.g . bba general business mba etc . associated concentrations areas focus areas concentration areas focus normally treated like disciplines respect meeting ratios . schools emphasize research master doctoral degree programs expected higher percentages sa faculty maintain strong focus sa faculty place high emphasis faculty undertake scholarly activities maintain sa status consistent peer institutions mission . ratio sa faculty discipline level may less 40'}, {'nodeId': '4:5b5cb85e-c914-44d8-85f7-ef03ba90eb99:64', 'text': 'maintain strong focus sa faculty place high emphasis faculty undertake scholarly activities maintain sa status consistent peer institutions mission . ratio sa faculty discipline level may less 40 percent minimum school makes appointments drive new innovative interdisciplinary 34 2020 guiding principles standards business accreditation initiatives . instances burden school make case maintains high quality outcomes . peer review judgment discretion called upon determine exceptions appropriate .'}, {'nodeId': '4:5b5cb85e-c914-44d8-85f7-ef03ba90eb99:65', 'text': 'standards business accreditation initiatives . instances burden school make case maintains high quality outcomes . peer review judgment discretion called upon determine exceptions appropriate . disciplines school offer degree programs majors 40 percent sa ratio expected norm since faculty would supporting degree programs . additional faculty exceed 10 percent school overall faculty within discipline . cases school align faculty sufficiency qualification guidelines discipline cases degree'}, {'nodeId': '4:5b5cb85e-c914-44d8-85f7-ef03ba90eb99:66', 'text': 'supporting degree programs . additional faculty exceed 10 percent school overall faculty within discipline . cases school align faculty sufficiency qualification guidelines discipline cases degree programs majors offered global level school must make case demonstration high quality evidence based programs student learning outcomes evidence learner employer satisfaction appropriate . peer review team consider departures case case basis employ professional judgment guidelines met . faculty'}, {'nodeId': '4:5b5cb85e-c914-44d8-85f7-ef03ba90eb99:67', 'text': 'programs student learning outcomes evidence learner employer satisfaction appropriate . peer review team consider departures case case basis employ professional judgment guidelines met . faculty deployment table 3 2 intended provide snapshot qualified faculty deployed across degree programs entire accredited unit recently completed regular academic year . table 3 2 documents portion faculty member contribution school mission teaching component schools required meet 40 percent sa ratio used'}, {'nodeId': '4:5b5cb85e-c914-44d8-85f7-ef03ba90eb99:68', 'text': 'accredited unit recently completed regular academic year . table 3 2 documents portion faculty member contribution school mission teaching component schools required meet 40 percent sa ratio used calculate faculty qualifications table 3 1 includes activities faculty member engages i.e . teaching research service contribute mission school . however schools expected meet 90 percent sa pa sp ip ratio across degree programs table 3 2 order validate school deploys qualified faculty across degree'}, {'nodeId': '4:5b5cb85e-c914-44d8-85f7-ef03ba90eb99:69', 'text': 'research service contribute mission school . however schools expected meet 90 percent sa pa sp ip ratio across degree programs table 3 2 order validate school deploys qualified faculty across degree levels . deployment school blend sa pa sp ip faculty members must result strategic choice school consistent school mission strategic initiatives carried way promotes high quality learner success achievement learning competencies programs locations modalities . aacsb prescribe sa deployment'}, {'nodeId': '4:5b5cb85e-c914-44d8-85f7-ef03ba90eb99:70', 'text': 'consistent school mission strategic initiatives carried way promotes high quality learner success achievement learning competencies programs locations modalities . aacsb prescribe sa deployment percentages program location modality peer review team would normally expect blend faculty across degree programs locations modalities take consideration level degree programs offered locations various modalities distinction appropriate . additionally research master degrees doctoral degrees everywhere'}, {'nodeId': '4:5b5cb85e-c914-44d8-85f7-ef03ba90eb99:71', 'text': 'programs locations modalities take consideration level degree programs offered locations various modalities distinction appropriate . additionally research master degrees doctoral degrees everywhere reflect faculty complement qualifications consistent needed provide high quality experiences outcomes learners . high quality outcomes demonstrated assurance learning data provided degree program . table 3 2 prepared macro level across degree programs locations modalities however peer review teams'}, {'nodeId': '4:5b5cb85e-c914-44d8-85f7-ef03ba90eb99:72', 'text': 'learners . high quality outcomes demonstrated assurance learning data provided degree program . table 3 2 prepared macro level across degree programs locations modalities however peer review teams may request supplemental breakout table 3 2 particular location modality appropriate determined team . 35 2020 guiding principles standards business accreditation recognized blended modalities becoming increasingly common therefore modality often necessary breakout . nevertheless peer review team'}, {'nodeId': '4:5b5cb85e-c914-44d8-85f7-ef03ba90eb99:73', 'text': '. 35 2020 guiding principles standards business accreditation recognized blended modalities becoming increasingly common therefore modality often necessary breakout . nevertheless peer review team deems appropriate view table 3 2 modality within discretion request table particular location modality . 3.3 professional staff sufficiency sufficient professional staff maintained support instructional technological learner support needs ongoing basis regardless whether housed business school'}, {'nodeId': '4:5b5cb85e-c914-44d8-85f7-ef03ba90eb99:74', 'text': '. 3.3 professional staff sufficiency sufficient professional staff maintained support instructional technological learner support needs ongoing basis regardless whether housed business school centralized within larger shared unit university . processes managing developing professional staff services well defined effective . 3.4 faculty professional staff development faculty expectations evaluation promotion reward processes systematic transparent support school mission . workload allocation'}, {'nodeId': '4:5b5cb85e-c914-44d8-85f7-ef03ba90eb99:75', 'text': 'well defined effective . 3.4 faculty professional staff development faculty expectations evaluation promotion reward processes systematic transparent support school mission . workload allocation model appropriate faculty fulfill responsibilities competently . school effective processes providing orientation guidance mentoring inclusive developmental practices faculty professional staff . sufficient professional development respect current emerging technologies provided faculty professional'}, {'nodeId': '4:5b5cb85e-c914-44d8-85f7-ef03ba90eb99:76', 'text': 'orientation guidance mentoring inclusive developmental practices faculty professional staff . sufficient professional development respect current emerging technologies provided faculty professional staff involved delivery instruction . teaching assistants tutors staff participate alternative instructional models appropriately prepared classroom instruction managed supervised promote high quality outcomes . professional staff access development opportunities retain currency areas support .'}, {'nodeId': '4:5b5cb85e-c914-44d8-85f7-ef03ba90eb99:78', 'text': '3.1 3.2 faculty sufficiency faculty qualifications provide school criteria participating supporting faculty well sa pa sp ip faculty . describe criteria align school mission . table 3 1 completed recent regular academic year prior visit year often referred self study year discipline demonstrate alignment standard 3. interpretive guidance provides additional information completing table 3 1. table 3 2 completed recent regular academic year prior visit year . school also provide narrative'}, {'nodeId': '4:5b5cb85e-c914-44d8-85f7-ef03ba90eb99:79', 'text': 'alignment standard 3. interpretive guidance provides additional information completing table 3 1. table 3 2 completed recent regular academic year prior visit year . school also provide narrative describes strategy deployment appropriate blend sufficient participating faculty qualified faculty across degree programs locations modalities strategy assures high quality outcomes . school include discussion significant changes faculty composition since last accreditation review strategies plans'}, {'nodeId': '4:5b5cb85e-c914-44d8-85f7-ef03ba90eb99:80', 'text': 'across degree programs locations modalities strategy assures high quality outcomes . school include discussion significant changes faculty composition since last accreditation review strategies plans recruiting deploying qualified faculty within next accreditation cycle . school must provide information faculty member peer review team evidence support classification faculty member . information provided electronically form academic cvs equivalent documents organized accordance table 3 1.'}, {'nodeId': '4:5b5cb85e-c914-44d8-85f7-ef03ba90eb99:81', 'text': 'information faculty member peer review team evidence support classification faculty member . information provided electronically form academic cvs equivalent documents organized accordance table 3 1. provide narrative describing instructional teaching models lead teachers supported teaching assistants tutors instructors support staff . describe qualifications support instructional models . provide evidence describes models maintain high quality outcomes learner satisfaction . 3.3 professional'}, {'nodeId': '4:5b5cb85e-c914-44d8-85f7-ef03ba90eb99:82', 'text': 'tutors instructors support staff . describe qualifications support instructional models . provide evidence describes models maintain high quality outcomes learner satisfaction . 3.3 professional staff sufficiency describe professional staff structure respect advising career placement support faculty instructional support library support faculty research support . identify resources centralized supported university level maintained supported within school . describe professional staff structure'}, {'nodeId': '4:5b5cb85e-c914-44d8-85f7-ef03ba90eb99:83', 'text': 'instructional support library support faculty research support . identify resources centralized supported university level maintained supported within school . describe professional staff structure supports high quality outcomes . 3.4 faculty professional staff development describe processes determining performance expectations faculty . describe processes orientation guidance mentoring faculty professional staff . describe evaluation promotion reward processes well ways faculty engaged'}, {'nodeId': '4:5b5cb85e-c914-44d8-85f7-ef03ba90eb99:84', 'text': 'determining performance expectations faculty . describe processes orientation guidance mentoring faculty professional staff . describe evaluation promotion reward processes well ways faculty engaged processes . describe faculty professional staff provided professional development opportunities remain current field instruction particularly respect use current emerging technologies deliver instruction .'}, {'nodeId': '4:5b5cb85e-c914-44d8-85f7-ef03ba90eb99:86', 'text': 'participating faculty member actively deeply engages activities school matters beyond direct teaching responsibilities . normally school considers participating faculty members ongoing members faculty regardless whether appointments full time part time whether positions school considered principal employment whether school tenure policies . supporting faculty member normally participate intellectual operational life school beyond direct performance teaching responsibilities . research master'}, {'nodeId': '4:5b5cb85e-c914-44d8-85f7-ef03ba90eb99:87', 'text': 'employment whether school tenure policies . supporting faculty member normally participate intellectual operational life school beyond direct performance teaching responsibilities . research master degrees degrees focus heavily research methods independent research projects primary program content . faculty qualifications status refers one four categories designated demonstrate current relevant intellectual capital professional engagement area teaching support school mission related activities'}, {'nodeId': '4:5b5cb85e-c914-44d8-85f7-ef03ba90eb99:88', 'text': '. faculty qualifications status refers one four categories designated demonstrate current relevant intellectual capital professional engagement area teaching support school mission related activities . categories specifying faculty qualifications based initial academic preparation professional experience sustained academic professional engagement within area teaching follows scholarly academics sa faculty normally attained terminal degree field related area teaching sustain currency relevancy'}, {'nodeId': '4:5b5cb85e-c914-44d8-85f7-ef03ba90eb99:89', 'text': 'sustained academic professional engagement within area teaching follows scholarly academics sa faculty normally attained terminal degree field related area teaching sustain currency relevancy scholarship activities related field teaching . sa faculty normally expected produce peer editorial reviewed publications related field teaching part portfolio scholarship . addition publications related field teaching sa faculty may produce publications outside field teaching support mission related'}, {'nodeId': '4:5b5cb85e-c914-44d8-85f7-ef03ba90eb99:90', 'text': 'publications related field teaching part portfolio scholarship . addition publications related field teaching sa faculty may produce publications outside field teaching support mission related components school reflective faculty member role school . practice academics pa faculty normally attained terminal degree field related area teaching sustain currency relevancy professional engagement interaction activities related field teaching . scholarly practitioners sp faculty normally attained'}, {'nodeId': '4:5b5cb85e-c914-44d8-85f7-ef03ba90eb99:91', 'text': 'terminal degree field related area teaching sustain currency relevancy professional engagement interaction activities related field teaching . scholarly practitioners sp faculty normally attained master degree related field teaching professional experience substantial duration responsibility time hire sustain currency relevancy scholarship related professional background experience field teaching . instructional practitioners ip faculty normally attained master degree related field teaching'}, {'nodeId': '4:5b5cb85e-c914-44d8-85f7-ef03ba90eb99:92', 'text': 'hire sustain currency relevancy scholarship related professional background experience field teaching . instructional practitioners ip faculty normally attained master degree related field teaching professional experience substantial duration responsibility time hire sustain currency relevancy continued professional experience engagement related professional background experience field teaching . additional faculty faculty meet school criteria sa pa sp ip . professional staff include'}, {'nodeId': '4:5b5cb85e-c914-44d8-85f7-ef03ba90eb99:93', 'text': 'continued professional experience engagement related professional background experience field teaching . additional faculty faculty meet school criteria sa pa sp ip . professional staff include individuals faculty appointments provide direct support ancillary activities . examples professional staff include limited career services learner services admissions alumni engagement corporate engagement instructional support key mission components .'}, {'nodeId': '4:5b5cb85e-c914-44d8-85f7-ef03ba90eb99:95', 'text': 'standard 4 curriculum 4.1 school delivers content current relevant forward looking globallyoriented aligned program competency goals consistent mission strategies expected outcomes . curriculum content cultivates agility current emerging technologies . 4.2 school manages curriculum assessment systematic review processes ensure currency relevancy competency . 4.3 school curriculum promotes fosters innovation experiential learning lifelong learning mindset . program elements promoting positive'}, {'nodeId': '4:5b5cb85e-c914-44d8-85f7-ef03ba90eb99:96', 'text': 'review processes ensure currency relevancy competency . 4.3 school curriculum promotes fosters innovation experiential learning lifelong learning mindset . program elements promoting positive societal impact included within curriculum . 4.4 school curriculum facilitates meaningful learner learner learnerto faculty academic professional engagement .'}, {'nodeId': '4:5b5cb85e-c914-44d8-85f7-ef03ba90eb99:98', 'text': '4.1 curriculum content contents degree program curricula result effective curriculum management processes include relevant competencies prepare graduates business careers foster lifelong learning mindset . business degree programs include understanding appreciation cultural norms across various regions countries differences impact managerial decision making . curriculum reflect current innovative business theories practices . normally business degree programs bachelor level include learning'}, {'nodeId': '4:5b5cb85e-c914-44d8-85f7-ef03ba90eb99:99', 'text': 'regions countries differences impact managerial decision making . curriculum reflect current innovative business theories practices . normally business degree programs bachelor level include learning experiences address core competencies characteristic successful business graduate aacsb accredited school well content business disciplines accounting economics finance management management information systems marketing quantitative methods . 15 non degree programs e.g . non degree executive'}, {'nodeId': '4:5b5cb85e-c914-44d8-85f7-ef03ba90eb99:100', 'text': 'school well content business disciplines accounting economics finance management management information systems marketing quantitative methods . 15 non degree programs e.g . non degree executive education certificates minors etc . intended covered standard . refer standard 5 discussion assurance learning programs . graduate degree programs higher order learning experiences synthesis integration information . specialized business master degree programs normally include understanding specified'}, {'nodeId': '4:5b5cb85e-c914-44d8-85f7-ef03ba90eb99:101', 'text': 'learning programs . graduate degree programs higher order learning experiences synthesis integration information . specialized business master degree programs normally include understanding specified discipline multiple perspectives understanding specialization context preparation careers study . general business master degrees ordinarily include preparation leading organization managing diverse global context thinking creatively making sound decisions exercising good judgment uncertainty'}, {'nodeId': '4:5b5cb85e-c914-44d8-85f7-ef03ba90eb99:102', 'text': '. general business master degrees ordinarily include preparation leading organization managing diverse global context thinking creatively making sound decisions exercising good judgment uncertainty integrating knowledge across fields . doctoral degree programs normally include advanced research knowledge skills understanding specialization context preparation faculty responsibilities positions outside academia . doctoral degree programs include appreciation production research contributes'}, {'nodeId': '4:5b5cb85e-c914-44d8-85f7-ef03ba90eb99:103', 'text': 'knowledge skills understanding specialization context preparation faculty responsibilities positions outside academia . doctoral degree programs include appreciation production research contributes positively society . doctoral degree programs intended prepare learners academic positions devote significant time program study successful classroom instruction management . current emerging technology appropriately infused throughout degree program appropriate degree level program i.e . bachelor'}, {'nodeId': '4:5b5cb85e-c914-44d8-85f7-ef03ba90eb99:104', 'text': 'time program study successful classroom instruction management . current emerging technology appropriately infused throughout degree program appropriate degree level program i.e . bachelor master doctoral . learn learn expectation instilled learners facilitate agility adaptation emerging technologies future . 4.2 curriculum management curriculum management sound governance faculty engaged process terms ownership use results implementing changes improvement . curriculum management fosters'}, {'nodeId': '4:5b5cb85e-c914-44d8-85f7-ef03ba90eb99:105', 'text': 'future . 4.2 curriculum management curriculum management sound governance faculty engaged process terms ownership use results implementing changes improvement . curriculum management fosters promotes innovation . 4.3 innovation experiential learning lifelong learning societal impact school innovative approach curriculum whether related content pedagogy delivery method demonstrates currency creativity forward thinking . school provides portfolio experiential learning opportunities promote'}, {'nodeId': '4:5b5cb85e-c914-44d8-85f7-ef03ba90eb99:106', 'text': 'approach curriculum whether related content pedagogy delivery method demonstrates currency creativity forward thinking . school provides portfolio experiential learning opportunities promote learner engagement faculty community business practitioners . school promotes lifelong learning mindset learners including creativity intellectual curiosity critical analytical thinking . school portfolio curricular elements within formal coursework promote positive societal impact . 4.4 engagement level'}, {'nodeId': '4:5b5cb85e-c914-44d8-85f7-ef03ba90eb99:107', 'text': 'including creativity intellectual curiosity critical analytical thinking . school portfolio curricular elements within formal coursework promote positive societal impact . 4.4 engagement level quality sustained learner learner learner faculty interactions consistent degree program type achievement learning goals . learner faculty interactions involve types faculty members . teaching learning model employed learners meaningful engagement faculty responsible course . curricular co curricular'}, {'nodeId': '4:5b5cb85e-c914-44d8-85f7-ef03ba90eb99:108', 'text': 'learning goals . learner faculty interactions involve types faculty members . teaching learning model employed learners meaningful engagement faculty responsible course . curricular co curricular activities embody engagement interaction faculty learners business practitioners .'}, {'nodeId': '4:5b5cb85e-c914-44d8-85f7-ef03ba90eb99:110', 'text': '4.1 curriculum content describe learning experiences appropriate areas listed section 4.1 basis judgment including areas defined fit curriculum . curriculum include learning experiences normally expected degree program type provide rationale choice . consistent school mission describe degree programs include learning experiences develop competencies related integration relevant technology . provide narrative description current emerging technologies graduates would able demonstrate reasonable'}, {'nodeId': '4:5b5cb85e-c914-44d8-85f7-ef03ba90eb99:111', 'text': 'include learning experiences develop competencies related integration relevant technology . provide narrative description current emerging technologies graduates would able demonstrate reasonable level competency employed degree level undergraduate mba specialized master doctoral . include ordinary usual software programs word processing presentation software . 4.2 curriculum management describe governance related curriculum management including structure activities related committees task'}, {'nodeId': '4:5b5cb85e-c914-44d8-85f7-ef03ba90eb99:112', 'text': 'usual software programs word processing presentation software . 4.2 curriculum management describe governance related curriculum management including structure activities related committees task forces . describe governance processes practices activities ensure curricular currency foster innovation . 4.3 innovation experiential learning lifelong learning societal impact describe innovations curriculum occurred respect content pedagogy delivery . explain innovations demonstrate currency'}, {'nodeId': '4:5b5cb85e-c914-44d8-85f7-ef03ba90eb99:113', 'text': '. 4.3 innovation experiential learning lifelong learning societal impact describe innovations curriculum occurred respect content pedagogy delivery . explain innovations demonstrate currency creativity forward looking curricula . document experiential learning activities provide business learners knowledge hands experience local global practice business across program types teaching learning models employed . describe school encourages learners take responsibility learning promotes'}, {'nodeId': '4:5b5cb85e-c914-44d8-85f7-ef03ba90eb99:114', 'text': 'learners knowledge hands experience local global practice business across program types teaching learning models employed . describe school encourages learners take responsibility learning promotes characteristics lifelong learning mindset . document curricular elements within formal coursework foster support learners ability positive impact society . 4.4 engagement summarize learner learner learner faculty interactions supported facilitated encouraged documented . describe learners succeeded'}, {'nodeId': '4:5b5cb85e-c914-44d8-85f7-ef03ba90eb99:115', 'text': 'support learners ability positive impact society . 4.4 engagement summarize learner learner learner faculty interactions supported facilitated encouraged documented . describe learners succeeded excelled curricular co curricular engagement faculty business community .'}, {'nodeId': '4:5b5cb85e-c914-44d8-85f7-ef03ba90eb99:117', 'text': 'curriculum composed program content pedagogies teaching methods delivery modes structures content organized sequenced create systematic integrated program teaching learning identifies school facilitates achievement program competency goals . curriculum influenced mission values culture school . curriculum content includes theories ideas concepts skills knowledge collectively make degree program . competencies state educational expectations degree program . specify intellectual behavioral'}, {'nodeId': '4:5b5cb85e-c914-44d8-85f7-ef03ba90eb99:118', 'text': '. curriculum content includes theories ideas concepts skills knowledge collectively make degree program . competencies state educational expectations degree program . specify intellectual behavioral capabilities program intended instill well knowledge skills abilities expected outcome particular program . defining competencies faculty members clarify intend graduates competent effective result completing program . content areas need included competency goals . competency goals aligned mission'}, {'nodeId': '4:5b5cb85e-c914-44d8-85f7-ef03ba90eb99:119', 'text': '. defining competencies faculty members clarify intend graduates competent effective result completing program . content areas need included competency goals . competency goals aligned mission school . experiential learning includes wide variety activities internships service learning study abroad consulting projects high impact pedagogical practices . curriculum management refers school processes organization development design implementation degree program structure organization content'}, {'nodeId': '4:5b5cb85e-c914-44d8-85f7-ef03ba90eb99:120', 'text': 'consulting projects high impact pedagogical practices . curriculum management refers school processes organization development design implementation degree program structure organization content assessment outcomes pedagogy etc . curriculum management captures input key business school stakeholders influenced assurance learning results new developments business practices issues revision mission strategy relate new areas instruction . innovative curriculum may exhibited incorporating cutting'}, {'nodeId': '4:5b5cb85e-c914-44d8-85f7-ef03ba90eb99:121', 'text': 'influenced assurance learning results new developments business practices issues revision mission strategy relate new areas instruction . innovative curriculum may exhibited incorporating cutting edge creative content technologies varied pedagogies delivery methods .'}, {'nodeId': '4:5b5cb85e-c914-44d8-85f7-ef03ba90eb99:123', 'text': 'standard 5 assurance learning 5.1 school uses well documented assurance learning aol processes include direct indirect measures ensuring quality degree programs deemed scope accreditation purposes . results school aol work leads curricular process improvements . 5.2 programs resulting degree credential structured designed ensure equivalence high quality outcomes irrespective location modality instructional delivery . 5.3 microlearning credentials stackable otherwise able combined aacsb'}, {'nodeId': '4:5b5cb85e-c914-44d8-85f7-ef03ba90eb99:124', 'text': 'credential structured designed ensure equivalence high quality outcomes irrespective location modality instructional delivery . 5.3 microlearning credentials stackable otherwise able combined aacsb accredited degree program include processes ensure high quality continuous improvement . 5.4 non degree executive education generates greater five percent school total annual resources include processes ensure high quality continuous improvement .'}, {'nodeId': '4:5b5cb85e-c914-44d8-85f7-ef03ba90eb99:126', 'text': '5.1 assurance learning processes school identifies learning competencies business degree program well appropriate direct indirect measures systematically assessed demonstrate learning competencies achieved across degree programs . competencies derive consonant school mission strategies expected outcomes reported degree level opposed major level . competencies curriculum management processes reflect currency knowledge expectations stakeholders including limited organizations employing graduates'}, {'nodeId': '4:5b5cb85e-c914-44d8-85f7-ef03ba90eb99:127', 'text': 'reported degree level opposed major level . competencies curriculum management processes reflect currency knowledge expectations stakeholders including limited organizations employing graduates alumni learners university community policymakers . competencies largely achieved . competencies achieved school provides evidence actions taken remediate deficiencies . direct indirect measures employed school expected include types measures across entire portfolio assessment degree programs .'}, {'nodeId': '4:5b5cb85e-c914-44d8-85f7-ef03ba90eb99:128', 'text': 'achieved school provides evidence actions taken remediate deficiencies . direct indirect measures employed school expected include types measures across entire portfolio assessment degree programs . proportion direct versus indirect measures degree program determined school consistent mission strategic initiatives . acceptable programs assessed direct measures programs may assessed indirect measures . school provides rationale determining programs measured direct measures programs measured'}, {'nodeId': '4:5b5cb85e-c914-44d8-85f7-ef03ba90eb99:129', 'text': 'initiatives . acceptable programs assessed direct measures programs may assessed indirect measures . school provides rationale determining programs measured direct measures programs measured indirect measures . results regular direct indirect assessment lead curricular process improvements . school employs systematic aol process includes meaningful broad faculty participation . programs launched since last review robust aol plan place including timeline gathering analyzing data . depending long'}, {'nodeId': '4:5b5cb85e-c914-44d8-85f7-ef03ba90eb99:130', 'text': 'employs systematic aol process includes meaningful broad faculty participation . programs launched since last review robust aol plan place including timeline gathering analyzing data . depending long program offered data may may yet gathered . program offered five years would expected gathered sufficient data demonstrate systematic effective process program however program launched one two years normal peer review visit may yet gathered sufficient data demonstrate systematic effective process .'}, {'nodeId': '4:5b5cb85e-c914-44d8-85f7-ef03ba90eb99:131', 'text': 'data demonstrate systematic effective process program however program launched one two years normal peer review visit may yet gathered sufficient data demonstrate systematic effective process . standards intend case newly launched degree program schools given sufficient time establish systematic assessment process adequately demonstrates student learning case robust assessment plan paramount importance . 5.2 degree equivalency expectations learner effort outcomes degree credentials equivalent'}, {'nodeId': '4:5b5cb85e-c914-44d8-85f7-ef03ba90eb99:132', 'text': 'process adequately demonstrates student learning case robust assessment plan paramount importance . 5.2 degree equivalency expectations learner effort outcomes degree credentials equivalent terms depth rigor regardless delivery mode location . competency based education cbe credit awarded school normally equivalent quality assured via direct assessment learners . cbe credit reflect small percentage total academic program . 5.3 stackable microlearning credentials credentials certificates minors'}, {'nodeId': '4:5b5cb85e-c914-44d8-85f7-ef03ba90eb99:133', 'text': 'equivalent quality assured via direct assessment learners . cbe credit reflect small percentage total academic program . 5.3 stackable microlearning credentials credentials certificates minors badges lead degree program evaluated degree program level . 5.4 non degree executive education non degree executive education normally reviewed overall quality continuous improvement customer client satisfaction programs generate greater five percent school annual resources .'}, {'nodeId': '4:5b5cb85e-c914-44d8-85f7-ef03ba90eb99:135', 'text': '5.1 assurance learning processes degree program provide portfolio evidence across degree programs includes direct indirect assessment learning showing learner progress meeting competency goals business degree program . proportion direct versus indirect measures within degree program determined school consistent mission strategic initiatives . examples programs lend indirect measurement programs newer smaller niche specialized interdisciplinary programs programs closely tied professional fields .'}, {'nodeId': '4:5b5cb85e-c914-44d8-85f7-ef03ba90eb99:136', 'text': 'consistent mission strategic initiatives . examples programs lend indirect measurement programs newer smaller niche specialized interdisciplinary programs programs closely tied professional fields . indirect evidence relative competencies stated degree program indirect evidence applied . schools initial accreditation process complete table 5 1 degree program . table optional schools continuous improvement review process . assessment demonstrates learners meeting learning competencies describe'}, {'nodeId': '4:5b5cb85e-c914-44d8-85f7-ef03ba90eb99:137', 'text': 'accreditation process complete table 5 1 degree program . table optional schools continuous improvement review process . assessment demonstrates learners meeting learning competencies describe efforts school instituted improve learning outcomes . provide evidence faculty sufficiently meaningfully engaged aol processes . business school subject formalized regional country regulations quality assurance organizations focused evaluation learner performance processes consistent aacsb expectations'}, {'nodeId': '4:5b5cb85e-c914-44d8-85f7-ef03ba90eb99:138', 'text': 'engaged aol processes . business school subject formalized regional country regulations quality assurance organizations focused evaluation learner performance processes consistent aacsb expectations best practices relevant redundant portions may applied demonstrate assurance learning . burden proof school document systems support effective continuous improvement learner performance outcomes . consult mentor peer review team chair guidance . 5.2 degree equivalency show degree program structure'}, {'nodeId': '4:5b5cb85e-c914-44d8-85f7-ef03ba90eb99:139', 'text': 'school document systems support effective continuous improvement learner performance outcomes . consult mentor peer review team chair guidance . 5.2 degree equivalency show degree program structure design expectations appropriate level degree programs demonstrate expectations across educational programs result degree credentials equivalent regardless delivery mode location time completion . prepared provide evidence equivalent learning outcomes identical degrees offered different locations'}, {'nodeId': '4:5b5cb85e-c914-44d8-85f7-ef03ba90eb99:140', 'text': 'programs result degree credentials equivalent regardless delivery mode location time completion . prepared provide evidence equivalent learning outcomes identical degrees offered different locations different modalities . examples may include limited assurance learning outcomes graduation rates retention rates placement rates employer alumni surveys learner satisfaction statistics . 5.3 stackable microlearning credentials provide list microlearning credentials may stacked degree describe'}, {'nodeId': '4:5b5cb85e-c914-44d8-85f7-ef03ba90eb99:141', 'text': 'retention rates placement rates employer alumni surveys learner satisfaction statistics . 5.3 stackable microlearning credentials provide list microlearning credentials may stacked degree describe portfolio microlearning credentials aligned school mission strategy . explain credentials may lead degree describe quality assured microlearning credentials . 5.4 non degree executive education describe portfolio executive education programs portfolio aligned school mission strategy . provide'}, {'nodeId': '4:5b5cb85e-c914-44d8-85f7-ef03ba90eb99:142', 'text': 'lead degree describe quality assured microlearning credentials . 5.4 non degree executive education describe portfolio executive education programs portfolio aligned school mission strategy . provide narrative discussing school ensures high quality processes outcomes executive education offerings cases school non degree executive education revenue exceeds five percent school total annual resources . describe processes ensuring client expectations consistently met .'}, {'nodeId': '4:5b5cb85e-c914-44d8-85f7-ef03ba90eb99:144', 'text': 'assurance learning aol refers systematic processes assessment plans collectively demonstrate learners achieve learning competencies programs participate within scope school accreditation . aol also includes processes identifying competency gaps designing implementing changes curriculum learning experience learning competencies met . aacsb accreditation concerned broad program level focused competency goals degree program rather detailed competency goals course topic . competency based education'}, {'nodeId': '4:5b5cb85e-c914-44d8-85f7-ef03ba90eb99:145', 'text': 'learning competencies met . aacsb accreditation concerned broad program level focused competency goals degree program rather detailed competency goals course topic . competency based education cbe refers courses learners progress pace based ability demonstrate proficiency specific skill competency . cbe includes credit prior learning . direct measures refer evidence learner work examinations quizzes assignments internship externship feedback based direct observation individual performance'}, {'nodeId': '4:5b5cb85e-c914-44d8-85f7-ef03ba90eb99:146', 'text': '. cbe includes credit prior learning . direct measures refer evidence learner work examinations quizzes assignments internship externship feedback based direct observation individual performance behaviors outcomes . indirect measures learning refer evidence attained third party input based direct observation individual performance behaviors outcomes . example employer survey asking assessment school learners performed internships relative learners peer institutions indirect measure . however'}, {'nodeId': '4:5b5cb85e-c914-44d8-85f7-ef03ba90eb99:147', 'text': 'observation individual performance behaviors outcomes . example employer survey asking assessment school learners performed internships relative learners peer institutions indirect measure . however learner completes internship degree credit assessed company individual performance feedback provided school direct measure . examples indirect assessments include exit surveys alumni surveys advisory council feedback employer input career fair feedback inspection course documentation external'}, {'nodeId': '4:5b5cb85e-c914-44d8-85f7-ef03ba90eb99:148', 'text': 'school direct measure . examples indirect assessments include exit surveys alumni surveys advisory council feedback employer input career fair feedback inspection course documentation external outcome measures focus groups interviews . direct assessments indirect assessment supportive competency goals particular degree program including successful achievement competency goals . executive education refers educational activities typically lead degree educational objectives level consistent higher'}, {'nodeId': '4:5b5cb85e-c914-44d8-85f7-ef03ba90eb99:149', 'text': 'particular degree program including successful achievement competency goals . executive education refers educational activities typically lead degree educational objectives level consistent higher education business . examples include corporate training professional development seminars . executive education programs degree granting normal assurance learning processes standards apply . competencies throughout standard understood broadly encompass knowledge skills abilities . microlearning'}, {'nodeId': '4:5b5cb85e-c914-44d8-85f7-ef03ba90eb99:150', 'text': 'education programs degree granting normal assurance learning processes standards apply . competencies throughout standard understood broadly encompass knowledge skills abilities . microlearning credentials certifications granted assessment mastery specialized competency . credentials may sometimes stackable combined collectively satisfy requirements degree program . minors certificates badges common microlearning credentials .'}, {'nodeId': '4:5b5cb85e-c914-44d8-85f7-ef03ba90eb99:152', 'text': 'standard 6 learner progression 6.1 school policies procedures admissions acceptance transfer credit academic progression toward degree completion support career development clear effective consistently applied aligned school mission strategies expected outcomes . 6.2 post graduation success consistent school mission strategies expected outcomes . public disclosure academic program quality supporting learner progression post graduation success occurs current consistent basis .'}, {'nodeId': '4:5b5cb85e-c914-44d8-85f7-ef03ba90eb99:154', 'text': '6.1 admissions progression degree completion career development support policies procedures related degree program admission clear effective transparent aligned school mission strategies expected outcomes . school actively seeks attract retain diverse learners consistent aacsb guiding principle 9. normally graduate business degree program admission criteria include expectation applicants earn bachelor degree prior admission graduate program . school prepared document exceptions support quality .'}, {'nodeId': '4:5b5cb85e-c914-44d8-85f7-ef03ba90eb99:155', 'text': 'graduate business degree program admission criteria include expectation applicants earn bachelor degree prior admission graduate program . school prepared document exceptions support quality . school defines broadly disseminates policies evaluating awarding accepting transfer credits courses institutions . policies ensure academic work accepted institutions comparable academic work required school degree programs . apart collaborative provision programs normally majority learning business'}, {'nodeId': '4:5b5cb85e-c914-44d8-85f7-ef03ba90eb99:156', 'text': '. policies ensure academic work accepted institutions comparable academic work required school degree programs . apart collaborative provision programs normally majority learning business disciplines count toward degree fulfillment determined credits contact hours metrics earned institution awarding degree . context business disciplines include general education courses include courses major required business courses business electives . 17 collaborative provision programs formal agreements'}, {'nodeId': '4:5b5cb85e-c914-44d8-85f7-ef03ba90eb99:157', 'text': 'degree . context business disciplines include general education courses include courses major required business courses business electives . 17 collaborative provision programs formal agreements accredited school partner school . treatment programs discussed collaborative provisions transfer credit section standards . school prepares supports learners ensure academic progression toward degree completion including clear effective academic performance standards processes consistent degree program'}, {'nodeId': '4:5b5cb85e-c914-44d8-85f7-ef03ba90eb99:158', 'text': 'section standards . school prepares supports learners ensure academic progression toward degree completion including clear effective academic performance standards processes consistent degree program competency goals . high quality advising services available learners consistent timely basis . strategies employed identify provide intervention support learners progressing adequately including underrepresented otherwise risk populations . learner support services including academic assistance'}, {'nodeId': '4:5b5cb85e-c914-44d8-85f7-ef03ba90eb99:159', 'text': 'employed identify provide intervention support learners progressing adequately including underrepresented otherwise risk populations . learner support services including academic assistance advising career advising placement alumni relations public relations fundraising admissions well mission related activities appropriate available high degree service mindedness appropriate consumers services . school provides effective career development support learners graduates consistent degree program'}, {'nodeId': '4:5b5cb85e-c914-44d8-85f7-ef03ba90eb99:160', 'text': 'activities appropriate available high degree service mindedness appropriate consumers services . school provides effective career development support learners graduates consistent degree program expectations school mission strategies expected outcomes . 6.2 academic program quality post graduation success school post graduation employment data graduate school attendance data measures available school indicate post graduate success . addition public disclosure information required national'}, {'nodeId': '4:5b5cb85e-c914-44d8-85f7-ef03ba90eb99:161', 'text': 'success school post graduation employment data graduate school attendance data measures available school indicate post graduate success . addition public disclosure information required national regional accreditors schools provide readily accessible reliable easily understandable information public performance business learners including learner achievement information overall program quality determined school .'}, {'nodeId': '4:5b5cb85e-c914-44d8-85f7-ef03ba90eb99:163', 'text': '6.1 admissions progression degree completion career development support describe admissions policies processes demonstrate consistent program expectations aligned school mission transparent participants . describe strategies place attract retain diverse learners consistent guiding principle 9. exception school admission progression policies made provide justification basis . describe school policies governing acceptance transfer credit quality assured transfer credit . describe academic advising'}, {'nodeId': '4:5b5cb85e-c914-44d8-85f7-ef03ba90eb99:164', 'text': 'school admission progression policies made provide justification basis . describe school policies governing acceptance transfer credit quality assured transfer credit . describe academic advising services available learners . describe appropriate interventions undertaken learners failing thrive progress toward successful timely degree completion including learners underrepresented otherwise risk populations . describe information technologies used support admissions academic progression career'}, {'nodeId': '4:5b5cb85e-c914-44d8-85f7-ef03ba90eb99:165', 'text': 'toward successful timely degree completion including learners underrepresented otherwise risk populations . describe information technologies used support admissions academic progression career development . describe processes place support career development activities career counseling career days workshops career fairs etc . 6.2 academic program quality post graduation success document post graduate learner success . success may defined variety outcomes besides traditional employment'}, {'nodeId': '4:5b5cb85e-c914-44d8-85f7-ef03ba90eb99:166', 'text': 'days workshops career fairs etc . 6.2 academic program quality post graduation success document post graduate learner success . success may defined variety outcomes besides traditional employment business field . examples information include limited graduation rates job placement outcomes certification licensure exam results employment advancement internships entrepreneurial activity activity positive societal impact well case examples successful graduates . schools provide relevant timely'}, {'nodeId': '4:5b5cb85e-c914-44d8-85f7-ef03ba90eb99:167', 'text': 'licensure exam results employment advancement internships entrepreneurial activity activity positive societal impact well case examples successful graduates . schools provide relevant timely public disclosure data documenting overall academic program quality . information available accredited unit website clearly displayed distinguishable university amalgamated data . disclosures prescriptive informed school mission strategies expected outcomes may include post graduate learner success outcomes'}, {'nodeId': '4:5b5cb85e-c914-44d8-85f7-ef03ba90eb99:168', 'text': 'clearly displayed distinguishable university amalgamated data . disclosures prescriptive informed school mission strategies expected outcomes may include post graduate learner success outcomes admission data retention time degree data diversity inclusion advances particular program emphases student learning outcomes rankings data experiential learning opportunities meaningful societal impact mission specific outcomes .'}, {'nodeId': '4:5b5cb85e-c914-44d8-85f7-ef03ba90eb99:170', 'text': 'none'}, {'nodeId': '4:5b5cb85e-c914-44d8-85f7-ef03ba90eb99:172', 'text': 'standard 7 teaching effectiveness impact 7.1 school systematic multi measure assessment process ensuring quality teaching impact learner success . 7.2 school development activities place enhance faculty teaching ensure teachers deliver curriculum current relevant forwardlooking globally oriented innovative aligned program competency goals . 7.3 faculty current discipline pedagogical methods including teaching diverse perspectives inclusive environment . faculty demonstrate lifelong learning'}, {'nodeId': '4:5b5cb85e-c914-44d8-85f7-ef03ba90eb99:173', 'text': 'innovative aligned program competency goals . 7.3 faculty current discipline pedagogical methods including teaching diverse perspectives inclusive environment . faculty demonstrate lifelong learning mindset supported promoted school . 7.4 school demonstrates teaching impact learner success learner satisfaction affirmations teaching expertise'}, {'nodeId': '4:5b5cb85e-c914-44d8-85f7-ef03ba90eb99:175', 'text': '7.1 teaching effectiveness school systematic process evaluating teaching effectiveness integral component faculty professional staff performance review process . process include multiple methods evaluating teaching well expectations continuous improvement . school methods practices related teaching effectiveness clearly linked school mission strategies expected outcomes . 7.2 support teaching effectiveness school provides development activities focused teaching enhancement incentives'}, {'nodeId': '4:5b5cb85e-c914-44d8-85f7-ef03ba90eb99:176', 'text': 'teaching effectiveness clearly linked school mission strategies expected outcomes . 7.2 support teaching effectiveness school provides development activities focused teaching enhancement incentives continuously improve teaching effectiveness faculty teaching responsibilities across delivery modes . 7.3 faculty preparedness faculty adequately prepared teach various modalities pedagogies degree programs . faculty demonstrate lifelong learning mindset respect domain expertise . means faculty take'}, {'nodeId': '4:5b5cb85e-c914-44d8-85f7-ef03ba90eb99:177', 'text': '7.3 faculty preparedness faculty adequately prepared teach various modalities pedagogies degree programs . faculty demonstrate lifelong learning mindset respect domain expertise . means faculty take responsibility continuing professional development maintain currency relevancy field expertise area teaching embrace idea never stop learning . faculty adequately prepared teach diverse perspectives inclusive environment . 53 2020 guiding principles standards business accreditation 7.4 teaching'}, {'nodeId': '4:5b5cb85e-c914-44d8-85f7-ef03ba90eb99:178', 'text': 'teaching embrace idea never stop learning . faculty adequately prepared teach diverse perspectives inclusive environment . 53 2020 guiding principles standards business accreditation 7.4 teaching impact teaching effectiveness results impact demonstrated learner success satisfaction . impact teaching also demonstrated faculty credentials awards certifications well dissemination expertise via avenues may include seminars scholarship teaching learning peer mentoring .'}, {'nodeId': '4:5b5cb85e-c914-44d8-85f7-ef03ba90eb99:180', 'text': '7.1 teaching effectiveness describe school evaluates teaching performance across various program instructional models . discuss school ensures faculty engaged different teaching learning models competencies required achieving high quality . 7.2 support teaching effectiveness describe continuous improvement development initiatives faculty focus teaching enhancement learning diverse learner population . document faculty participation teaching enhancement initiatives past five years . describe'}, {'nodeId': '4:5b5cb85e-c914-44d8-85f7-ef03ba90eb99:181', 'text': 'improvement development initiatives faculty focus teaching enhancement learning diverse learner population . document faculty participation teaching enhancement initiatives past five years . describe incentives faculty continuously improve teaching effectiveness . may include performance evaluation processes awards pedagogy grants support attend teaching conferences recognitions support . describe school process remediating ineffective teaching school deems necessary . describe faculty'}, {'nodeId': '4:5b5cb85e-c914-44d8-85f7-ef03ba90eb99:182', 'text': 'processes awards pedagogy grants support attend teaching conferences recognitions support . describe school process remediating ineffective teaching school deems necessary . describe faculty development activities designed ensure faculty current using high quality pedagogy . 7.3 faculty preparedness describe school supports faculty preparedness deliver instruction across various degree program modalities pedagogies . describe faculty prepared teach inclusive environment including workshops'}, {'nodeId': '4:5b5cb85e-c914-44d8-85f7-ef03ba90eb99:183', 'text': 'describe school supports faculty preparedness deliver instruction across various degree program modalities pedagogies . describe faculty prepared teach inclusive environment including workshops trainings faculty school may participated . describe faculty demonstrate lifelong learning mindset school supports lifelong learning goal . describe faculty remain current relevant area teaching . 7.4 teaching impact summarize awards recognitions faculty received outstanding teaching professional support'}, {'nodeId': '4:5b5cb85e-c914-44d8-85f7-ef03ba90eb99:184', 'text': 'supports lifelong learning goal . describe faculty remain current relevant area teaching . 7.4 teaching impact summarize awards recognitions faculty received outstanding teaching professional support learning . document innovative effective teaching practices significant positive impact learning . provide exemplars learner success either respect school current learners alumni . document examples teaching impact results learner employer satisfaction surveys teaching awards internal external'}, {'nodeId': '4:5b5cb85e-c914-44d8-85f7-ef03ba90eb99:185', 'text': '. provide exemplars learner success either respect school current learners alumni . document examples teaching impact results learner employer satisfaction surveys teaching awards internal external teaching credentials certifications scholarship teaching learning mentoring participation teaching seminars presentations teaching conferences .'}, {'nodeId': '4:5b5cb85e-c914-44d8-85f7-ef03ba90eb99:187', 'text': 'none'}, {'nodeId': '4:5b5cb85e-c914-44d8-85f7-ef03ba90eb99:189', 'text': 'standard 8 impact scholarship 8.1 school faculty collectively produce high quality impactful intellectual contributions time develop mission consistent areas thought leadership school . 8.2 school collaborates wide variety external stakeholders create transfer credible relevant timely knowledge informs theory policy practice business develop mission consistent areas thought leadership school . 8.3 school portfolio intellectual contributions contains exemplars basic applied pedagogical research'}, {'nodeId': '4:5b5cb85e-c914-44d8-85f7-ef03ba90eb99:190', 'text': 'theory policy practice business develop mission consistent areas thought leadership school . 8.3 school portfolio intellectual contributions contains exemplars basic applied pedagogical research positive societal impact consistent school mission .'}, {'nodeId': '4:5b5cb85e-c914-44d8-85f7-ef03ba90eb99:192', 'text': '8.1 production high quality impactful intellectual contributions school place processes systems resources support production quality intellectual contributions assess impact . school intellectual contributions impact theory practice teaching business . school five year portfolio intellectual contributions . distribution intellectual contributions across categories portfolio aligned school mission strategy aspirations reputation thought leader . types intellectual contributions vary across'}, {'nodeId': '4:5b5cb85e-c914-44d8-85f7-ef03ba90eb99:193', 'text': '. distribution intellectual contributions across categories portfolio aligned school mission strategy aspirations reputation thought leader . types intellectual contributions vary across schools missions vary . school identifies area thought leadership outlines goals contributions describes achievements last five years well plans next five years . examples areas could evolve thought leadership include organizing holding regional national international academic practitioner conferences holding'}, {'nodeId': '4:5b5cb85e-c914-44d8-85f7-ef03ba90eb99:194', 'text': 'last five years well plans next five years . examples areas could evolve thought leadership include organizing holding regional national international academic practitioner conferences holding meetings academic professional organizations publishing working paper series publishing academic journals establishing case study clearinghouse forming research relationships private sector nonprofit government organizations . one important type intellectual contribution publication high quality peer'}, {'nodeId': '4:5b5cb85e-c914-44d8-85f7-ef03ba90eb99:195', 'text': 'establishing case study clearinghouse forming research relationships private sector nonprofit government organizations . one important type intellectual contribution publication high quality peer reviewed journal articles . production peer review journal articles key way faculty maintain currency expertise field . thus schools expected high quality peer reviewed journal articles portfolio intellectual contributions . type peer review journal articles aligned school mission . schools primarily'}, {'nodeId': '4:5b5cb85e-c914-44d8-85f7-ef03ba90eb99:196', 'text': 'expertise field . thus schools expected high quality peer reviewed journal articles portfolio intellectual contributions . type peer review journal articles aligned school mission . schools primarily teaching missions may produce high quality applied pedagogical research schools offering research master doctoral degrees expected produce greater percentage high quality basic research . significant cross section faculty school discipline engaged production intellectual contributions relying'}, {'nodeId': '4:5b5cb85e-c914-44d8-85f7-ef03ba90eb99:197', 'text': 'master doctoral degrees expected produce greater percentage high quality basic research . significant cross section faculty school discipline engaged production intellectual contributions relying heavily participating faculty . school assesses evaluates quality intellectual contributions clarity future direction . school policies guard publishing predatory journals . 8.2 collaboration stakeholders systems processes resources place support engagement relevant external stakeholders school units'}, {'nodeId': '4:5b5cb85e-c914-44d8-85f7-ef03ba90eb99:198', 'text': 'direction . school policies guard publishing predatory journals . 8.2 collaboration stakeholders systems processes resources place support engagement relevant external stakeholders school units within school faculty learners . engagements produce credible knowledge contribute new venture creation create commercialization opportunities ultimately useful external communities apply practice business address real issues society . collaborations stakeholders contribute school reputation thought'}, {'nodeId': '4:5b5cb85e-c914-44d8-85f7-ef03ba90eb99:199', 'text': 'create commercialization opportunities ultimately useful external communities apply practice business address real issues society . collaborations stakeholders contribute school reputation thought leader desired area . 8.3 societal impact intellectual contributions portfolio intellectual contributions contains exemplars research publications positive societal impact consistent school mission strategic plan . may include interdisciplinary research undertaken business school researchers academics'}, {'nodeId': '4:5b5cb85e-c914-44d8-85f7-ef03ba90eb99:200', 'text': 'contains exemplars research publications positive societal impact consistent school mission strategic plan . may include interdisciplinary research undertaken business school researchers academics non business disciplines .'}, {'nodeId': '4:5b5cb85e-c914-44d8-85f7-ef03ba90eb99:202', 'text': '8.1 production high quality impactful intellectual contributions using table 8 1 provide five year portfolio evidence summarizes intellectual contributions school aggregated way reflects disciplines school . schools provide supplemental information discretion present robust view intellectual contributions . table 8 1 provide total number intellectual contributions produced faculty employed school year record . intellectual contributions identified portfolio type percentage faculty producing .'}, {'nodeId': '4:5b5cb85e-c914-44d8-85f7-ef03ba90eb99:203', 'text': '. table 8 1 provide total number intellectual contributions produced faculty employed school year record . intellectual contributions identified portfolio type percentage faculty producing . table organized using disciplines reflected table 3 1. table 8 1 b outline intellectual contributions aligned school mission strategies expected outcomes . table 8 1 c identify school measures quality intellectual contributions apply measures analyze five year portfolio . include evaluation current future'}, {'nodeId': '4:5b5cb85e-c914-44d8-85f7-ef03ba90eb99:204', 'text': 'school mission strategies expected outcomes . table 8 1 c identify school measures quality intellectual contributions apply measures analyze five year portfolio . include evaluation current future desired states changes implemented result . table 8 1 using qualitative quantitative metrics provide analysis impact made school portfolio intellectual contributions . clearly outline school supports encourages faculty produce intellectual contributions . include outline financial support incentives'}, {'nodeId': '4:5b5cb85e-c914-44d8-85f7-ef03ba90eb99:205', 'text': 'analysis impact made school portfolio intellectual contributions . clearly outline school supports encourages faculty produce intellectual contributions . include outline financial support incentives rewards performance expectations development opportunities initiatives ensure faculty developed supported develop quality intellectual contributions . describe school processes identify high quality research scholarship including description school guards promoting publications predatory journals .'}, {'nodeId': '4:5b5cb85e-c914-44d8-85f7-ef03ba90eb99:206', 'text': 'develop quality intellectual contributions . describe school processes identify high quality research scholarship including description school guards promoting publications predatory journals . identify thought leadership aspiration school evaluate progress toward goal well plans place next five years . 8.2 collaboration stakeholders outline processes systems resources place facilitate engagement school units within school faculty learners relevant external stakeholders . describe engagements'}, {'nodeId': '4:5b5cb85e-c914-44d8-85f7-ef03ba90eb99:207', 'text': '. 8.2 collaboration stakeholders outline processes systems resources place facilitate engagement school units within school faculty learners relevant external stakeholders . describe engagements encourage creation co creation communication relevant timely knowledge . 8.3 societal impact intellectual contributions table 8 1 ii describe exemplars scholarship positive societal impact component thought leadership .'}, {'nodeId': '4:5b5cb85e-c914-44d8-85f7-ef03ba90eb99:209', 'text': 'society context refers external stakeholders relevance business school given mission . examples include nonprofit private sector organizations business government community groups broader social economic business physical environments . external stakeholders broader environments may local regional national international scale . thought leadership evidenced business school recognized highly respected authority area areas expertise thus sought relevant stakeholders . aligned school mission'}, {'nodeId': '4:5b5cb85e-c914-44d8-85f7-ef03ba90eb99:210', 'text': 'national international scale . thought leadership evidenced business school recognized highly respected authority area areas expertise thus sought relevant stakeholders . aligned school mission stakeholders include learners business academics government nonprofits non governmental organizations broader society . predatory journals publishers defined entities prioritize self interest expense scholarship characterized false misleading information deviation best editorial publication practices'}, {'nodeId': '4:5b5cb85e-c914-44d8-85f7-ef03ba90eb99:211', 'text': 'broader society . predatory journals publishers defined entities prioritize self interest expense scholarship characterized false misleading information deviation best editorial publication practices lack transparency use aggressive indiscriminate solicitation practices . 18 definition adopted predatory journals definition defence . nature 2019 december 11 . retrieved https www.nature.com articles d41586 019 03759 intellectual contributions original works intended advance theory practice'}, {'nodeId': '4:5b5cb85e-c914-44d8-85f7-ef03ba90eb99:212', 'text': 'predatory journals definition defence . nature 2019 december 11 . retrieved https www.nature.com articles d41586 019 03759 intellectual contributions original works intended advance theory practice teaching business . intellectual contributions may potential address issues importance broader society . contributions scholarly sense based generally accepted academic research principles disseminated appropriate audiences . school portfolio intellectual contributions may fall following categories'}, {'nodeId': '4:5b5cb85e-c914-44d8-85f7-ef03ba90eb99:213', 'text': '. contributions scholarly sense based generally accepted academic research principles disseminated appropriate audiences . school portfolio intellectual contributions may fall following categories basic discovery scholarship directed toward increasing knowledge base development theory . applied integrative application scholarship draws basic research uses accumulated theories knowledge methods techniques solve real world problems issues associated practice . teaching learning scholarship'}, {'nodeId': '4:5b5cb85e-c914-44d8-85f7-ef03ba90eb99:214', 'text': 'integrative application scholarship draws basic research uses accumulated theories knowledge methods techniques solve real world problems issues associated practice . teaching learning scholarship explores theory methods teaching advances new understandings insights content methods impact learning behavior . addition categorization intellectual contributions within portfolio basic applied teaching learning related schools characterize intellectual contributions according level peer expert'}, {'nodeId': '4:5b5cb85e-c914-44d8-85f7-ef03ba90eb99:215', 'text': 'behavior . addition categorization intellectual contributions within portfolio basic applied teaching learning related schools characterize intellectual contributions according level peer expert review occurred intellectual contributions appearing portfolio . purposes peer reviewed intellectual contributions subject scrutiny evaluation others recognized subject matter expertise field normally similar competence producing outputs . component separated three parts peer reviewed journal articles'}, {'nodeId': '4:5b5cb85e-c914-44d8-85f7-ef03ba90eb99:216', 'text': 'subject scrutiny evaluation others recognized subject matter expertise field normally similar competence producing outputs . component separated three parts peer reviewed journal articles scholarly publications submitted critique evaluation one academics expertise discipline methodology subject matter . publications law reviews may included category . peer editorial reviewed intellectual contributions include forms quality assurance either peers subject matter experts recognized particular'}, {'nodeId': '4:5b5cb85e-c914-44d8-85f7-ef03ba90eb99:217', 'text': 'matter . publications law reviews may included category . peer editorial reviewed intellectual contributions include forms quality assurance either peers subject matter experts recognized particular practical academic expertise field . examples include papers submitted academic conference undergo peer review selected conference presentation publication conference proceedings . articles published practitioner industry publications included category sufficiently reviewed subject matter experts .'}, {'nodeId': '4:5b5cb85e-c914-44d8-85f7-ef03ba90eb99:218', 'text': 'review selected conference presentation publication conference proceedings . articles published practitioner industry publications included category sufficiently reviewed subject matter experts . intellectual contributions journal articles papers sufficiently influential public policy government industry included category sufficiently reviewed subject matter experts . simply writing paper output consulting work render appropriate category . review validation subject matter experts determining'}, {'nodeId': '4:5b5cb85e-c914-44d8-85f7-ef03ba90eb99:219', 'text': 'included category sufficiently reviewed subject matter experts . simply writing paper output consulting work render appropriate category . review validation subject matter experts determining factor whether intellectual contribution belongs category third category intellectual contributions . intellectual contributions include outputs validated peers recognized subject matter experts . contributions include wide variety outputs presentations academic professional meetings research workshops led'}, {'nodeId': '4:5b5cb85e-c914-44d8-85f7-ef03ba90eb99:220', 'text': 'contributions include outputs validated peers recognized subject matter experts . contributions include wide variety outputs presentations academic professional meetings research workshops led invited talks etc .'}, {'nodeId': '4:5b5cb85e-c914-44d8-85f7-ef03ba90eb99:222', 'text': 'standard 9 engagement societal impact 9.1 school demonstrates positive societal impact internal external initiatives activities consistent school mission strategies expected outcomes .'}, {'nodeId': '4:5b5cb85e-c914-44d8-85f7-ef03ba90eb99:224', 'text': '9.1 positive societal impact school range engagements external stakeholders core activities align support mission strategies expected outcomes well aspiration positive impact society . activities initiatives internal external place contribute school meeting societal impact aspiration outlined standard 1. progress toward meeting school aspiration societal impact previous five years apparent plans advancing efforts next five years . time expected school activities societal impact generated'}, {'nodeId': '4:5b5cb85e-c914-44d8-85f7-ef03ba90eb99:225', 'text': 'standard 1. progress toward meeting school aspiration societal impact previous five years apparent plans advancing efforts next five years . time expected school activities societal impact generated increasing proportion school faculty learners organizational units . school evaluates societal impact consistent mission including identification aspiration area significant exemplars success .'}, {'nodeId': '4:5b5cb85e-c914-44d8-85f7-ef03ba90eb99:227', 'text': '9.1 positive societal impact outline major relationships external stakeholders school units within school faculty learners place rationale relationships intended outcomes . explain engagement business broader society aligns supports school mission strategies expected outcomes well aspiration positive societal impact . describe school aspiration societal impact explicitly outline measures intends measure progress area . include evaluation school societal impact recent accreditation cycle'}, {'nodeId': '4:5b5cb85e-c914-44d8-85f7-ef03ba90eb99:228', 'text': 'positive societal impact . describe school aspiration societal impact explicitly outline measures intends measure progress area . include evaluation school societal impact recent accreditation cycle including identification aspiration area exemplars societal impact arising engagement non academic external stakeholders learners faculty teams centers supporting external communities enhancing practice business addressing real world problems improving society . include assessment effective school'}, {'nodeId': '4:5b5cb85e-c914-44d8-85f7-ef03ba90eb99:229', 'text': 'external stakeholders learners faculty teams centers supporting external communities enhancing practice business addressing real world problems improving society . include assessment effective school toward desired impact plans activities next accreditation cycle . table 9 1 used school discretion categorize societal impact related outcomes including pertaining standards 1 4 8 9. optional table used table contents reflect outcomes impact activities initiatives opposed simple description'}, {'nodeId': '4:5b5cb85e-c914-44d8-85f7-ef03ba90eb99:230', 'text': 'categorize societal impact related outcomes including pertaining standards 1 4 8 9. optional table used table contents reflect outcomes impact activities initiatives opposed simple description activities initiatives . outcomes impact activities paramount . school may use u.n. sustainable development goals label choice indicate chosen focus area .'}]\n"
     ]
    }
   ],
   "source": [
    "print(len(new_result))\n",
    "print(new_result)"
   ]
  }
 ],
 "metadata": {
  "kernelspec": {
   "display_name": "myenv",
   "language": "python",
   "name": "python3"
  },
  "language_info": {
   "codemirror_mode": {
    "name": "ipython",
    "version": 3
   },
   "file_extension": ".py",
   "mimetype": "text/x-python",
   "name": "python",
   "nbconvert_exporter": "python",
   "pygments_lexer": "ipython3",
   "version": "3.10.6"
  }
 },
 "nbformat": 4,
 "nbformat_minor": 2
}
