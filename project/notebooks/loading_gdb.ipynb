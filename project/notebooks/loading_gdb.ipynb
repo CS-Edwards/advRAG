{
 "cells": [
  {
   "cell_type": "code",
   "execution_count": 1,
   "metadata": {},
   "outputs": [
    {
     "data": {
      "text/plain": [
       "'3.10.6 (tags/v3.10.6:9c7b4bd, Aug  1 2022, 21:53:49) [MSC v.1932 64 bit (AMD64)]'"
      ]
     },
     "execution_count": 1,
     "metadata": {},
     "output_type": "execute_result"
    }
   ],
   "source": [
    "import sys\n",
    "sys.version"
   ]
  },
  {
   "cell_type": "code",
   "execution_count": 2,
   "metadata": {},
   "outputs": [
    {
     "name": "stderr",
     "output_type": "stream",
     "text": [
      "\n",
      "[notice] A new release of pip available: 22.2.1 -> 24.0\n",
      "[notice] To update, run: python.exe -m pip install --upgrade pip\n",
      "\n",
      "[notice] A new release of pip available: 22.2.1 -> 24.0\n",
      "[notice] To update, run: python.exe -m pip install --upgrade pip\n",
      "\n",
      "[notice] A new release of pip available: 22.2.1 -> 24.0\n",
      "[notice] To update, run: python.exe -m pip install --upgrade pip\n"
     ]
    }
   ],
   "source": [
    "! pip install -q python-dotenv\n",
    "! pip install -q neo4j\n",
    "! pip install -q langchain"
   ]
  },
  {
   "cell_type": "code",
   "execution_count": 3,
   "metadata": {},
   "outputs": [],
   "source": [
    "from neo4j import GraphDatabase\n",
    "import json"
   ]
  },
  {
   "cell_type": "code",
   "execution_count": 4,
   "metadata": {},
   "outputs": [
    {
     "name": "stderr",
     "output_type": "stream",
     "text": [
      "\n",
      "[notice] A new release of pip available: 22.2.1 -> 24.0\n",
      "[notice] To update, run: python.exe -m pip install --upgrade pip\n"
     ]
    }
   ],
   "source": [
    "! pip install -q langchain-openai"
   ]
  },
  {
   "cell_type": "code",
   "execution_count": 5,
   "metadata": {},
   "outputs": [],
   "source": [
    "from langchain_community.graphs import Neo4jGraph\n",
    "from langchain_community.vectorstores import Neo4jVector\n",
    "from langchain_openai import OpenAIEmbeddings"
   ]
  },
  {
   "cell_type": "code",
   "execution_count": 6,
   "metadata": {},
   "outputs": [],
   "source": [
    "import dotenv\n",
    "import os\n",
    "\n",
    "dotenv.load_dotenv()\n",
    "\n",
    "os.environ[\"NEO4J_URI\"] = os.getenv(\"URL\")\n",
    "os.environ[\"NEO4J_USERNAME\"]= os.getenv(\"USERNAME\")\n",
    "os.environ[\"NEO4J_PASSWORD\"] = os.getenv(\"PASSWORD\")\n",
    "os.environ[\"OPENAI_API_KEY\"] = os.getenv(\"OPENAIKEY\")"
   ]
  },
  {
   "cell_type": "code",
   "execution_count": 7,
   "metadata": {},
   "outputs": [
    {
     "name": "stdout",
     "output_type": "stream",
     "text": [
      "<class 'list'>\n"
     ]
    }
   ],
   "source": [
    "path =r'..\\data\\aacsb\\processed\\SECTIONS_processed_2024-04-04_16-24-04.json'\n",
    "json_file = json.load(open(path))\n",
    "print(type(json_file)) #list"
   ]
  },
  {
   "cell_type": "code",
   "execution_count": 8,
   "metadata": {},
   "outputs": [
    {
     "name": "stdout",
     "output_type": "stream",
     "text": [
      "Section_Num :1\n",
      "Section_Title :Strategic Managemend and Innovation\n",
      "Section_Title, val_length: 35\n",
      "Section_Description :strategic management encompasses entire range activities school engages fulfill mission informs school resource management . primary documentation strategic plan accredited schools expected principal artifact peer review team examine . strategic plan provides basis composition school intellectual contribution portfolio identification peer groups school aspirations . strategic plan identifies school mission strategic initiatives goals objectives tactics metrics success created input key stakeholders . ensuring financial vitality operational strategic perspective also critical part strategic management . additionally important component aacsb accredited institution school contribute meaningfully connecting business education business practice fostering promoting societal impact consistent aacsb vision . section provides standards guide business schools process meaningful strategic management including standards around creation maintenance strategic plan management resources ensuring overall financial health accredited school unit .\n",
      "Section_Description, val_length: 1045\n",
      "Section_Num :2\n",
      "Section_Title :Learner Success\n",
      "Section_Title, val_length: 15\n",
      "Section_Description :section accreditation standards designed ensure success learners school degree programs learning experiences provided school . standards section address critical areas teaching learning . high quality business schools processes ensuring learners acquire competencies achieve successful outcomes line mission school develop lifelong learning mindset ensure continued success . processes include curriculum program management informed systematic assurance learning . schools assessment processes portfolio assurance learning tools ensure currency relevancy business curriculum . competency goals designed assessed maximize potential achieving expected outcomes . teaching linked competency goals processes place ensure faculty delivering high quality educational experience . curricula extracurricular programs innovative foster engagement among learners learners faculty business practice .\n",
      "Section_Description, val_length: 889\n",
      "Section_Num :3\n",
      "Section_Title :Though Leadership, Engagement, and Societal Impact\n",
      "Section_Title, val_length: 50\n",
      "Section_Description :defining feature quality business schools making significant difference educational activities thought leadership engagement external stakeholders . quality schools create disseminate intellectual contributions impact theory practice teaching business positive impact society . often contributions result engagement broader society manner facilitates co creation knowledge ensures relevance usefulness impact school intellectual contributions . achieving impact requires school clear focus direction thought leadership aligns mission . high quality schools positive societal impact addressing broader social economic business physical environment issues could local regional national international scale . impact results internal external initiatives aligns concept business schools force good society . within context interdisciplinary work becomes important means achieving goals great impact society . thus interdisciplinary work encouraged applauded . section contains two standards . first standard focuses production dissemination impact school thought leadership relates scholarship second assesses school engagement impact society .\n",
      "Section_Description, val_length: 1140\n"
     ]
    }
   ],
   "source": [
    "for element in json_file:\n",
    "    for key,val in element.items():\n",
    "        print(f'{key} :{val}')\n",
    "\n",
    "        if type(val) is str:\n",
    "            print(f'{key}, val_length: {len(val)}')"
   ]
  },
  {
   "cell_type": "code",
   "execution_count": null,
   "metadata": {},
   "outputs": [],
   "source": [
    "section_query = \"\"\"\n",
    "MERGE(s:Section {sectionNum: $sectionsIn.Section_Num})\n",
    "    ON CREATE SET \n",
    "        s.title =  $sectionsIn.Section_Title,\n",
    "        s.description =  $sectionsIn.Section_Description, \n",
    "        s.nodeType = 'SECTION', \n",
    "        s.nodeCat = 'AACSB',\n",
    "        s.source = 'https://www.aacsb.edu/educators/accreditation/business-accreditation/aacsb-business-accreditation-standards',\n",
    "        s.year = 2020\n",
    "RETURN s\n",
    "\"\"\""
   ]
  },
  {
   "cell_type": "code",
   "execution_count": null,
   "metadata": {},
   "outputs": [],
   "source": [
    "#\n",
    "# Open Neo4j driver\n",
    "#\n",
    "\n",
    "# driver = GraphDatabase.driver(connectionURL, auth =(username,password))\n",
    "# print(driver.verify_connectivity())"
   ]
  },
  {
   "cell_type": "code",
   "execution_count": null,
   "metadata": {},
   "outputs": [],
   "source": [
    "#\n",
    "# Close Connetion to Neo4j\n",
    "#\n",
    "\n",
    "# driver.close()\n",
    "# print(driver.verify_connectivity())"
   ]
  },
  {
   "cell_type": "code",
   "execution_count": 9,
   "metadata": {},
   "outputs": [],
   "source": [
    "#\n",
    "# Neo4j with LangChain wrapper\n",
    "# [ERROR RESOLVED w/ APOC PLUGIN ENABLED]\n",
    "#\n",
    "\n",
    "graphDB = Neo4jGraph()"
   ]
  },
  {
   "cell_type": "code",
   "execution_count": 10,
   "metadata": {},
   "outputs": [],
   "source": [
    "section_1 = json_file[0]"
   ]
  },
  {
   "cell_type": "code",
   "execution_count": 11,
   "metadata": {},
   "outputs": [
    {
     "name": "stdout",
     "output_type": "stream",
     "text": [
      "<class 'dict'>\n",
      "Section_Num <class 'int'>\n",
      "Section_Title <class 'str'>\n",
      "Section_Description <class 'str'>\n"
     ]
    }
   ],
   "source": [
    "print(type(section_1))\n",
    "\n",
    "for k,v in section_1.items():\n",
    "    print(k,type(v))\n"
   ]
  },
  {
   "cell_type": "code",
   "execution_count": null,
   "metadata": {},
   "outputs": [],
   "source": [
    "graphDB.query(section_query, \n",
    "         params={'sectionsIn':section_1})"
   ]
  },
  {
   "cell_type": "code",
   "execution_count": null,
   "metadata": {},
   "outputs": [],
   "source": [
    "#\n",
    "# No duplicatipe nodes\n",
    "#\n",
    "\n",
    "graphDB.query(\"\"\"\n",
    "CREATE CONSTRAINT unique_node IF NOT EXISTS \n",
    "    FOR (s:Session) REQUIRE s.sectionNum IS UNIQUE\n",
    "\"\"\")\n"
   ]
  },
  {
   "cell_type": "code",
   "execution_count": null,
   "metadata": {},
   "outputs": [],
   "source": [
    "node_count = 0\n",
    "for section in json_file:\n",
    "    print(f\"Creating `:Section ` node for section ID {section['Section_Num']}\")\n",
    "    graphDB.query(section_query, \n",
    "            params={\n",
    "                'sectionsIn': section\n",
    "            })\n",
    "    node_count += 1\n",
    "print(f\"Created {node_count} nodes\")"
   ]
  },
  {
   "cell_type": "code",
   "execution_count": 12,
   "metadata": {},
   "outputs": [
    {
     "data": {
      "text/plain": [
       "[{'COUNT(n)': 3}]"
      ]
     },
     "execution_count": 12,
     "metadata": {},
     "output_type": "execute_result"
    }
   ],
   "source": [
    "graphDB.query(\"\"\"\n",
    "MATCH (n)\n",
    "RETURN COUNT(n)\n",
    "\"\"\")"
   ]
  },
  {
   "cell_type": "code",
   "execution_count": 63,
   "metadata": {},
   "outputs": [],
   "source": [
    "#\n",
    "# STANDARDS NODES and child nodes\n",
    "# @TODO Link by -- parentStandardNum\n",
    "#\n",
    "\n",
    "standards_query = \"\"\"\n",
    "MERGE(s:Standard {standardNum: $standardsIn.Standard_num})\n",
    "    ON CREATE SET \n",
    "        s.parentSectionNum = $standardsIn.Section,\n",
    "        s.title =  $standardsIn.Standard_title,\n",
    "        s.text =  $standardsIn.Standard_formal, \n",
    "        s.nodeType = 'STANDARD', \n",
    "        s.nodeCat = 'AACSB',\n",
    "        s.source = 'https://www.aacsb.edu/educators/accreditation/business-accreditation/aacsb-business-accreditation-standards',\n",
    "        s.year = 2020,\n",
    "        s.definitionNodeID = NULL,\n",
    "        s.basisForJudgementNodeID=NULL,\n",
    "        s.supportingDocNodeID=NULL\n",
    "RETURN s, ID(s) as elementId\n",
    "\"\"\"\n",
    "\n",
    "definitions_query = \"\"\"\n",
    "MERGE(d:Definitions {parentStandardNum: $standardsIn.Standard_num})\n",
    "    ON CREATE SET \n",
    "        d.text = $standardsIn.Definitions,\n",
    "        d.standardTitle =  $standardsIn.Standard_title,\n",
    "        d.nodeType = 'DEFINITIONS', \n",
    "        d.nodeCat = 'AACSB'\n",
    "RETURN d, ID(d) as elementId\n",
    "\"\"\"\n",
    "\n",
    "basis_query = \"\"\"\n",
    "MERGE(b:Basis {parentStandardNum: $standardsIn.Standard_num})\n",
    "    ON CREATE SET \n",
    "        b.text = $standardsIn.Basis_for_judgement,\n",
    "        b.standardTitle =  $standardsIn.Standard_title,\n",
    "        b.nodeType = 'BASIS', \n",
    "        b.nodeCat = 'AACSB'\n",
    "RETURN b, ID(b) as elementId\n",
    "\"\"\"\n",
    "\n",
    "docs_query = \"\"\"\n",
    "MERGE(d:Documentation {parentStandardNum: $standardsIn.Standard_num})\n",
    "    ON CREATE SET \n",
    "        d.text = $standardsIn.Supporting_docs,\n",
    "        d.standardTitle =  $standardsIn.Standard_title,\n",
    "        d.nodeType = 'DOCUMENTATION', \n",
    "        d.nodeCat = 'AACSB'\n",
    "RETURN d, ID(d) as elemendId\n",
    "\"\"\"\n",
    "\n"
   ]
  },
  {
   "cell_type": "code",
   "execution_count": 13,
   "metadata": {},
   "outputs": [
    {
     "name": "stdout",
     "output_type": "stream",
     "text": [
      "<class 'list'>\n"
     ]
    }
   ],
   "source": [
    "#\n",
    "# Read in Standards JSON\n",
    "#\n",
    "\n",
    "path =r'..\\data\\aacsb\\processed\\STANDARDS_2024-04-04_13-21-46.json'\n",
    "json_file = json.load(open(path))\n",
    "print(type(json_file)) #list"
   ]
  },
  {
   "cell_type": "code",
   "execution_count": 14,
   "metadata": {},
   "outputs": [
    {
     "name": "stdout",
     "output_type": "stream",
     "text": [
      "<class 'dict'>\n",
      "Section <class 'int'>\n",
      "Standard_num <class 'int'>\n",
      "Standard_title <class 'str'>\n",
      "Standard_formal <class 'str'>\n",
      "Definitions <class 'str'>\n",
      "Basis_for_judgement <class 'str'>\n",
      "Supporting_docs <class 'str'>\n"
     ]
    }
   ],
   "source": [
    "standard_1 = json_file[0]\n",
    "print(type(standard_1))\n",
    "\n",
    "for k,v in standard_1.items():\n",
    "    print(k,type(v))"
   ]
  },
  {
   "cell_type": "code",
   "execution_count": 32,
   "metadata": {},
   "outputs": [
    {
     "name": "stdout",
     "output_type": "stream",
     "text": [
      "<class 'str'>\n",
      "1.1 maintenance strategic plan school mission identifies attributes focus areas priorities indicate school positions among community business schools . mission informs strategic plan reviewed updated periodically alignment school normal planning cycle . mission statement articulated part strategic plan . strategic plan developed refined engagement key internal external stakeholders . strategic plan available review peer review team demonstrates commitment continuous improvement regular review revision key stakeholder input . school strategic plan defines communities learners school intends serve including level degree programs school offers . school also identifies non degree programs corresponding communities intends serve . plan identifies strategies maintenance high quality learner experiences including current relevant curriculum strategies recruitment retention qualified faculty . school strategic plan clearly identifies type intellectual contributions expects faculty produce influence business education connect practice business consistent school stated mission . school strategic plan identifies strategies school intends provide thought leadership within intellectual contributions . 1.2 monitoring strategic plan school transparent conveyance strategic plan regularly reports progress toward achieving mission strategies expected outcomes internal external key stakeholders . school maintain ongoing risk analysis identifying potential risks could significantly impair ability fulfill school mission well contingency plan mitigating risks . 1.3 innovation strategic plan identifies school innovative thought action . 1.4 societal impact school strategic plan clearly identifies strategies including allocation human financial capital make positive impact society practice business diversity people ideas success graduates .\n",
      "1848\n"
     ]
    }
   ],
   "source": [
    "basis = standard_1['Basis_for_judgement']\n",
    "print(type(basis))\n",
    "print(basis)\n",
    "print(len(basis))"
   ]
  },
  {
   "cell_type": "code",
   "execution_count": 24,
   "metadata": {},
   "outputs": [],
   "source": [
    "from langchain.text_splitter import RecursiveCharacterTextSplitter\n",
    "\n",
    "#\n",
    "# @TODO change\n",
    "text_splitter = RecursiveCharacterTextSplitter(\n",
    "    chunk_size = 500, #changed from 2000\n",
    "    chunk_overlap  = 200,\n",
    "    length_function = len,\n",
    "    is_separator_regex = False,\n",
    ")"
   ]
  },
  {
   "cell_type": "code",
   "execution_count": 26,
   "metadata": {},
   "outputs": [],
   "source": [
    "basis_chunks = text_splitter.split_text(basis)"
   ]
  },
  {
   "cell_type": "code",
   "execution_count": 27,
   "metadata": {},
   "outputs": [
    {
     "name": "stdout",
     "output_type": "stream",
     "text": [
      "<class 'list'>\n",
      "1.1 maintenance strategic plan school mission identifies attributes focus areas priorities indicate school positions among community business schools . mission informs strategic plan reviewed updated periodically alignment school normal planning cycle . mission statement articulated part strategic plan . strategic plan developed refined engagement key internal external stakeholders . strategic plan available review peer review team demonstrates commitment continuous improvement regular review\n",
      "6\n"
     ]
    }
   ],
   "source": [
    "print(type(basis_chunks))\n",
    "print(basis_chunks[0])\n",
    "print(len(basis_chunks))"
   ]
  },
  {
   "cell_type": "code",
   "execution_count": 80,
   "metadata": {},
   "outputs": [],
   "source": [
    "\n",
    "\n",
    "from typing import List,Dict, Any\n",
    "\n",
    "\n",
    "def key_to_node_label(key: str) -> str:\n",
    "    \"\"\"\n",
    "    Maps a key to its corresponding node label based on a predefined mapping.\n",
    "\n",
    "    Args:\n",
    "        key (str): The key to be mapped to a node label.\n",
    "\n",
    "    Returns:\n",
    "        str: The corresponding node label if the key is found in the mapping, otherwise an empty string.\n",
    "    \"\"\"\n",
    "    key_node_map: Dict[str, str] = {\n",
    "        'Standard_formal': 'STANDARD',\n",
    "        'Definitions': 'DEFINITIONS',\n",
    "        'Basis_for_judgement': 'BASIS',\n",
    "        'Supporting_docs': 'DOCUMENTATION'\n",
    "    }\n",
    "    return key_node_map.get(key, '')  # Return empty string if key not found\n",
    "\n",
    "\n",
    "\n",
    "\n",
    "def split_text_from_node(text: str, key: str) -> List[Dict[str, Any]]:\n",
    "    \"\"\"\n",
    "    Splits the input text into chunks and generates metadata for each chunk.\n",
    "\n",
    "    Args:\n",
    "        text (str): The text to be split into chunks.\n",
    "        key (str): The key representing the type of data.\n",
    "\n",
    "    Returns:\n",
    "        List[Dict[str, Any]]: A list of dictionaries, where each dictionary represents a chunk\n",
    "            with metadata including the chunk text, parent type, and chunk sequence ID.\n",
    "    \"\"\"\n",
    "    chunks_with_metadata = []\n",
    "    chunks = text_splitter.split_text(text)\n",
    "\n",
    "    for i, chunk in enumerate(chunks):\n",
    "        #print(f'{i} : {chunk}')\n",
    "        chunks_with_metadata.append({\n",
    "            'type': 'dataChunk',\n",
    "            'text': chunk,\n",
    "            'parentType': key,\n",
    "            'chunk_sequence_id': i,\n",
    "        })\n",
    "    \n",
    "    return chunks_with_metadata\n",
    "\n",
    "\n",
    "\n",
    "def top_level(standard: Dict[str, Any]) -> Dict[str, Any]:\n",
    "    \"\"\"\n",
    "    Processes top-level items from the standard dictionary.\n",
    "\n",
    "    Args:\n",
    "        standard (Dict[str, Any]): The dictionary containing top-level items.\n",
    "\n",
    "    Returns:\n",
    "        Dict[str, Any]: A dictionary where keys are top-level item keys ('Standard_formal',\n",
    "            'Definitions', 'Basis_for_judgement', 'Supporting_docs'), and values are lists of\n",
    "            dictionaries representing chunks with metadata for each item.\n",
    "    \"\"\"\n",
    "    chunk_dict = {}\n",
    "\n",
    "    for key in ['Standard_formal', 'Definitions', 'Basis_for_judgement', 'Supporting_docs']:\n",
    "        #print(key)\n",
    "        #print(type(key))\n",
    "        item_text = standard[key]\n",
    "        item_label = key_to_node_label(key)\n",
    "        dict_val = split_text_from_node(item_text, item_label)\n",
    "        chunk_dict[key] = dict_val\n",
    "\n",
    "    return chunk_dict\n",
    "\n",
    "\n",
    "# def text_data_from_standards(standard):\n",
    "#     sub_section_chunks = []\n",
    "\n",
    "#     for k,v in standard.items():\n",
    "#         # get key label\n",
    "#         label = key_to_node_label(k)\n",
    "#         print(f'Processing{k}')\n",
    "#         sub_section_chunks.append(split_text_from_node(v,label))\n",
    "    \n",
    "#     return sub_section_chunks\n"
   ]
  },
  {
   "cell_type": "code",
   "execution_count": 81,
   "metadata": {},
   "outputs": [
    {
     "name": "stdout",
     "output_type": "stream",
     "text": [
      "<class 'dict'>\n",
      "{'Standard_formal': [{'type': 'dataChunk', 'text': 'standard 1 strategic planning1.1 school maintains well documented strategic plan developed robust collaborative planning process involving key stakeholder input informs school resource allocation priorities . strategic plan also articulate clear focused mission school . 1.2 school regularly monitors progress planned strategies expected outcomes communicates progress key stakeholders . part monitoring school conducts formal risk analysis plans mitigate identified major risks . 1.3 school carries', 'parentType': 'STANDARD', 'chunk_sequence_id': 0}, {'type': 'dataChunk', 'text': 'progress planned strategies expected outcomes communicates progress key stakeholders . part monitoring school conducts formal risk analysis plans mitigate identified major risks . 1.3 school carries mission embraces innovation key element continuous improvement . 1.4 school demonstrates commitment positive societal impact expressed supported focused mission specifies intends achieve impact .', 'parentType': 'STANDARD', 'chunk_sequence_id': 1}], 'Definitions': [{'type': 'dataChunk', 'text': 'mission single statement set statements serving guide school stakeholders . statements capture school core purposes express aspirations describe distinguishing features . term focused implies mission yield distinctive aspects school strategies outcomes accomplishments special notable . strategies overarching statements direction derived strategic management processes school . strategies describe school intends achieve mission expected outcomes . expected outcomes conveyed broad high level', 'parentType': 'DEFINITIONS', 'chunk_sequence_id': 0}, {'type': 'dataChunk', 'text': 'overarching statements direction derived strategic management processes school . strategies describe school intends achieve mission expected outcomes . expected outcomes conveyed broad high level statements describing impact school expects achieve pursues mission educational activities scholarship endeavors . expected outcomes translate mission strategic goals school evaluates success . societal impact refers school makes positive impact betterment society identified school mission strategic', 'parentType': 'DEFINITIONS', 'chunk_sequence_id': 1}, {'type': 'dataChunk', 'text': 'endeavors . expected outcomes translate mission strategic goals school evaluates success . societal impact refers school makes positive impact betterment society identified school mission strategic plan . societal impact local regional national international level .', 'parentType': 'DEFINITIONS', 'chunk_sequence_id': 2}], 'Basis_for_judgement': [{'type': 'dataChunk', 'text': '1.1 maintenance strategic plan school mission identifies attributes focus areas priorities indicate school positions among community business schools . mission informs strategic plan reviewed updated periodically alignment school normal planning cycle . mission statement articulated part strategic plan . strategic plan developed refined engagement key internal external stakeholders . strategic plan available review peer review team demonstrates commitment continuous improvement regular review', 'parentType': 'BASIS', 'chunk_sequence_id': 0}, {'type': 'dataChunk', 'text': 'plan . strategic plan developed refined engagement key internal external stakeholders . strategic plan available review peer review team demonstrates commitment continuous improvement regular review revision key stakeholder input . school strategic plan defines communities learners school intends serve including level degree programs school offers . school also identifies non degree programs corresponding communities intends serve . plan identifies strategies maintenance high quality learner', 'parentType': 'BASIS', 'chunk_sequence_id': 1}, {'type': 'dataChunk', 'text': 'serve including level degree programs school offers . school also identifies non degree programs corresponding communities intends serve . plan identifies strategies maintenance high quality learner experiences including current relevant curriculum strategies recruitment retention qualified faculty . school strategic plan clearly identifies type intellectual contributions expects faculty produce influence business education connect practice business consistent school stated mission . school', 'parentType': 'BASIS', 'chunk_sequence_id': 2}, {'type': 'dataChunk', 'text': '. school strategic plan clearly identifies type intellectual contributions expects faculty produce influence business education connect practice business consistent school stated mission . school strategic plan identifies strategies school intends provide thought leadership within intellectual contributions . 1.2 monitoring strategic plan school transparent conveyance strategic plan regularly reports progress toward achieving mission strategies expected outcomes internal external key', 'parentType': 'BASIS', 'chunk_sequence_id': 3}, {'type': 'dataChunk', 'text': 'contributions . 1.2 monitoring strategic plan school transparent conveyance strategic plan regularly reports progress toward achieving mission strategies expected outcomes internal external key stakeholders . school maintain ongoing risk analysis identifying potential risks could significantly impair ability fulfill school mission well contingency plan mitigating risks . 1.3 innovation strategic plan identifies school innovative thought action . 1.4 societal impact school strategic plan clearly', 'parentType': 'BASIS', 'chunk_sequence_id': 4}, {'type': 'dataChunk', 'text': 'ability fulfill school mission well contingency plan mitigating risks . 1.3 innovation strategic plan identifies school innovative thought action . 1.4 societal impact school strategic plan clearly identifies strategies including allocation human financial capital make positive impact society practice business diversity people ideas success graduates .', 'parentType': 'BASIS', 'chunk_sequence_id': 5}], 'Supporting_docs': [{'type': 'dataChunk', 'text': '1.1 maintenance strategic plan provide strategic plan business unit encompasses strategies expected outcomes pursued school consistent school mission . strategic plan include description mission strategies expected outcomes including mission encapsulated supporting statements . describe processes creating revising strategic plan including description internal external key stakeholders inform plan kept abreast progress toward meeting goals plan . include plan strategies promoting high quality', 'parentType': 'DOCUMENTATION', 'chunk_sequence_id': 0}, {'type': 'dataChunk', 'text': 'creating revising strategic plan including description internal external key stakeholders inform plan kept abreast progress toward meeting goals plan . include plan strategies promoting high quality learner experience curriculum currency relevancy . include plan discussion faculty management model including recruitment retention development qualified faculty . ensure strategic plan clearly identifies types e.g . basic applied teaching learning priorities intellectual contributions school', 'parentType': 'DOCUMENTATION', 'chunk_sequence_id': 1}, {'type': 'dataChunk', 'text': 'model including recruitment retention development qualified faculty . ensure strategic plan clearly identifies types e.g . basic applied teaching learning priorities intellectual contributions school intends produce consistent mission . describe focused nature mission school stakeholders relative learners employers key stakeholders . describe strategic plan mission school relate support strategic plan mission larger organization part . 1.2 monitoring strategic plan summarize document annual', 'parentType': 'DOCUMENTATION', 'chunk_sequence_id': 2}, {'type': 'dataChunk', 'text': 'learners employers key stakeholders . describe strategic plan mission school relate support strategic plan mission larger organization part . 1.2 monitoring strategic plan summarize document annual progress toward meeting goals strategic plan . describe risks could impede school ability fulfill mission plan mitigate risks . describe plan shared key internal external stakeholders identifying groups specifically key stakeholder input incorporated plan . 1.3 innovation describe school strategic', 'parentType': 'DOCUMENTATION', 'chunk_sequence_id': 3}, {'type': 'dataChunk', 'text': 'plan mitigate risks . describe plan shared key internal external stakeholders identifying groups specifically key stakeholder input incorporated plan . 1.3 innovation describe school strategic plan encourages supports innovation across school activities including faculty staff hiring plans curricular co curricular content activities interdisciplinary efforts technologies employed within teaching taught within curriculum . 1.4 societal impact include within strategic plan school allocate human', 'parentType': 'DOCUMENTATION', 'chunk_sequence_id': 4}, {'type': 'dataChunk', 'text': 'co curricular content activities interdisciplinary efforts technologies employed within teaching taught within curriculum . 1.4 societal impact include within strategic plan school allocate human financial capital support school aspiration make positive contribution society . describe mission positively impacts society business education diversity people ideas success graduates', 'parentType': 'DOCUMENTATION', 'chunk_sequence_id': 5}]}\n"
     ]
    }
   ],
   "source": [
    "#\n",
    "# testing split function\n",
    "#\n",
    "\n",
    "#result = split_text_from_node(basis)\n",
    "result = top_level(json_file[0])\n",
    "\n",
    "print(type(result))\n",
    "print(result)"
   ]
  },
  {
   "cell_type": "code",
   "execution_count": 82,
   "metadata": {},
   "outputs": [
    {
     "name": "stdout",
     "output_type": "stream",
     "text": [
      "{'type': 'dataChunk', 'text': 'standard 1 strategic planning1.1 school maintains well documented strategic plan developed robust collaborative planning process involving key stakeholder input informs school resource allocation priorities . strategic plan also articulate clear focused mission school . 1.2 school regularly monitors progress planned strategies expected outcomes communicates progress key stakeholders . part monitoring school conducts formal risk analysis plans mitigate identified major risks . 1.3 school carries', 'parentType': 'STANDARD', 'chunk_sequence_id': 0}\n"
     ]
    }
   ],
   "source": [
    "print(result['Standard_formal'][0])"
   ]
  },
  {
   "cell_type": "code",
   "execution_count": 65,
   "metadata": {},
   "outputs": [],
   "source": [
    "# I. CREATE STANDARDS\n",
    "# for each standard in the json file\n",
    "# create dict with chunked text data\n",
    "# create the standard node w \n",
    "# save value of unique node ID\n",
    "# create chunk nodes for standard\n",
    "# link nodes to standard\n",
    "# \n",
    "#II. CREATE CHILD NODES\n",
    "# from standard and dict, create child nodes\n",
    "# create subnodes of chunk data and link to new node\n",
    "# link child node to standard\n",
    "#\n",
    "\n",
    "# standards_query = \"\"\"\n",
    "# MERGE(s:Standard {standardNum: $standardsIn.Standard_num})\n",
    "#     ON CREATE SET \n",
    "#         s.parentSectionNum = $standardsIn.Section,\n",
    "#         s.title =  $standardsIn.Standard_title,\n",
    "#         s.text =  $standardsIn.Standard_formal, \n",
    "#         s.nodeType = 'STANDARD', \n",
    "#         s.nodeCat = 'AACSB',\n",
    "#         s.source = 'https://www.aacsb.edu/educators/accreditation/business-accreditation/aacsb-business-accreditation-standards',\n",
    "#         s.year = 2020,\n",
    "#         s.definitionNodeID = NULL,\n",
    "#         s.basisForJudgementNodeID=NULL,\n",
    "#         s.supportingDocNodeID=NULL\n",
    "# RETURN s\n",
    "# \"\"\"\n",
    "\n",
    "# datachunk_query = \"\"\"\n",
    "# MERGE(c:Chunk {parentStandardNum: $standardsIn.Standard_num})\n",
    "#     ON CREATE SET \n",
    "#         c.text = $chunkIn.text,\n",
    "#         c.standardTitle =  $standardsIn.Standard_title,\n",
    "#         c.nodeType = 'DATACHUNK',\n",
    "#         c.parentType = $chunkIn.parentType,\n",
    "#         c.nodeCat = 'AACSB',\n",
    "#         c.chunkSeqNum=$chunkIn.chunk_sequence_id\n",
    "# RETURN c\n",
    "# \"\"\"\n",
    "\n",
    "datachunk_query = \"\"\"\n",
    "UNWIND $chunksIn AS chunk\n",
    "MERGE (c:Chunk {\n",
    "    parentStandardNum: $standardsIn.Standard_num,\n",
    "    text: chunk.text,\n",
    "    standardTitle: $standardsIn.Standard_title,\n",
    "    nodeType: 'DATACHUNK',\n",
    "    parentType: chunk.parentType,\n",
    "    parentId: $parentId,\n",
    "    nodeCat: 'AACSB',\n",
    "    chunkSeqNum: chunk.chunk_sequence_id\n",
    "})\n",
    "RETURN c\n",
    "\"\"\""
   ]
  },
  {
   "cell_type": "code",
   "execution_count": 83,
   "metadata": {},
   "outputs": [],
   "source": [
    "db_result = graphDB.query(standards_query,\n",
    "              params={'standardsIn':standard_1})"
   ]
  },
  {
   "cell_type": "code",
   "execution_count": 77,
   "metadata": {},
   "outputs": [
    {
     "data": {
      "text/plain": [
       "'STANDARD'"
      ]
     },
     "execution_count": 77,
     "metadata": {},
     "output_type": "execute_result"
    }
   ],
   "source": [
    "db_result[0]['s']['nodeType']"
   ]
  },
  {
   "cell_type": "code",
   "execution_count": 84,
   "metadata": {},
   "outputs": [
    {
     "data": {
      "text/plain": [
       "[{'c': {'parentStandardNum': 1,\n",
       "   'standardTitle': 'Strategic Planning',\n",
       "   'nodeCat': 'AACSB',\n",
       "   'text': 'standard 1 strategic planning1.1 school maintains well documented strategic plan developed robust collaborative planning process involving key stakeholder input informs school resource allocation priorities . strategic plan also articulate clear focused mission school . 1.2 school regularly monitors progress planned strategies expected outcomes communicates progress key stakeholders . part monitoring school conducts formal risk analysis plans mitigate identified major risks . 1.3 school carries',\n",
       "   'chunkSeqNum': 0,\n",
       "   'nodeType': 'DATACHUNK',\n",
       "   'parentType': 'STANDARD',\n",
       "   'parentId': 4}},\n",
       " {'c': {'parentStandardNum': 1,\n",
       "   'standardTitle': 'Strategic Planning',\n",
       "   'nodeCat': 'AACSB',\n",
       "   'text': 'progress planned strategies expected outcomes communicates progress key stakeholders . part monitoring school conducts formal risk analysis plans mitigate identified major risks . 1.3 school carries mission embraces innovation key element continuous improvement . 1.4 school demonstrates commitment positive societal impact expressed supported focused mission specifies intends achieve impact .',\n",
       "   'chunkSeqNum': 1,\n",
       "   'nodeType': 'DATACHUNK',\n",
       "   'parentType': 'STANDARD',\n",
       "   'parentId': 4}}]"
      ]
     },
     "execution_count": 84,
     "metadata": {},
     "output_type": "execute_result"
    }
   ],
   "source": [
    "\n",
    "graphDB.query(datachunk_query,\n",
    "                params={\n",
    "                    'standardsIn':standard_1,\n",
    "                    'chunksIn':result['Standard_formal'],\n",
    "                    'parentId':db_result[0]['elementId']\n",
    "                })"
   ]
  },
  {
   "cell_type": "code",
   "execution_count": 85,
   "metadata": {},
   "outputs": [],
   "source": [
    "# Create Links\n",
    "linking_query = \"\"\"\n",
    "  MATCH (from_same_section:Chunk)\n",
    "  WHERE from_same_section.parentId = $parentId\n",
    "    AND from_same_section.parentType = $parentType\n",
    "  WITH from_same_section\n",
    "    ORDER BY from_same_section.chunkSeqNum ASC\n",
    "  WITH collect(from_same_section) as section_chunk_list\n",
    "    CALL apoc.nodes.link(\n",
    "        section_chunk_list, \n",
    "        \"NEXT\", \n",
    "        {avoidDuplicates: true}\n",
    "    )  // NEW!!!\n",
    "  RETURN size(section_chunk_list)\n",
    "\"\"\""
   ]
  },
  {
   "cell_type": "code",
   "execution_count": 86,
   "metadata": {},
   "outputs": [
    {
     "data": {
      "text/plain": [
       "[{'size(section_chunk_list)': 2}]"
      ]
     },
     "execution_count": 86,
     "metadata": {},
     "output_type": "execute_result"
    }
   ],
   "source": [
    "graphDB.query(linking_query, \n",
    "              params={\n",
    "                  'parentId':db_result[0]['elementId'],\n",
    "                  'parentType':db_result[0]['s']['nodeType']\n",
    "              })"
   ]
  },
  {
   "cell_type": "code",
   "execution_count": null,
   "metadata": {},
   "outputs": [],
   "source": [
    "#\n",
    "# @TODO Chunking Function\n",
    "# @TODO Modofy Loop for standards\n",
    "\n",
    "node_count = 0\n",
    "for standard in json_file:\n",
    "    print(f\"Creating `:Standard ` node for section ID {standard['Standard_Num']}\")\n",
    "    graphDB.query(section_query, \n",
    "            params={\n",
    "                'standardsIn': standard\n",
    "            })\n",
    "    node_count += 1\n",
    "print(f\"Created {node_count} nodes\")\n"
   ]
  }
 ],
 "metadata": {
  "kernelspec": {
   "display_name": "myenv",
   "language": "python",
   "name": "python3"
  },
  "language_info": {
   "codemirror_mode": {
    "name": "ipython",
    "version": 3
   },
   "file_extension": ".py",
   "mimetype": "text/x-python",
   "name": "python",
   "nbconvert_exporter": "python",
   "pygments_lexer": "ipython3",
   "version": "3.10.6"
  }
 },
 "nbformat": 4,
 "nbformat_minor": 2
}
