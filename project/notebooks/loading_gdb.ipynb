{
 "cells": [
  {
   "cell_type": "code",
   "execution_count": null,
   "metadata": {},
   "outputs": [],
   "source": [
    "import sys\n",
    "sys.version"
   ]
  },
  {
   "cell_type": "code",
   "execution_count": null,
   "metadata": {},
   "outputs": [],
   "source": [
    "! pip install -q python-dotenv\n",
    "! pip install -q neo4j\n",
    "! pip install -q langchain"
   ]
  },
  {
   "cell_type": "code",
   "execution_count": null,
   "metadata": {},
   "outputs": [],
   "source": [
    "from neo4j import GraphDatabase\n",
    "import json"
   ]
  },
  {
   "cell_type": "code",
   "execution_count": null,
   "metadata": {},
   "outputs": [],
   "source": [
    "! pip install -q langchain-openai"
   ]
  },
  {
   "cell_type": "code",
   "execution_count": null,
   "metadata": {},
   "outputs": [],
   "source": [
    "from langchain_community.graphs import Neo4jGraph\n",
    "from langchain_community.vectorstores import Neo4jVector\n",
    "from langchain_openai import OpenAIEmbeddings"
   ]
  },
  {
   "cell_type": "code",
   "execution_count": null,
   "metadata": {},
   "outputs": [],
   "source": [
    "import dotenv\n",
    "import os\n",
    "\n",
    "dotenv.load_dotenv()\n",
    "\n",
    "os.environ[\"NEO4J_URI\"] = os.getenv(\"URL\")\n",
    "os.environ[\"NEO4J_USERNAME\"]= os.getenv(\"USERNAME\")\n",
    "os.environ[\"NEO4J_PASSWORD\"] = os.getenv(\"PASSWORD\")\n",
    "os.environ[\"OPENAI_API_KEY\"] = os.getenv(\"OPENAIKEY\")"
   ]
  },
  {
   "cell_type": "code",
   "execution_count": null,
   "metadata": {},
   "outputs": [],
   "source": [
    "path =r'..\\data\\aacsb\\processed\\SECTIONS_processed_2024-04-04_16-24-04.json'\n",
    "json_file = json.load(open(path))\n",
    "print(type(json_file)) #list"
   ]
  },
  {
   "cell_type": "code",
   "execution_count": null,
   "metadata": {},
   "outputs": [],
   "source": [
    "for element in json_file:\n",
    "    for key,val in element.items():\n",
    "        print(f'{key} :{val}')\n",
    "\n",
    "        if type(val) is str:\n",
    "            print(f'{key}, val_length: {len(val)}')"
   ]
  },
  {
   "cell_type": "code",
   "execution_count": null,
   "metadata": {},
   "outputs": [],
   "source": [
    "section_query = \"\"\"\n",
    "MERGE(s:Section {sectionNum: $sectionsIn.Section_Num})\n",
    "    ON CREATE SET \n",
    "        s.title =  $sectionsIn.Section_Title,\n",
    "        s.description =  $sectionsIn.Section_Description, \n",
    "        s.nodeType = 'SECTION', \n",
    "        s.nodeCat = 'AACSB',\n",
    "        s.source = 'https://www.aacsb.edu/educators/accreditation/business-accreditation/aacsb-business-accreditation-standards',\n",
    "        s.year = 2020\n",
    "RETURN s\n",
    "\"\"\""
   ]
  },
  {
   "cell_type": "code",
   "execution_count": null,
   "metadata": {},
   "outputs": [],
   "source": [
    "#\n",
    "# Open Neo4j driver\n",
    "#\n",
    "\n",
    "# driver = GraphDatabase.driver(connectionURL, auth =(username,password))\n",
    "# print(driver.verify_connectivity())"
   ]
  },
  {
   "cell_type": "code",
   "execution_count": null,
   "metadata": {},
   "outputs": [],
   "source": [
    "#\n",
    "# Close Connetion to Neo4j\n",
    "#\n",
    "\n",
    "# driver.close()\n",
    "# print(driver.verify_connectivity())"
   ]
  },
  {
   "cell_type": "code",
   "execution_count": null,
   "metadata": {},
   "outputs": [],
   "source": [
    "#\n",
    "# Neo4j with LangChain wrapper\n",
    "# [ERROR RESOLVED w/ APOC PLUGIN ENABLED]\n",
    "#\n",
    "\n",
    "graphDB = Neo4jGraph()"
   ]
  },
  {
   "cell_type": "code",
   "execution_count": null,
   "metadata": {},
   "outputs": [],
   "source": [
    "section_1 = json_file[0]"
   ]
  },
  {
   "cell_type": "code",
   "execution_count": null,
   "metadata": {},
   "outputs": [],
   "source": [
    "print(type(section_1))\n",
    "\n",
    "for k,v in section_1.items():\n",
    "    print(k,type(v))\n"
   ]
  },
  {
   "cell_type": "code",
   "execution_count": null,
   "metadata": {},
   "outputs": [],
   "source": [
    "graphDB.query(section_query, \n",
    "         params={'sectionsIn':section_1})"
   ]
  },
  {
   "cell_type": "code",
   "execution_count": null,
   "metadata": {},
   "outputs": [],
   "source": [
    "#\n",
    "# No duplicatipe nodes\n",
    "#\n",
    "\n",
    "graphDB.query(\"\"\"\n",
    "CREATE CONSTRAINT unique_node IF NOT EXISTS \n",
    "    FOR (s:Session) REQUIRE s.sectionNum IS UNIQUE\n",
    "\"\"\")\n"
   ]
  },
  {
   "cell_type": "code",
   "execution_count": null,
   "metadata": {},
   "outputs": [],
   "source": [
    "node_count = 0\n",
    "for section in json_file:\n",
    "    print(f\"Creating `:Section ` node for section ID {section['Section_Num']}\")\n",
    "    graphDB.query(section_query, \n",
    "            params={\n",
    "                'sectionsIn': section\n",
    "            })\n",
    "    node_count += 1\n",
    "print(f\"Created {node_count} nodes\")"
   ]
  },
  {
   "cell_type": "code",
   "execution_count": null,
   "metadata": {},
   "outputs": [],
   "source": [
    "graphDB.query(\"\"\"\n",
    "MATCH (n)\n",
    "RETURN COUNT(n)\n",
    "\"\"\")"
   ]
  },
  {
   "cell_type": "code",
   "execution_count": null,
   "metadata": {},
   "outputs": [],
   "source": [
    "#\n",
    "# STANDARDS NODES and child nodes\n",
    "# @TODO Link by -- parentStandardNum\n",
    "#\n",
    "\n",
    "standards_query = \"\"\"\n",
    "MERGE(s:Standard {standardNum: $standardsIn.Standard_num})\n",
    "    ON CREATE SET \n",
    "        s.parentSectionNum = $standardsIn.Section,\n",
    "        s.title =  $standardsIn.Standard_title,\n",
    "        s.text =  $standardsIn.Standard_formal, \n",
    "        s.nodeType = 'STANDARD', \n",
    "        s.nodeCat = 'AACSB',\n",
    "        s.source = 'https://www.aacsb.edu/educators/accreditation/business-accreditation/aacsb-business-accreditation-standards',\n",
    "        s.year = 2020,\n",
    "        s.definitionNodeID = NULL,\n",
    "        s.basisForJudgementNodeID=NULL,\n",
    "        s.supportingDocNodeID=NULL\n",
    "RETURN s\n",
    "\"\"\"\n",
    "\n",
    "definitions_query = \"\"\"\n",
    "MERGE(d:Definitions {parentStandardNum: $standardsIn.Standard_num})\n",
    "    ON CREATE SET \n",
    "        d.text = $standardsIn.Definitions,\n",
    "        d.standardTitle =  $standardsIn.Standard_title,\n",
    "        d.nodeType = 'DEFINITIONS', \n",
    "        d.nodeCat = 'AACSB'\n",
    "RETURN d\n",
    "\"\"\"\n",
    "\n",
    "basis_query = \"\"\"\n",
    "MERGE(b:Basis {parentStandardNum: $standardsIn.Standard_num})\n",
    "    ON CREATE SET \n",
    "        b.text = $standardsIn.Basis_for_judgement,\n",
    "        b.standardTitle =  $standardsIn.Standard_title,\n",
    "        b.nodeType = 'BASIS', \n",
    "        b.nodeCat = 'AACSB'\n",
    "RETURN b\n",
    "\"\"\"\n",
    "\n",
    "docs_query = \"\"\"\n",
    "MERGE(d:Documentation {parentStandardNum: $standardsIn.Standard_num})\n",
    "    ON CREATE SET \n",
    "        d.text = $standardsIn.Supporting_docs,\n",
    "        d.standardTitle =  $standardsIn.Standard_title,\n",
    "        d.nodeType = 'DOCUMENTATION', \n",
    "        d.nodeCat = 'AACSB'\n",
    "RETURN d\n",
    "\"\"\""
   ]
  },
  {
   "cell_type": "code",
   "execution_count": null,
   "metadata": {},
   "outputs": [],
   "source": [
    "#\n",
    "# @TODO Chunking Function\n",
    "# @TODO Modofy Loop for standards\n",
    "\n",
    "node_count = 0\n",
    "for standard in json_file:\n",
    "    print(f\"Creating `:Standard ` node for section ID {standard['Standard_Num']}\")\n",
    "    graphDB.query(section_query, \n",
    "            params={\n",
    "                'standardsIn': standard\n",
    "            })\n",
    "    node_count += 1\n",
    "print(f\"Created {node_count} nodes\")\n"
   ]
  }
 ],
 "metadata": {
  "kernelspec": {
   "display_name": "myenv",
   "language": "python",
   "name": "python3"
  },
  "language_info": {
   "codemirror_mode": {
    "name": "ipython",
    "version": 3
   },
   "file_extension": ".py",
   "mimetype": "text/x-python",
   "name": "python",
   "nbconvert_exporter": "python",
   "pygments_lexer": "ipython3",
   "version": "3.10.6"
  }
 },
 "nbformat": 4,
 "nbformat_minor": 2
}
