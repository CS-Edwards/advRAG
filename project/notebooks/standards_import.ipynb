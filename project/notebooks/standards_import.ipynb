{
 "cells": [
  {
   "cell_type": "code",
   "execution_count": 1,
   "metadata": {},
   "outputs": [
    {
     "data": {
      "text/plain": [
       "'3.10.6 (tags/v3.10.6:9c7b4bd, Aug  1 2022, 21:53:49) [MSC v.1932 64 bit (AMD64)]'"
      ]
     },
     "execution_count": 1,
     "metadata": {},
     "output_type": "execute_result"
    }
   ],
   "source": [
    "import sys\n",
    "sys.version"
   ]
  },
  {
   "cell_type": "code",
   "execution_count": 2,
   "metadata": {},
   "outputs": [
    {
     "name": "stdout",
     "output_type": "stream",
     "text": [
      "Requirement already satisfied: pandas in c:\\users\\candace edwards\\capstone\\advrag\\myenv\\lib\\site-packages (2.2.1)\n",
      "Requirement already satisfied: tzdata>=2022.7 in c:\\users\\candace edwards\\capstone\\advrag\\myenv\\lib\\site-packages (from pandas) (2024.1)\n",
      "Requirement already satisfied: pytz>=2020.1 in c:\\users\\candace edwards\\capstone\\advrag\\myenv\\lib\\site-packages (from pandas) (2024.1)\n",
      "Requirement already satisfied: python-dateutil>=2.8.2 in c:\\users\\candace edwards\\capstone\\advrag\\myenv\\lib\\site-packages (from pandas) (2.9.0.post0)\n",
      "Requirement already satisfied: numpy<2,>=1.22.4 in c:\\users\\candace edwards\\capstone\\advrag\\myenv\\lib\\site-packages (from pandas) (1.26.4)\n",
      "Requirement already satisfied: six>=1.5 in c:\\users\\candace edwards\\capstone\\advrag\\myenv\\lib\\site-packages (from python-dateutil>=2.8.2->pandas) (1.16.0)\n"
     ]
    },
    {
     "name": "stderr",
     "output_type": "stream",
     "text": [
      "\n",
      "[notice] A new release of pip available: 22.2.1 -> 24.0\n",
      "[notice] To update, run: python.exe -m pip install --upgrade pip\n"
     ]
    }
   ],
   "source": [
    "! pip install -q pandas\n",
    "! pip install -q  nltk"
   ]
  },
  {
   "cell_type": "code",
   "execution_count": 3,
   "metadata": {},
   "outputs": [
    {
     "name": "stderr",
     "output_type": "stream",
     "text": [
      "[nltk_data] Downloading package punkt to C:\\Users\\Candace\n",
      "[nltk_data]     Edwards\\AppData\\Roaming\\nltk_data...\n",
      "[nltk_data]   Package punkt is already up-to-date!\n"
     ]
    }
   ],
   "source": [
    "import os\n",
    "import pandas as pd\n",
    "import nltk\n",
    "import re\n",
    "from nltk.corpus import stopwords\n",
    "from nltk.tokenize import word_tokenize\n",
    "nltk.download('punkt')\n",
    "from datetime import datetime\n",
    "from typing import Union\n",
    "\n"
   ]
  },
  {
   "cell_type": "code",
   "execution_count": 10,
   "metadata": {},
   "outputs": [
    {
     "data": {
      "text/html": [
       "<div>\n",
       "<style scoped>\n",
       "    .dataframe tbody tr th:only-of-type {\n",
       "        vertical-align: middle;\n",
       "    }\n",
       "\n",
       "    .dataframe tbody tr th {\n",
       "        vertical-align: top;\n",
       "    }\n",
       "\n",
       "    .dataframe thead th {\n",
       "        text-align: right;\n",
       "    }\n",
       "</style>\n",
       "<table border=\"1\" class=\"dataframe\">\n",
       "  <thead>\n",
       "    <tr style=\"text-align: right;\">\n",
       "      <th></th>\n",
       "      <th>Section_Num</th>\n",
       "      <th>Section_Title</th>\n",
       "      <th>Section_Description</th>\n",
       "    </tr>\n",
       "  </thead>\n",
       "  <tbody>\n",
       "    <tr>\n",
       "      <th>0</th>\n",
       "      <td>1</td>\n",
       "      <td>Strategic Managemend and Innovation</td>\n",
       "      <td>Strategic management encompasses the entire ra...</td>\n",
       "    </tr>\n",
       "    <tr>\n",
       "      <th>1</th>\n",
       "      <td>2</td>\n",
       "      <td>Learner Success</td>\n",
       "      <td>This section of the accreditation standards is...</td>\n",
       "    </tr>\n",
       "    <tr>\n",
       "      <th>2</th>\n",
       "      <td>3</td>\n",
       "      <td>Though Leadership, Engagement, and Societal Im...</td>\n",
       "      <td>The defining feature of quality business schoo...</td>\n",
       "    </tr>\n",
       "  </tbody>\n",
       "</table>\n",
       "</div>"
      ],
      "text/plain": [
       "   Section_Num                                      Section_Title  \\\n",
       "0            1                Strategic Managemend and Innovation   \n",
       "1            2                                    Learner Success   \n",
       "2            3  Though Leadership, Engagement, and Societal Im...   \n",
       "\n",
       "                                 Section_Description  \n",
       "0  Strategic management encompasses the entire ra...  \n",
       "1  This section of the accreditation standards is...  \n",
       "2  The defining feature of quality business schoo...  "
      ]
     },
     "execution_count": 10,
     "metadata": {},
     "output_type": "execute_result"
    }
   ],
   "source": [
    "#\n",
    "#  Import raw data\n",
    "#\n",
    "\n",
    "#source =r'..\\data\\aacsb\\raw\\standards\\Data - STANDARDS.csv'\n",
    "source =r'..\\data\\aacsb\\raw\\standards\\Data - SECTIONS.csv'\n",
    "df = pd.read_csv(source)\n",
    "df"
   ]
  },
  {
   "cell_type": "code",
   "execution_count": 11,
   "metadata": {},
   "outputs": [
    {
     "name": "stdout",
     "output_type": "stream",
     "text": [
      "<class 'pandas.core.frame.DataFrame'>\n",
      "RangeIndex: 3 entries, 0 to 2\n",
      "Data columns (total 3 columns):\n",
      " #   Column               Non-Null Count  Dtype \n",
      "---  ------               --------------  ----- \n",
      " 0   Section_Num          3 non-null      int64 \n",
      " 1   Section_Title        3 non-null      object\n",
      " 2   Section_Description  3 non-null      object\n",
      "dtypes: int64(1), object(2)\n",
      "memory usage: 200.0+ bytes\n"
     ]
    }
   ],
   "source": [
    "df.fillna(value=str(None), inplace=True) \n",
    "df.info()"
   ]
  },
  {
   "cell_type": "code",
   "execution_count": 12,
   "metadata": {},
   "outputs": [],
   "source": [
    "def preprocess_text(text: str) -> str:\n",
    "    \"\"\"\n",
    "    Preprocesses text by converting it to lowercase, removing special characters\n",
    "    except periods and new lines, tokenizing the text, removing stopwords, and \n",
    "    joining the tokens back into a single string.\n",
    "\n",
    "    Parameters:\n",
    "    text (str): The input text to be preprocessed.\n",
    "\n",
    "    Returns:\n",
    "    str: The preprocessed text.\n",
    "    \"\"\"\n",
    "\n",
    "    text = text.lower()\n",
    "\n",
    "    #remove special chars except: period and newlines -- needed for downstream chunking\n",
    "    text = re.sub(r'[^a-zA-Z0-9.\\n\\s]', ' ', text)\n",
    "\n",
    "    tokens = word_tokenize(text)\n",
    "\n",
    "    stop_words = set(stopwords.words('english'))\n",
    "    filtered_tokens = [word for word in tokens if word not in stop_words]\n",
    "\n",
    "    processed_text = ' '.join(filtered_tokens)\n",
    "\n",
    "    return processed_text"
   ]
  },
  {
   "cell_type": "code",
   "execution_count": 13,
   "metadata": {},
   "outputs": [
    {
     "name": "stdout",
     "output_type": "stream",
     "text": [
      "going kentucky going fair see senorita flowers hair . time go\n"
     ]
    }
   ],
   "source": [
    "test_text = \"We are going to Kentucky and going to the fair to see the senorita with flowers • in •  her hair . Time to go\"\n",
    "print(preprocess_text(test_text))"
   ]
  },
  {
   "cell_type": "code",
   "execution_count": 14,
   "metadata": {},
   "outputs": [
    {
     "data": {
      "text/html": [
       "<div>\n",
       "<style scoped>\n",
       "    .dataframe tbody tr th:only-of-type {\n",
       "        vertical-align: middle;\n",
       "    }\n",
       "\n",
       "    .dataframe tbody tr th {\n",
       "        vertical-align: top;\n",
       "    }\n",
       "\n",
       "    .dataframe thead th {\n",
       "        text-align: right;\n",
       "    }\n",
       "</style>\n",
       "<table border=\"1\" class=\"dataframe\">\n",
       "  <thead>\n",
       "    <tr style=\"text-align: right;\">\n",
       "      <th></th>\n",
       "      <th>Section_Num</th>\n",
       "      <th>Section_Title</th>\n",
       "      <th>Section_Description</th>\n",
       "    </tr>\n",
       "  </thead>\n",
       "  <tbody>\n",
       "    <tr>\n",
       "      <th>0</th>\n",
       "      <td>1</td>\n",
       "      <td>Strategic Managemend and Innovation</td>\n",
       "      <td>strategic management encompasses entire range ...</td>\n",
       "    </tr>\n",
       "    <tr>\n",
       "      <th>1</th>\n",
       "      <td>2</td>\n",
       "      <td>Learner Success</td>\n",
       "      <td>section accreditation standards designed ensur...</td>\n",
       "    </tr>\n",
       "    <tr>\n",
       "      <th>2</th>\n",
       "      <td>3</td>\n",
       "      <td>Though Leadership, Engagement, and Societal Im...</td>\n",
       "      <td>defining feature quality business schools maki...</td>\n",
       "    </tr>\n",
       "  </tbody>\n",
       "</table>\n",
       "</div>"
      ],
      "text/plain": [
       "   Section_Num                                      Section_Title  \\\n",
       "0            1                Strategic Managemend and Innovation   \n",
       "1            2                                    Learner Success   \n",
       "2            3  Though Leadership, Engagement, and Societal Im...   \n",
       "\n",
       "                                 Section_Description  \n",
       "0  strategic management encompasses entire range ...  \n",
       "1  section accreditation standards designed ensur...  \n",
       "2  defining feature quality business schools maki...  "
      ]
     },
     "execution_count": 14,
     "metadata": {},
     "output_type": "execute_result"
    }
   ],
   "source": [
    "#\n",
    "# Pre-process dataframe text\n",
    "#\n",
    "\n",
    "\n",
    "processed_df = df.copy()\n",
    "#columns_to_process = ['Standard_formal', 'Definitions', 'Basis_for_judgement','Supporting_docs']\n",
    "columns_to_process = ['Section_Description']\n",
    "\n",
    "processed_df[columns_to_process] = processed_df[columns_to_process].map(preprocess_text)\n",
    "processed_df.head()"
   ]
  },
  {
   "cell_type": "code",
   "execution_count": 15,
   "metadata": {},
   "outputs": [],
   "source": [
    "def save_dataframe_to_json(df: pd.DataFrame, filename: str) -> None:\n",
    "    \"\"\"\n",
    "    Save DataFrame to JSON file with current datetime appended to the filename.\n",
    "\n",
    "    Parameters:\n",
    "    df (pd.DataFrame): The DataFrame to be saved.\n",
    "    filename (str): The output filename without extension.\n",
    "    \"\"\"\n",
    "    # Specify the path\n",
    "    path = r'..\\data\\aacsb\\processed'\n",
    "    \n",
    "    # Generate filename with datetime\n",
    "    current_datetime = datetime.now().strftime('%Y-%m-%d_%H-%M-%S')\n",
    "    output_filename = f\"{filename}_processed_{current_datetime}.json\"\n",
    "    \n",
    "    # Create output directory if it doesn't exist\n",
    "    os.makedirs(path, exist_ok=True)\n",
    "    \n",
    "    # Save DataFrame to JSON file\n",
    "    output_path = os.path.join(path, output_filename)\n",
    "    df.to_json(output_path, orient='records')\n",
    "    \n",
    "    print(f\"DataFrame saved to {output_path}\")"
   ]
  },
  {
   "cell_type": "code",
   "execution_count": 16,
   "metadata": {},
   "outputs": [
    {
     "name": "stdout",
     "output_type": "stream",
     "text": [
      "DataFrame saved to ..\\data\\aacsb\\processed\\SECTIONS_processed_2024-04-04_16-24-04.json\n"
     ]
    }
   ],
   "source": [
    "#\n",
    "# Convert to JSON and Export\n",
    "#\n",
    "\n",
    "file_name = 'SECTIONS'\n",
    "save_dataframe_to_json(processed_df, file_name)"
   ]
  }
 ],
 "metadata": {
  "kernelspec": {
   "display_name": "myenv",
   "language": "python",
   "name": "python3"
  },
  "language_info": {
   "codemirror_mode": {
    "name": "ipython",
    "version": 3
   },
   "file_extension": ".py",
   "mimetype": "text/x-python",
   "name": "python",
   "nbconvert_exporter": "python",
   "pygments_lexer": "ipython3",
   "version": "3.10.6"
  }
 },
 "nbformat": 4,
 "nbformat_minor": 2
}
