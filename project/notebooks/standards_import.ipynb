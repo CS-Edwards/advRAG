{
 "cells": [
  {
   "cell_type": "code",
   "execution_count": 1,
   "metadata": {},
   "outputs": [
    {
     "data": {
      "text/plain": [
       "'3.10.6 (tags/v3.10.6:9c7b4bd, Aug  1 2022, 21:53:49) [MSC v.1932 64 bit (AMD64)]'"
      ]
     },
     "execution_count": 1,
     "metadata": {},
     "output_type": "execute_result"
    }
   ],
   "source": [
    "import sys\n",
    "sys.version"
   ]
  },
  {
   "cell_type": "code",
   "execution_count": 2,
   "metadata": {},
   "outputs": [],
   "source": [
    "from neo4j import GraphDatabase"
   ]
  },
  {
   "cell_type": "code",
   "execution_count": 3,
   "metadata": {},
   "outputs": [],
   "source": [
    "import dotenv\n",
    "import os\n",
    "\n",
    "dotenv.load_dotenv()\n",
    "\n",
    "connectionURL = os.getenv(\"URL\")\n",
    "username = os.getenv(\"USERNAME\")\n",
    "password = os.getenv(\"PASSWORD\")"
   ]
  },
  {
   "cell_type": "code",
   "execution_count": 4,
   "metadata": {},
   "outputs": [],
   "source": [
    "driver = GraphDatabase.driver(connectionURL, auth =(username,password))\n",
    "print(driver.verify_connectivity())"
   ]
  },
  {
   "cell_type": "code",
   "execution_count": 8,
   "metadata": {},
   "outputs": [
    {
     "name": "stderr",
     "output_type": "stream",
     "text": [
      "C:\\Users\\Candace Edwards\\AppData\\Local\\Temp\\ipykernel_26260\\3424527206.py:2: DeprecationWarning: Using a driver after it has been closed is deprecated. Future versions of the driver will raise an error.\n",
      "  print(client.verify_connectivity())\n"
     ]
    },
    {
     "name": "stdout",
     "output_type": "stream",
     "text": [
      "None\n"
     ]
    }
   ],
   "source": [
    "#\n",
    "# Close Connetion to Neo4j\n",
    "#\n",
    "\n",
    "# driver.close()\n",
    "# print(driver.verify_connectivity())"
   ]
  },
  {
   "cell_type": "code",
   "execution_count": 6,
   "metadata": {},
   "outputs": [
    {
     "data": {
      "text/html": [
       "<div>\n",
       "<style scoped>\n",
       "    .dataframe tbody tr th:only-of-type {\n",
       "        vertical-align: middle;\n",
       "    }\n",
       "\n",
       "    .dataframe tbody tr th {\n",
       "        vertical-align: top;\n",
       "    }\n",
       "\n",
       "    .dataframe thead th {\n",
       "        text-align: right;\n",
       "    }\n",
       "</style>\n",
       "<table border=\"1\" class=\"dataframe\">\n",
       "  <thead>\n",
       "    <tr style=\"text-align: right;\">\n",
       "      <th></th>\n",
       "      <th>Section</th>\n",
       "      <th>Standard_num</th>\n",
       "      <th>Standard_title</th>\n",
       "      <th>Standard_formal</th>\n",
       "      <th>Definitions</th>\n",
       "      <th>Basis_for_judgement</th>\n",
       "      <th>Supporting_docs</th>\n",
       "    </tr>\n",
       "  </thead>\n",
       "  <tbody>\n",
       "    <tr>\n",
       "      <th>0</th>\n",
       "      <td>1</td>\n",
       "      <td>1</td>\n",
       "      <td>Strategic Planning</td>\n",
       "      <td>STANDARD 1: STRATEGIC PLANNING1.1 The school m...</td>\n",
       "      <td>• Mission is a single statement or set of stat...</td>\n",
       "      <td>1.1 Maintenance of a Strategic Plan  \\n• The s...</td>\n",
       "      <td>1.1 Maintenance of a Strategic Plan  \\n• Provi...</td>\n",
       "    </tr>\n",
       "    <tr>\n",
       "      <th>1</th>\n",
       "      <td>1</td>\n",
       "      <td>2</td>\n",
       "      <td>Physical, Virtual and Financial Resources</td>\n",
       "      <td>STANDARD 2: PHYSICAL, VIRTUAL, AND FINANCIAL R...</td>\n",
       "      <td>• Physical resources include buildings, furnit...</td>\n",
       "      <td>2.1 Physical Resources  \\r\\n• The school has l...</td>\n",
       "      <td>2.1 Physical Resources  \\n• Describe the space...</td>\n",
       "    </tr>\n",
       "    <tr>\n",
       "      <th>2</th>\n",
       "      <td>1</td>\n",
       "      <td>3</td>\n",
       "      <td>Faculty and Professional Staff Resources</td>\n",
       "      <td>STANDARD 3: FACULTY AND PROFESSIONAL STAFF RES...</td>\n",
       "      <td>• A participating faculty member actively and ...</td>\n",
       "      <td>3.1 Faculty Sufficiency  \\r\\n• A school adopts...</td>\n",
       "      <td>3.1 and 3.2 Faculty Sufficiency and Faculty Qu...</td>\n",
       "    </tr>\n",
       "    <tr>\n",
       "      <th>3</th>\n",
       "      <td>2</td>\n",
       "      <td>4</td>\n",
       "      <td>Curriculum</td>\n",
       "      <td>STANDARD 4: CURRICULUM 4.1 The school delivers...</td>\n",
       "      <td>• A curriculum is composed of program content,...</td>\n",
       "      <td>4.1 Curriculum Content  \\n• Contents of degree...</td>\n",
       "      <td>4.1 Curriculum Content  \\r\\n• Describe learnin...</td>\n",
       "    </tr>\n",
       "    <tr>\n",
       "      <th>4</th>\n",
       "      <td>2</td>\n",
       "      <td>5</td>\n",
       "      <td>Assurance of Learning</td>\n",
       "      <td>STANDARD 5: ASSURANCE OF LEARNING\\r\\n5.1 The s...</td>\n",
       "      <td>• Assurance of learning (AoL) refers to the sy...</td>\n",
       "      <td>5.1 Assurance of Learning Processes  \\n• The s...</td>\n",
       "      <td>5.1 Assurance of Learning Processes  \\n• For e...</td>\n",
       "    </tr>\n",
       "    <tr>\n",
       "      <th>5</th>\n",
       "      <td>2</td>\n",
       "      <td>6</td>\n",
       "      <td>Learner Progression</td>\n",
       "      <td>STANDARD 6: LEARNER PROGRESSION\\r\\n6.1 The sch...</td>\n",
       "      <td>NaN</td>\n",
       "      <td>6.1 Admissions, Progression, Degree Completion...</td>\n",
       "      <td>6.1 Admissions, Progression, Degree Completion...</td>\n",
       "    </tr>\n",
       "    <tr>\n",
       "      <th>6</th>\n",
       "      <td>2</td>\n",
       "      <td>7</td>\n",
       "      <td>Teaching Effectiveness and Impact</td>\n",
       "      <td>STANDARD 7: TEACHING EFFECTIVENESS AND IMPACT ...</td>\n",
       "      <td>NaN</td>\n",
       "      <td>7.1 Teaching Effectiveness  \\n• The school has...</td>\n",
       "      <td>7.1 Teaching Effectiveness • Describe how the ...</td>\n",
       "    </tr>\n",
       "    <tr>\n",
       "      <th>7</th>\n",
       "      <td>3</td>\n",
       "      <td>8</td>\n",
       "      <td>Impact of Scholarship</td>\n",
       "      <td>STANDARD 8: IMPACT OF SCHOLARSHIP 8.1 The scho...</td>\n",
       "      <td>\"Society in this context refers to external st...</td>\n",
       "      <td>8.1 The Production of High Quality, Impactful ...</td>\n",
       "      <td>8.1 The Production of High Quality, Impactful ...</td>\n",
       "    </tr>\n",
       "    <tr>\n",
       "      <th>8</th>\n",
       "      <td>3</td>\n",
       "      <td>9</td>\n",
       "      <td>Engagement and Societal Impact</td>\n",
       "      <td>STANDARD 9: ENGAGEMENT AND SOCIETAL IMPACT\\r\\n...</td>\n",
       "      <td>Societal impact refers to how a school makes a...</td>\n",
       "      <td>9.1 Positive Societal Impact  \\n• The school h...</td>\n",
       "      <td>9.1 Positive Societal Impact • Outline the maj...</td>\n",
       "    </tr>\n",
       "  </tbody>\n",
       "</table>\n",
       "</div>"
      ],
      "text/plain": [
       "   Section  Standard_num                             Standard_title  \\\n",
       "0        1             1                         Strategic Planning   \n",
       "1        1             2  Physical, Virtual and Financial Resources   \n",
       "2        1             3   Faculty and Professional Staff Resources   \n",
       "3        2             4                                 Curriculum   \n",
       "4        2             5                      Assurance of Learning   \n",
       "5        2             6                        Learner Progression   \n",
       "6        2             7          Teaching Effectiveness and Impact   \n",
       "7        3             8                      Impact of Scholarship   \n",
       "8        3             9             Engagement and Societal Impact   \n",
       "\n",
       "                                     Standard_formal  \\\n",
       "0  STANDARD 1: STRATEGIC PLANNING1.1 The school m...   \n",
       "1  STANDARD 2: PHYSICAL, VIRTUAL, AND FINANCIAL R...   \n",
       "2  STANDARD 3: FACULTY AND PROFESSIONAL STAFF RES...   \n",
       "3  STANDARD 4: CURRICULUM 4.1 The school delivers...   \n",
       "4  STANDARD 5: ASSURANCE OF LEARNING\\r\\n5.1 The s...   \n",
       "5  STANDARD 6: LEARNER PROGRESSION\\r\\n6.1 The sch...   \n",
       "6  STANDARD 7: TEACHING EFFECTIVENESS AND IMPACT ...   \n",
       "7  STANDARD 8: IMPACT OF SCHOLARSHIP 8.1 The scho...   \n",
       "8  STANDARD 9: ENGAGEMENT AND SOCIETAL IMPACT\\r\\n...   \n",
       "\n",
       "                                         Definitions  \\\n",
       "0  • Mission is a single statement or set of stat...   \n",
       "1  • Physical resources include buildings, furnit...   \n",
       "2  • A participating faculty member actively and ...   \n",
       "3  • A curriculum is composed of program content,...   \n",
       "4  • Assurance of learning (AoL) refers to the sy...   \n",
       "5                                                NaN   \n",
       "6                                                NaN   \n",
       "7  \"Society in this context refers to external st...   \n",
       "8  Societal impact refers to how a school makes a...   \n",
       "\n",
       "                                 Basis_for_judgement  \\\n",
       "0  1.1 Maintenance of a Strategic Plan  \\n• The s...   \n",
       "1  2.1 Physical Resources  \\r\\n• The school has l...   \n",
       "2  3.1 Faculty Sufficiency  \\r\\n• A school adopts...   \n",
       "3  4.1 Curriculum Content  \\n• Contents of degree...   \n",
       "4  5.1 Assurance of Learning Processes  \\n• The s...   \n",
       "5  6.1 Admissions, Progression, Degree Completion...   \n",
       "6  7.1 Teaching Effectiveness  \\n• The school has...   \n",
       "7  8.1 The Production of High Quality, Impactful ...   \n",
       "8  9.1 Positive Societal Impact  \\n• The school h...   \n",
       "\n",
       "                                     Supporting_docs  \n",
       "0  1.1 Maintenance of a Strategic Plan  \\n• Provi...  \n",
       "1  2.1 Physical Resources  \\n• Describe the space...  \n",
       "2  3.1 and 3.2 Faculty Sufficiency and Faculty Qu...  \n",
       "3  4.1 Curriculum Content  \\r\\n• Describe learnin...  \n",
       "4  5.1 Assurance of Learning Processes  \\n• For e...  \n",
       "5  6.1 Admissions, Progression, Degree Completion...  \n",
       "6  7.1 Teaching Effectiveness • Describe how the ...  \n",
       "7  8.1 The Production of High Quality, Impactful ...  \n",
       "8  9.1 Positive Societal Impact • Outline the maj...  "
      ]
     },
     "execution_count": 6,
     "metadata": {},
     "output_type": "execute_result"
    }
   ],
   "source": [
    "import pandas as pd\n",
    "\n",
    "source =r'..\\data\\aacsb\\standards\\Data - STANDARDS.csv'\n",
    "df = pd.read_csv(source)\n",
    "df"
   ]
  },
  {
   "cell_type": "code",
   "execution_count": 7,
   "metadata": {},
   "outputs": [
    {
     "name": "stdout",
     "output_type": "stream",
     "text": [
      "<class 'pandas.core.frame.DataFrame'>\n",
      "RangeIndex: 9 entries, 0 to 8\n",
      "Data columns (total 7 columns):\n",
      " #   Column               Non-Null Count  Dtype \n",
      "---  ------               --------------  ----- \n",
      " 0   Section              9 non-null      int64 \n",
      " 1   Standard_num         9 non-null      int64 \n",
      " 2   Standard_title       9 non-null      object\n",
      " 3   Standard_formal      9 non-null      object\n",
      " 4   Definitions          7 non-null      object\n",
      " 5   Basis_for_judgement  9 non-null      object\n",
      " 6   Supporting_docs      9 non-null      object\n",
      "dtypes: int64(2), object(5)\n",
      "memory usage: 632.0+ bytes\n"
     ]
    }
   ],
   "source": [
    "df.info()"
   ]
  },
  {
   "cell_type": "code",
   "execution_count": 9,
   "metadata": {},
   "outputs": [
    {
     "ename": "TypeError",
     "evalue": "str expected, not NoneType",
     "output_type": "error",
     "traceback": [
      "\u001b[1;31m---------------------------------------------------------------------------\u001b[0m",
      "\u001b[1;31mTypeError\u001b[0m                                 Traceback (most recent call last)",
      "Cell \u001b[1;32mIn[9], line 3\u001b[0m\n\u001b[0;32m      1\u001b[0m \u001b[38;5;28;01mfrom\u001b[39;00m \u001b[38;5;21;01mopenai\u001b[39;00m \u001b[38;5;28;01mimport\u001b[39;00m OpenAI\n\u001b[1;32m----> 3\u001b[0m \u001b[43mos\u001b[49m\u001b[38;5;241;43m.\u001b[39;49m\u001b[43menviron\u001b[49m\u001b[43m[\u001b[49m\u001b[38;5;124;43m\"\u001b[39;49m\u001b[38;5;124;43mOPENAI_API_KEY\u001b[39;49m\u001b[38;5;124;43m\"\u001b[39;49m\u001b[43m]\u001b[49m \u001b[38;5;241m=\u001b[39m os\u001b[38;5;241m.\u001b[39mgetenv(\u001b[38;5;124m\"\u001b[39m\u001b[38;5;124mOPENAIKEY\u001b[39m\u001b[38;5;124m\"\u001b[39m)\n\u001b[0;32m      4\u001b[0m client \u001b[38;5;241m=\u001b[39m OpenAI()\n",
      "File \u001b[1;32m~\\AppData\\Local\\Programs\\Python\\Python310\\lib\\os.py:684\u001b[0m, in \u001b[0;36m_Environ.__setitem__\u001b[1;34m(self, key, value)\u001b[0m\n\u001b[0;32m    682\u001b[0m \u001b[38;5;28;01mdef\u001b[39;00m \u001b[38;5;21m__setitem__\u001b[39m(\u001b[38;5;28mself\u001b[39m, key, value):\n\u001b[0;32m    683\u001b[0m     key \u001b[38;5;241m=\u001b[39m \u001b[38;5;28mself\u001b[39m\u001b[38;5;241m.\u001b[39mencodekey(key)\n\u001b[1;32m--> 684\u001b[0m     value \u001b[38;5;241m=\u001b[39m \u001b[38;5;28;43mself\u001b[39;49m\u001b[38;5;241;43m.\u001b[39;49m\u001b[43mencodevalue\u001b[49m\u001b[43m(\u001b[49m\u001b[43mvalue\u001b[49m\u001b[43m)\u001b[49m\n\u001b[0;32m    685\u001b[0m     putenv(key, value)\n\u001b[0;32m    686\u001b[0m     \u001b[38;5;28mself\u001b[39m\u001b[38;5;241m.\u001b[39m_data[key] \u001b[38;5;241m=\u001b[39m value\n",
      "File \u001b[1;32m~\\AppData\\Local\\Programs\\Python\\Python310\\lib\\os.py:742\u001b[0m, in \u001b[0;36m_createenviron.<locals>.check_str\u001b[1;34m(value)\u001b[0m\n\u001b[0;32m    740\u001b[0m \u001b[38;5;28;01mdef\u001b[39;00m \u001b[38;5;21mcheck_str\u001b[39m(value):\n\u001b[0;32m    741\u001b[0m     \u001b[38;5;28;01mif\u001b[39;00m \u001b[38;5;129;01mnot\u001b[39;00m \u001b[38;5;28misinstance\u001b[39m(value, \u001b[38;5;28mstr\u001b[39m):\n\u001b[1;32m--> 742\u001b[0m         \u001b[38;5;28;01mraise\u001b[39;00m \u001b[38;5;167;01mTypeError\u001b[39;00m(\u001b[38;5;124m\"\u001b[39m\u001b[38;5;124mstr expected, not \u001b[39m\u001b[38;5;132;01m%s\u001b[39;00m\u001b[38;5;124m\"\u001b[39m \u001b[38;5;241m%\u001b[39m \u001b[38;5;28mtype\u001b[39m(value)\u001b[38;5;241m.\u001b[39m\u001b[38;5;18m__name__\u001b[39m)\n\u001b[0;32m    743\u001b[0m     \u001b[38;5;28;01mreturn\u001b[39;00m value\n",
      "\u001b[1;31mTypeError\u001b[0m: str expected, not NoneType"
     ]
    }
   ],
   "source": [
    "from openai import OpenAI\n",
    "\n",
    "os.environ[\"OPENAI_API_KEY\"] = os.getenv(\"OPENAIKEY\")\n",
    "client = OpenAI()\n"
   ]
  }
 ],
 "metadata": {
  "kernelspec": {
   "display_name": "myenv",
   "language": "python",
   "name": "python3"
  },
  "language_info": {
   "codemirror_mode": {
    "name": "ipython",
    "version": 3
   },
   "file_extension": ".py",
   "mimetype": "text/x-python",
   "name": "python",
   "nbconvert_exporter": "python",
   "pygments_lexer": "ipython3",
   "version": "3.10.6"
  }
 },
 "nbformat": 4,
 "nbformat_minor": 2
}
