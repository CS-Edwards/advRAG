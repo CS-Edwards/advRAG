{
 "cells": [
  {
   "cell_type": "code",
   "execution_count": 1,
   "metadata": {},
   "outputs": [
    {
     "name": "stderr",
     "output_type": "stream",
     "text": [
      "\n",
      "[notice] A new release of pip available: 22.2.1 -> 24.0\n",
      "[notice] To update, run: python.exe -m pip install --upgrade pip\n",
      "\n",
      "[notice] A new release of pip available: 22.2.1 -> 24.0\n",
      "[notice] To update, run: python.exe -m pip install --upgrade pip\n",
      "\n",
      "[notice] A new release of pip available: 22.2.1 -> 24.0\n",
      "[notice] To update, run: python.exe -m pip install --upgrade pip\n",
      "\n",
      "[notice] A new release of pip available: 22.2.1 -> 24.0\n",
      "[notice] To update, run: python.exe -m pip install --upgrade pip\n",
      "\n",
      "[notice] A new release of pip available: 22.2.1 -> 24.0\n",
      "[notice] To update, run: python.exe -m pip install --upgrade pip\n"
     ]
    }
   ],
   "source": [
    "! pip install -q python-dotenv\n",
    "! pip install -q neo4j\n",
    "! pip install -q langchain\n",
    "! pip install -q langchain-openai\n",
    "! pip install -q tiktoken"
   ]
  },
  {
   "cell_type": "code",
   "execution_count": 2,
   "metadata": {},
   "outputs": [],
   "source": [
    "import dotenv\n",
    "import os\n",
    "\n",
    "dotenv.load_dotenv()\n",
    "\n",
    "os.environ[\"NEO4J_URI\"] = os.getenv(\"URL\")\n",
    "os.environ[\"NEO4J_USERNAME\"]= os.getenv(\"USERNAME\")\n",
    "os.environ[\"NEO4J_PASSWORD\"] = os.getenv(\"PASSWORD2\")\n",
    "os.environ[\"OPENAI_API_KEY\"] = os.getenv(\"OPENAIKEY\")"
   ]
  },
  {
   "cell_type": "code",
   "execution_count": 3,
   "metadata": {},
   "outputs": [],
   "source": [
    "from langchain_community.graphs import Neo4jGraph\n",
    "import sys\n",
    "sys.path.append('../utils')  \n",
    "from helper import write_chunks_to_df\n"
   ]
  },
  {
   "cell_type": "code",
   "execution_count": 4,
   "metadata": {},
   "outputs": [],
   "source": [
    "graphDB = Neo4jGraph()"
   ]
  },
  {
   "cell_type": "code",
   "execution_count": 6,
   "metadata": {},
   "outputs": [],
   "source": [
    "#graphDB.query(\"SHOW INDEXES\")"
   ]
  },
  {
   "cell_type": "code",
   "execution_count": 7,
   "metadata": {},
   "outputs": [
    {
     "data": {
      "text/plain": [
       "[]"
      ]
     },
     "execution_count": 7,
     "metadata": {},
     "output_type": "execute_result"
    }
   ],
   "source": [
    "#\n",
    "# Initialize Semantic Vector Index\n",
    "#\n",
    "# DOCS: https://neo4j.com/docs/cypher-manual/current/indexes/semantic-indexes/vector-indexes/\n",
    "#\n",
    "\n",
    "vector_index_query=\"\"\" \n",
    "CALL db.index.vector.createNodeIndex(\n",
    "  'accreditation_index',\n",
    "  'Chunk',\n",
    "  'embedding',\n",
    "   1536,\n",
    "  'cosine'\n",
    ")\n",
    "\"\"\"\n",
    "\n",
    "graphDB.query(vector_index_query)"
   ]
  },
  {
   "cell_type": "code",
   "execution_count": 8,
   "metadata": {},
   "outputs": [
    {
     "data": {
      "text/plain": [
       "[{'id': 5,\n",
       "  'name': 'accreditation_index',\n",
       "  'state': 'ONLINE',\n",
       "  'populationPercent': 100.0,\n",
       "  'type': 'VECTOR',\n",
       "  'entityType': 'NODE',\n",
       "  'labelsOrTypes': ['Chunk'],\n",
       "  'properties': ['embedding'],\n",
       "  'indexProvider': 'vector-1.0',\n",
       "  'owningConstraint': None,\n",
       "  'lastRead': None,\n",
       "  'readCount': 0},\n",
       " {'id': 1,\n",
       "  'name': 'index_343aff4e',\n",
       "  'state': 'ONLINE',\n",
       "  'populationPercent': 100.0,\n",
       "  'type': 'LOOKUP',\n",
       "  'entityType': 'NODE',\n",
       "  'labelsOrTypes': None,\n",
       "  'properties': None,\n",
       "  'indexProvider': 'token-lookup-1.0',\n",
       "  'owningConstraint': None,\n",
       "  'lastRead': neo4j.time.DateTime(2024, 4, 17, 5, 29, 23, 62000000, tzinfo=<UTC>),\n",
       "  'readCount': 802},\n",
       " {'id': 2,\n",
       "  'name': 'index_f7700477',\n",
       "  'state': 'ONLINE',\n",
       "  'populationPercent': 100.0,\n",
       "  'type': 'LOOKUP',\n",
       "  'entityType': 'RELATIONSHIP',\n",
       "  'labelsOrTypes': None,\n",
       "  'properties': None,\n",
       "  'indexProvider': 'token-lookup-1.0',\n",
       "  'owningConstraint': None,\n",
       "  'lastRead': None,\n",
       "  'readCount': 0},\n",
       " {'id': 3,\n",
       "  'name': 'unique_node',\n",
       "  'state': 'ONLINE',\n",
       "  'populationPercent': 100.0,\n",
       "  'type': 'RANGE',\n",
       "  'entityType': 'NODE',\n",
       "  'labelsOrTypes': ['Session'],\n",
       "  'properties': ['sectionNum'],\n",
       "  'indexProvider': 'range-1.0',\n",
       "  'owningConstraint': 'unique_node',\n",
       "  'lastRead': None,\n",
       "  'readCount': 0}]"
      ]
     },
     "execution_count": 8,
     "metadata": {},
     "output_type": "execute_result"
    }
   ],
   "source": [
    "graphDB.query(\"SHOW INDEXES\")"
   ]
  },
  {
   "cell_type": "markdown",
   "metadata": {},
   "source": [
    "### Generate Vector Embeddings"
   ]
  },
  {
   "cell_type": "code",
   "execution_count": 9,
   "metadata": {},
   "outputs": [],
   "source": [
    "#\n",
    "#  Query All Chunks without embedding\n",
    "#\n",
    "\n",
    "all_chunks_query = \"\"\" \n",
    "MATCH (c:Chunk) \n",
    "WHERE c.embedding IS null OR c.embedding = 0\n",
    "RETURN c\n",
    "\"\"\"\n",
    "\n",
    "\n",
    "# attach embedding to chunk.embedding\n",
    "vector_to_chunk_query = \"\"\" \n",
    "MATCH (c:Chunk {UUID: $UUID})\n",
    "SET c.embedding = $vector\n",
    "\"\"\""
   ]
  },
  {
   "cell_type": "code",
   "execution_count": 10,
   "metadata": {},
   "outputs": [],
   "source": [
    "result = graphDB.query(all_chunks_query)"
   ]
  },
  {
   "cell_type": "code",
   "execution_count": 11,
   "metadata": {},
   "outputs": [],
   "source": [
    "#\n",
    "# Generate Vectors for Chunk.text and update Chunk.embedding\n",
    "#\n",
    "\n",
    "chunk_dataframe = write_chunks_to_df(result)"
   ]
  },
  {
   "cell_type": "code",
   "execution_count": 13,
   "metadata": {},
   "outputs": [
    {
     "name": "stdout",
     "output_type": "stream",
     "text": [
      "<class 'pandas.core.frame.DataFrame'>\n",
      "RangeIndex: 208 entries, 0 to 207\n",
      "Data columns (total 3 columns):\n",
      " #   Column    Non-Null Count  Dtype \n",
      "---  ------    --------------  ----- \n",
      " 0   text      208 non-null    object\n",
      " 1   nodeType  208 non-null    object\n",
      " 2   UUID      208 non-null    object\n",
      "dtypes: object(3)\n",
      "memory usage: 5.0+ KB\n"
     ]
    }
   ],
   "source": [
    "#chunk_dataframe.head()\n",
    "chunk_dataframe.info()"
   ]
  },
  {
   "cell_type": "code",
   "execution_count": 14,
   "metadata": {},
   "outputs": [],
   "source": [
    "#\n",
    "# Chunk embedding function\n",
    "# \n",
    "# DOCS: https://platform.openai.com/docs/guides/embeddings/use-cases\n",
    "#\n",
    "\n",
    "\n",
    "from openai import OpenAI\n",
    "\n",
    "client =OpenAI()\n",
    "\n",
    "#MODEL =  \"text-embedding-3-small\"\n",
    "MODEL = \"text-embedding-ada-002\"\n",
    "\n",
    "def get_embedding(text, model = MODEL):\n",
    "\n",
    "    text = text.replace(\"\\n\",\" \")\n",
    "\n",
    "    return client.embeddings.create(input=[text], model=model).data[0].embedding"
   ]
  },
  {
   "cell_type": "code",
   "execution_count": 15,
   "metadata": {},
   "outputs": [],
   "source": [
    "chunk_dataframe['vector'] = chunk_dataframe['text'].apply(lambda x:get_embedding(x))"
   ]
  },
  {
   "cell_type": "code",
   "execution_count": 16,
   "metadata": {},
   "outputs": [
    {
     "data": {
      "text/html": [
       "<div>\n",
       "<style scoped>\n",
       "    .dataframe tbody tr th:only-of-type {\n",
       "        vertical-align: middle;\n",
       "    }\n",
       "\n",
       "    .dataframe tbody tr th {\n",
       "        vertical-align: top;\n",
       "    }\n",
       "\n",
       "    .dataframe thead th {\n",
       "        text-align: right;\n",
       "    }\n",
       "</style>\n",
       "<table border=\"1\" class=\"dataframe\">\n",
       "  <thead>\n",
       "    <tr style=\"text-align: right;\">\n",
       "      <th></th>\n",
       "      <th>text</th>\n",
       "      <th>nodeType</th>\n",
       "      <th>UUID</th>\n",
       "      <th>vector</th>\n",
       "    </tr>\n",
       "  </thead>\n",
       "  <tbody>\n",
       "    <tr>\n",
       "      <th>0</th>\n",
       "      <td>standard 1 strategic planning1.1 school mainta...</td>\n",
       "      <td>DATACHUNK</td>\n",
       "      <td>fb8549d4-efa5-4c55-a7d3-87522a416b98</td>\n",
       "      <td>[0.002811488462612033, 0.0041966927237808704, ...</td>\n",
       "    </tr>\n",
       "    <tr>\n",
       "      <th>1</th>\n",
       "      <td>progress planned strategies expected outcomes ...</td>\n",
       "      <td>DATACHUNK</td>\n",
       "      <td>d6e18b0a-2aca-4de8-a294-e6160f186a0d</td>\n",
       "      <td>[-0.01016693189740181, 0.0034439638257026672, ...</td>\n",
       "    </tr>\n",
       "    <tr>\n",
       "      <th>2</th>\n",
       "      <td>1.1 maintenance strategic plan school mission ...</td>\n",
       "      <td>DATACHUNK</td>\n",
       "      <td>a67bc7ec-d5f2-44c4-a6e0-6d1e94af611b</td>\n",
       "      <td>[-0.008482272736728191, -0.010247484780848026,...</td>\n",
       "    </tr>\n",
       "    <tr>\n",
       "      <th>3</th>\n",
       "      <td>plan . strategic plan developed refined engage...</td>\n",
       "      <td>DATACHUNK</td>\n",
       "      <td>e143576e-9893-4999-a5f7-a898d3388193</td>\n",
       "      <td>[0.0022559347562491894, 0.0026812339201569557,...</td>\n",
       "    </tr>\n",
       "    <tr>\n",
       "      <th>4</th>\n",
       "      <td>serve including level degree programs school o...</td>\n",
       "      <td>DATACHUNK</td>\n",
       "      <td>eecdf569-2c10-4574-ab4a-a8f6117a0b6d</td>\n",
       "      <td>[0.007008944638073444, 0.008684996515512466, -...</td>\n",
       "    </tr>\n",
       "  </tbody>\n",
       "</table>\n",
       "</div>"
      ],
      "text/plain": [
       "                                                text   nodeType  \\\n",
       "0  standard 1 strategic planning1.1 school mainta...  DATACHUNK   \n",
       "1  progress planned strategies expected outcomes ...  DATACHUNK   \n",
       "2  1.1 maintenance strategic plan school mission ...  DATACHUNK   \n",
       "3  plan . strategic plan developed refined engage...  DATACHUNK   \n",
       "4  serve including level degree programs school o...  DATACHUNK   \n",
       "\n",
       "                                   UUID  \\\n",
       "0  fb8549d4-efa5-4c55-a7d3-87522a416b98   \n",
       "1  d6e18b0a-2aca-4de8-a294-e6160f186a0d   \n",
       "2  a67bc7ec-d5f2-44c4-a6e0-6d1e94af611b   \n",
       "3  e143576e-9893-4999-a5f7-a898d3388193   \n",
       "4  eecdf569-2c10-4574-ab4a-a8f6117a0b6d   \n",
       "\n",
       "                                              vector  \n",
       "0  [0.002811488462612033, 0.0041966927237808704, ...  \n",
       "1  [-0.01016693189740181, 0.0034439638257026672, ...  \n",
       "2  [-0.008482272736728191, -0.010247484780848026,...  \n",
       "3  [0.0022559347562491894, 0.0026812339201569557,...  \n",
       "4  [0.007008944638073444, 0.008684996515512466, -...  "
      ]
     },
     "execution_count": 16,
     "metadata": {},
     "output_type": "execute_result"
    }
   ],
   "source": [
    "chunk_dataframe.head()"
   ]
  },
  {
   "cell_type": "code",
   "execution_count": 17,
   "metadata": {},
   "outputs": [],
   "source": [
    "for i, row in chunk_dataframe.iterrows():\n",
    "\n",
    "    graphDB.query(vector_to_chunk_query, \n",
    "                params ={\n",
    "                    'UUID':row['UUID'],\n",
    "                    'vector':row['vector']\n",
    "                })"
   ]
  },
  {
   "cell_type": "markdown",
   "metadata": {},
   "source": [
    "### Queries"
   ]
  },
  {
   "cell_type": "code",
   "execution_count": null,
   "metadata": {},
   "outputs": [],
   "source": []
  },
  {
   "cell_type": "code",
   "execution_count": 21,
   "metadata": {},
   "outputs": [],
   "source": [
    "semantic_index_query = \"\"\"\n",
    "\n",
    "CALL db.index.vector.queryNodes('accreditation_index', 2, $inputVector)\n",
    "YIELD node AS responseNode, score\n",
    "\n",
    "RETURN responseNode.text, score \n",
    "\"\"\""
   ]
  },
  {
   "cell_type": "code",
   "execution_count": 31,
   "metadata": {},
   "outputs": [],
   "source": [
    "query_text = \"what are aacsb standard\"\n",
    "query_vector = get_embedding(query_text)\n",
    "query_result = graphDB.query(semantic_index_query, \n",
    "                                params={\n",
    "                                    \"inputVector\":query_vector\n",
    "                                })"
   ]
  },
  {
   "cell_type": "code",
   "execution_count": 32,
   "metadata": {},
   "outputs": [
    {
     "data": {
      "text/plain": [
       "[{'responseNode.text': '3.1 faculty sufficiency school adopts applies criteria documenting faculty members participating supporting consistent mission . school adapt guidance particular situation mission developing implementing criteria indicate school meeting spirit intent standard . criteria address activities required attain participating supporting status depth breadth activities expected within typical aacsb accreditation review cycle maintain participating supporting status . criteria periodically reviewed',\n",
       "  'score': 0.9091740846633911},\n",
       " {'responseNode.text': 'attain participating supporting status depth breadth activities expected within typical aacsb accreditation review cycle maintain participating supporting status . criteria periodically reviewed reflect focus continuous improvement . normally participating faculty members deliver least 75 percent school teaching globally i.e . across entire accredited unit participating faculty members deliver least 60 percent teaching within discipline regardless whether school degree major concentration etc .',\n",
       "  'score': 0.9044413566589355}]"
      ]
     },
     "execution_count": 32,
     "metadata": {},
     "output_type": "execute_result"
    }
   ],
   "source": [
    "query_result"
   ]
  },
  {
   "cell_type": "code",
   "execution_count": 26,
   "metadata": {},
   "outputs": [],
   "source": [
    "#\n",
    "# Standard QA\n",
    "#\n",
    "from langchain_community.vectorstores import Neo4jVector\n",
    "\n",
    "VECTOR_INDEX_NAME = 'accreditiation-index'\n",
    "VECTOR_NODE_LABEL = 'Chunk'\n",
    "VECTOR_SOURCE_PROPERTY = 'text'\n",
    "VECTOR_EMBEDDING_PROPERTY='embedding'\n"
   ]
  },
  {
   "cell_type": "code",
   "execution_count": null,
   "metadata": {},
   "outputs": [],
   "source": [
    "#https://python.langchain.com/docs/modules/data_connection/retrievers/MultiQueryRetriever/\n"
   ]
  },
  {
   "cell_type": "markdown",
   "metadata": {},
   "source": []
  },
  {
   "cell_type": "code",
   "execution_count": 28,
   "metadata": {},
   "outputs": [],
   "source": [
    "# Query the knowledge graph in a RAG application\n",
    "from langchain.chains import GraphCypherQAChain\n",
    "from langchain_openai import ChatOpenAI\n",
    "from langchain.prompts import ChatPromptTemplate\n",
    "\n",
    "\n",
    "\n",
    "graphDB.refresh_schema()\n",
    "\n",
    "cypher_chain = GraphCypherQAChain.from_llm(\n",
    "    graph=graphDB,\n",
    "    cypher_llm=ChatOpenAI(temperature=0, model=\"gpt-4\"),\n",
    "    qa_llm=ChatOpenAI(temperature=0, model=\"gpt-3.5-turbo\"),\n",
    "    validate_cypher=True, # Validate relationship directions\n",
    "    verbose=True\n",
    ")"
   ]
  },
  {
   "cell_type": "code",
   "execution_count": 30,
   "metadata": {},
   "outputs": [
    {
     "name": "stdout",
     "output_type": "stream",
     "text": [
      "\n",
      "\n",
      "\u001b[1m> Entering new GraphCypherQAChain chain...\u001b[0m\n",
      "Generated Cypher:\n",
      "\u001b[32;1m\u001b[1;3mMATCH (s:Standard {source: 'AACSB'}) RETURN s\u001b[0m\n",
      "Full Context:\n",
      "\u001b[32;1m\u001b[1;3m[]\u001b[0m\n",
      "\n",
      "\u001b[1m> Finished chain.\u001b[0m\n"
     ]
    },
    {
     "data": {
      "text/plain": [
       "{'query': 'Tell me about AACSB standards',\n",
       " 'result': \"I don't know the answer.\"}"
      ]
     },
     "execution_count": 30,
     "metadata": {},
     "output_type": "execute_result"
    }
   ],
   "source": [
    "#cypher_chain.invoke({\"query\": \"How many learning objectives are assessed\"})\n",
    "#cypher_chain.invoke({\"query\": \"Which student learning goals were identified\"}) # does not know\n",
    "#cypher_chain.invoke({\"query\": \"What are the descriptions of the Learning goal\"}) ## does not know , see still Learning goal example\n",
    "cypher_chain.invoke({\"query\": \"Tell me about AACSB standards\"}) ## does not know , see still Learning goal example\n"
   ]
  },
  {
   "cell_type": "markdown",
   "metadata": {},
   "source": [
    "Out of the box LLM genreate cypher queries are not producing any results, OR are producing errors. @TODO, provide some examples to the mode an oppopriate queries based on the schema. "
   ]
  }
 ],
 "metadata": {
  "kernelspec": {
   "display_name": "myenv",
   "language": "python",
   "name": "python3"
  },
  "language_info": {
   "codemirror_mode": {
    "name": "ipython",
    "version": 3
   },
   "file_extension": ".py",
   "mimetype": "text/x-python",
   "name": "python",
   "nbconvert_exporter": "python",
   "pygments_lexer": "ipython3",
   "version": "3.10.6"
  }
 },
 "nbformat": 4,
 "nbformat_minor": 2
}
