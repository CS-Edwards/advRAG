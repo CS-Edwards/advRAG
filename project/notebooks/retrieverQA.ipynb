{
 "cells": [
  {
   "cell_type": "code",
   "execution_count": 1,
   "metadata": {},
   "outputs": [
    {
     "name": "stderr",
     "output_type": "stream",
     "text": [
      "\n",
      "[notice] A new release of pip available: 22.2.1 -> 24.0\n",
      "[notice] To update, run: python.exe -m pip install --upgrade pip\n",
      "\n",
      "[notice] A new release of pip available: 22.2.1 -> 24.0\n",
      "[notice] To update, run: python.exe -m pip install --upgrade pip\n",
      "\n",
      "[notice] A new release of pip available: 22.2.1 -> 24.0\n",
      "[notice] To update, run: python.exe -m pip install --upgrade pip\n",
      "\n",
      "[notice] A new release of pip available: 22.2.1 -> 24.0\n",
      "[notice] To update, run: python.exe -m pip install --upgrade pip\n",
      "\n",
      "[notice] A new release of pip available: 22.2.1 -> 24.0\n",
      "[notice] To update, run: python.exe -m pip install --upgrade pip\n"
     ]
    }
   ],
   "source": [
    "! pip install -q python-dotenv\n",
    "! pip install -q neo4j\n",
    "! pip install -q langchain\n",
    "! pip install -q langchain-openai\n",
    "! pip install -q tiktoken"
   ]
  },
  {
   "cell_type": "code",
   "execution_count": 2,
   "metadata": {},
   "outputs": [],
   "source": [
    "import dotenv\n",
    "import os\n",
    "\n",
    "dotenv.load_dotenv()\n",
    "\n",
    "os.environ[\"NEO4J_URI\"] = os.getenv(\"URL\")\n",
    "os.environ[\"NEO4J_USERNAME\"]= os.getenv(\"USERNAME\")\n",
    "os.environ[\"NEO4J_PASSWORD\"] = os.getenv(\"PASSWORD2\")\n",
    "os.environ[\"OPENAI_API_KEY\"] = os.getenv(\"OPENAIKEY\")"
   ]
  },
  {
   "cell_type": "code",
   "execution_count": 3,
   "metadata": {},
   "outputs": [],
   "source": [
    "from langchain_community.graphs import Neo4jGraph\n"
   ]
  },
  {
   "cell_type": "code",
   "execution_count": 4,
   "metadata": {},
   "outputs": [],
   "source": [
    "graphDB = Neo4jGraph()"
   ]
  },
  {
   "cell_type": "code",
   "execution_count": 5,
   "metadata": {},
   "outputs": [],
   "source": [
    "#\n",
    "# Documentation: https://platform.openai.com/docs/guides/embeddings/use-cases\n",
    "#\n",
    "\n",
    "\n",
    "from openai import OpenAI\n",
    "\n",
    "client =OpenAI()\n",
    "\n",
    "def get_embedding(text, model = \"text-embedding-3-small\"):\n",
    "\n",
    "    text = text.replace(\"\\n\",\" \")\n",
    "\n",
    "    return client.embeddings.create(input=[text], model=model).data[0].embedding"
   ]
  },
  {
   "cell_type": "code",
   "execution_count": 6,
   "metadata": {},
   "outputs": [
    {
     "data": {
      "text/plain": [
       "[{'id': 3,\n",
       "  'name': 'accreditation-index',\n",
       "  'state': 'ONLINE',\n",
       "  'populationPercent': 100.0,\n",
       "  'type': 'VECTOR',\n",
       "  'entityType': 'NODE',\n",
       "  'labelsOrTypes': ['Chunk'],\n",
       "  'properties': ['embedding'],\n",
       "  'indexProvider': 'vector-1.0',\n",
       "  'owningConstraint': None,\n",
       "  'lastRead': None,\n",
       "  'readCount': 0},\n",
       " {'id': 1,\n",
       "  'name': 'index_343aff4e',\n",
       "  'state': 'ONLINE',\n",
       "  'populationPercent': 100.0,\n",
       "  'type': 'LOOKUP',\n",
       "  'entityType': 'NODE',\n",
       "  'labelsOrTypes': None,\n",
       "  'properties': None,\n",
       "  'indexProvider': 'token-lookup-1.0',\n",
       "  'owningConstraint': None,\n",
       "  'lastRead': neo4j.time.DateTime(2024, 4, 15, 8, 39, 59, 51000000, tzinfo=<UTC>),\n",
       "  'readCount': 44},\n",
       " {'id': 2,\n",
       "  'name': 'index_f7700477',\n",
       "  'state': 'ONLINE',\n",
       "  'populationPercent': 100.0,\n",
       "  'type': 'LOOKUP',\n",
       "  'entityType': 'RELATIONSHIP',\n",
       "  'labelsOrTypes': None,\n",
       "  'properties': None,\n",
       "  'indexProvider': 'token-lookup-1.0',\n",
       "  'owningConstraint': None,\n",
       "  'lastRead': None,\n",
       "  'readCount': 0}]"
      ]
     },
     "execution_count": 6,
     "metadata": {},
     "output_type": "execute_result"
    }
   ],
   "source": [
    "graphDB.query(\"SHOW INDEXES\")"
   ]
  },
  {
   "cell_type": "code",
   "execution_count": 7,
   "metadata": {},
   "outputs": [],
   "source": [
    "semantic_index_query = \"\"\"\n",
    "\n",
    "CALL db.index.vector.queryNodes('accreditation-index', 2, $inputVector)\n",
    "YIELD node AS responseNode, score\n",
    "\n",
    "RETURN responseNode.text, score \n",
    "\"\"\""
   ]
  },
  {
   "cell_type": "code",
   "execution_count": 8,
   "metadata": {},
   "outputs": [],
   "source": [
    "query_text = \"what are the marketing courses\"\n",
    "query_vector = get_embedding(query_text)\n",
    "\n",
    "query_result = graphDB.query(semantic_index_query, \n",
    "                                params={\n",
    "                                    \"inputVector\":query_vector\n",
    "                                })"
   ]
  },
  {
   "cell_type": "code",
   "execution_count": 9,
   "metadata": {},
   "outputs": [
    {
     "data": {
      "text/plain": [
       "[{'responseNode.text': 'BBA Objective 2 .3: Demonstrate basic functional abilities across core business subjects  \\nBecause this goal covers a large area of knowledge, two courses taken by all business majors w as \\nassessed in addition to using the ETS exam as an overall assessment.   \\n LENB 3135 was used to assess how well students could discuss the laws that relate to contracts, \\nincluding the UCC. In 14- 15, the fall semester students met or exceed the target at an 80% rate while the \\nspring semester seemed to be an anomaly as only 62% met or exceeded the target. The same assessment was used in 15- 16. For fall semester, 74% met or exceeded expectations, and in spring 16, \\n72% met or exceeded expectations . \\n \\nMKTG 3161 was used to assess how well students identify key marketing concepts and apply them to \\nreal-world business problems. In 13- 14, 68% met the target, but another 16% only missed by 1 question. \\nThis assessment was  continued with continued emphasis on repetition of the key concepts for the 14- 15 \\nyear.  In 14- 15, 81% of students met or exceeded the target. This was higher than the goal of 80%. More \\nemphasis was given on missed questions in past semesters in an effort to further improve student \\nlearning and capability to apply the concepts to real -world business problems. The 80% goal remains a \\nstretch for non -marketing majors which make up the majority of the class. The same assessment was \\nused again in 15- 16, but the post questions were included on the final exam rather than a separate post -\\ntest. This increased the value of the questions to the students and 93% of students taking both the pre \\nand post questions scored the targeted 80% or higher on th e post questions.  \\n \\nThe Undergraduate Curriculum Committee decided that only the ETS will be used in the future to assess \\ncore business knowledge so the LENB 3135 and MKTG 3161 assessments will not be repeated next \\nyear.',\n",
       "  'score': 0.7234091758728027},\n",
       " {'responseNode.text': 'core business knowledge so the LENB 3135 and MKTG 3161 assessments will not be repeated next \\nyear.  \\n The assessment of student knowledge of core business concepts ( including accounting, finance, creation',\n",
       "  'score': 0.7138915061950684}]"
      ]
     },
     "execution_count": 9,
     "metadata": {},
     "output_type": "execute_result"
    }
   ],
   "source": [
    "query_result"
   ]
  },
  {
   "cell_type": "code",
   "execution_count": 11,
   "metadata": {},
   "outputs": [],
   "source": [
    "#\n",
    "# Standard QA\n",
    "#\n",
    "from langchain_community.vectorstores import Neo4jVector\n",
    "\n",
    "VECTOR_INDEX_NAME = 'accreditiation-index'\n",
    "VECTOR_NODE_LABEL = 'Chunk'\n",
    "VECTOR_SOURCE_PROPERTY = 'text'\n",
    "VECTOR_EMBEDDING_PROPERTY='embedding'\n"
   ]
  },
  {
   "cell_type": "code",
   "execution_count": null,
   "metadata": {},
   "outputs": [],
   "source": [
    "#https://python.langchain.com/docs/modules/data_connection/retrievers/MultiQueryRetriever/\n"
   ]
  }
 ],
 "metadata": {
  "kernelspec": {
   "display_name": "myenv",
   "language": "python",
   "name": "python3"
  },
  "language_info": {
   "codemirror_mode": {
    "name": "ipython",
    "version": 3
   },
   "file_extension": ".py",
   "mimetype": "text/x-python",
   "name": "python",
   "nbconvert_exporter": "python",
   "pygments_lexer": "ipython3",
   "version": "3.10.6"
  }
 },
 "nbformat": 4,
 "nbformat_minor": 2
}
